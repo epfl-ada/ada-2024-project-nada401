import pandas as pd
import numpy as np
import pickle
import gzip
from datetime import datetime
%matplotlib inline
import matplotlib.pyplot as plt
from load_file import load_dataframes
import seaborn as sns
%load_ext autoreload
%autoreload 2


def format_attribute_ratings(ratings):
   
    '''
    formatted  all attributes of ratings dataframe
    '''
    ratings['user_id'] = ratings['user_id'].astype(str)
    ratings['rating'] = ratings['rating'].astype(float)
    ratings['abv'] = ratings['abv'].astype(float)
    ratings['appearance'] = ratings['appearance'].astype(float)
    ratings['aroma'] = ratings['aroma'].astype(float)
    ratings['palate'] = ratings['palate'].astype(float)
    ratings['taste'] = ratings['taste'].astype(float)
    ratings['overall'] = ratings['overall'].astype(float)
    ratings['date'] = ratings['date'].astype(int)
    ratings['date'] = ratings['date'].apply(lambda data_seconds : datetime.fromtimestamp(data_seconds).date())
    
    return ratings
    
def format_attribute_beers(beers):
   
    '''
    formatted  all attributes of beers dataframe
    '''

    beers['nbr_ratings'] = beers['nbr_ratings'].astype(int)
    beers['overall_score'] = beers['overall_score'].astype(float)
    beers['style_score'] = beers['style_score'].astype(float)
    beers['avg'] = beers['avg'].astype(float)
    beers['abv'] = beers['abv'].astype(float)
    beers['avg_computed']  = beers['avg_computed'].astype(float)
    beers['zscore'] = beers['zscore'].astype(float)
    beers['nbr_matched_valid_ratings'] = beers['nbr_matched_valid_ratings'].astype(int)
    beers['avg_matched_valid_ratings'] = beers['avg_matched_valid_ratings'].astype(float)
    
    return beers

    
def format_attribute_breweries(brewery):
   
    '''
    formatted  attributes of brewerie dataframe
    '''
    brewery['nbr_beers']=brewery['nbr_beers'].astype(int)
   
    return brewery

def format_attribute_tagged(tagged):
    '''
    formatted  attributes of tagged
    '''
    tagged['user_id'] = tagged['user_id'].astype(str)
    tagged['date'] = tagged['date'].astype(int)
    tagged['date'] = tagged['date'].apply(lambda data_seconds : datetime.fromtimestamp(data_seconds).date())

    return tagged



# load dataframes


#path to the folder data, containing RateBeer and BeerAdvocate folder
FOLDER_PATH = "/Users/manuelcurnis/Desktop/EPFL first semester/Applied Data Analysis/data"


beer_RB, breweries_RB, users_RB, ratings_RB, tagged_RB, beer_BA, breweries_BA, users_BA, ratings_BA, tagged_BA = load_dataframes(FOLDER_PATH)


# rating database


ratings_RB.head(5)


ratings_RB.dtypes


#format attributes
ratings_RB = format_attribute_ratings(ratings_RB)
ratings_BA = format_attribute_ratings(ratings_BA)


# breweries database


breweries_RB.head(5)


#format attributes
breweries_RB = format_attribute_breweries(breweries_RB)


breweries_BA = format_attribute_breweries(breweries_BA)


tagged_BA=format_attribute_tagged(tagged_BA)
tagged_RB=format_attribute_tagged(tagged_RB)


#beers database


beer_RB.head(5)


beer_RB.dtypes


#format attriutes
beer_RB = format_attribute_beers(beer_RB)








#check that the beer index in the dataframe is unique 
beer_RB['beer_id'].is_unique


beer_RB['beer_name'].is_unique


# that is because beer_id refers to a specif beer in a specific brewerie


# number of beers in the database
len(beer_RB)





len(beer_RB[beer_RB['nbr_ratings']>3])





len(beer_RB[beer_RB['nbr_ratings']==0])





beer_RB = beer_RB[beer_RB['nbr_ratings']>3]
len(beer_RB)








len(ratings_RB)


len(ratings_RB['user_id'].unique())





ratings_RB = ratings_RB[ratings_RB['beer_id'].isin(beer_RB['beer_id'].values)]


len(ratings_RB)





ratings_RB['text'].isnull().sum()


#add a column review, True if there is a valid text (i.e a non null and not empty review), false otherwise
ratings_RB['review']=ratings_RB['text'].apply(lambda text: pd.notna(text) and str(text).strip() != '')


#check if appearance, aroma, palate, taste ,overall,rating columns contain NaN values


print(ratings_RB['aroma'].isna().sum())
print(ratings_RB['appearance'].isna().sum())
print(ratings_RB['palate'].isna().sum())
print(ratings_RB['taste'].isna().sum())
print(ratings_RB['overall'].isna().sum())
print(ratings_RB['rating'].isna().sum())


ratings_RB_grouped=ratings_RB.groupby(['user_id'])['beer_name'].agg(['size'])
ratings_RB_grouped


len(ratings_RB_grouped[ratings_RB_grouped['size']>=4])








ratings_RB_grouped_beer = ratings_RB.groupby(['beer_id'])[['appearance', 'aroma', 'palate', 'taste', 'overall','rating']].agg(['mean','std'])
columns_name = ['app_mean', 'app_std', 'ar_mean', 'ar_std', 'pal_mean','pal_std', 'taste_mean', 'taste_std', 'ov_mean', 'ov_std', 'rat_mean','rat_std'] 
ratings_RB_grouped_beer.columns=columns_name
ratings_RB_grouped_beer


assert len(ratings_RB_grouped_beer) == len(beer_RB)


len(ratings_RB_grouped_beer) == len(beer_RB)


beer_RB_extract = beer_RB[['beer_id', 'beer_name','brewery_id','brewery_name','style',  'nbr_ratings']]
beer_RB_merged =pd.merge(beer_RB_extract, ratings_RB_grouped_beer, left_on='beer_id', right_index=True)


beer_RB_merged





ratings_RB = pd.merge(ratings_RB, tagged_RB, left_on=['beer_id', 'date', 'user_id'],right_on=['beer_id', 'date', 'user_id'], how='inner')


ratings_RB.dtypes


ratings_RB.head(5)


ratings_BA





ratings_BA['review']=ratings_BA['text'].apply(lambda text: pd.notna(text) and str(text).strip() != '')


ratings_BA.head(3)


ratings_BA = pd.merge(ratings_BA, tagged_BA, left_on=['beer_id', 'date', 'user_id'],right_on=['beer_id', 'date', 'user_id'], how='inner')


ratings_BA.head(5)


ratings_BA.head(5)






