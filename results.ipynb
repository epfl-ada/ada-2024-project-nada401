{
 "cells": [
  {
   "cell_type": "markdown",
   "metadata": {},
   "source": [
    "# Results\n",
    "\n",
    "*Team: nada401*\n",
    "\n",
    "In this Notebook we present the initial results of our project.\n",
    "\n",
    "Structure:\n",
    "- Data cleaning and exploration\n",
    "    - Language tagging\n",
    "    - Data cleaning\n",
    "- Expert-metric"
   ]
  },
  {
   "cell_type": "code",
   "execution_count": 1,
   "metadata": {},
   "outputs": [],
   "source": [
    "import pandas as pd"
   ]
  },
  {
   "cell_type": "markdown",
   "metadata": {},
   "source": [
    "### Reproducibility\n",
    "\n",
    "To reproduce the results of this notebook first download the datasets from [here](https://drive.google.com/drive/folders/1Wz6D2FM25ydFw_-41I9uTwG9uNsN4TCF) and unzip them in `./data/`.\n",
    "\n",
    "Only the datasets\n",
    "- `RateBeer`\n",
    "- `BeerAdvocate`\n",
    "are used for this part of the project.\n",
    "\n",
    "### Notation\n",
    "\n",
    "To distinguish the two datasets, a common naming scheme has been used, in particular:\n",
    "- `*_RB` contains data from RateBeer\n",
    "- `*_BA` contains data from BeerAdvocate"
   ]
  },
  {
   "cell_type": "markdown",
   "metadata": {},
   "source": [
    "## Data cleaning and exploration\n",
    "\n",
    "The first step into developing this project is cleaning and exploring the data.\n",
    "\n",
    "### Language tagging\n",
    "\n",
    "A first manual analysis of the datasets revealed that some reviews have been written in different languages, so we first wanted to understand the share of each language to direct our successive steps.\n",
    "\n",
    "To achieve this, we tested different python packages that tag language, among which:\n",
    "- [fast_langdetect](https://github.com/LlmKira/fast-langdetect)\n",
    "- [langdetect](https://pypi.org/project/langdetect/)\n",
    "- [lingua](https://github.com/pemistahl/lingua-py)\n",
    "\n",
    "Finally opting for the first, being the fastest and having good precision."
   ]
  },
  {
   "cell_type": "code",
   "execution_count": null,
   "metadata": {},
   "outputs": [],
   "source": [
    "from src.scripts.lang_tagger import lang_tagger\n",
    "\n",
    "'''\n",
    "Execute the language tagging process.\n",
    "This function calls the pipeline that reads the .txt.gz files and creates a .csv file\n",
    "with only the reviews and few other columns for indexing purposes.\n",
    "'''\n",
    "lang_tagger.tag_datasets()"
   ]
  },
  {
   "cell_type": "code",
   "execution_count": null,
   "metadata": {},
   "outputs": [],
   "source": [
    "d_BA = pd.read_csv(\"./data/BeerAdvocate/reviews_tagged.csv\")\n",
    "d_RB = pd.read_csv(\"./data/RateBeer/reviews_tagged.csv\")\n",
    "\n",
    "eng_perc_BA = d_BA[\"lang_tag\"].value_counts()['en']/d_BA[\"lang_tag\"].count() * 100\n",
    "eng_perc_RB = d_RB[\"lang_tag\"].value_counts()['en']/d_RB[\"lang_tag\"].count() * 100\n",
    "\n",
    "print(f\"Percentage of English reviews in BeerAdvocate = {eng_perc_BA:.3f}%\")\n",
    "print(f\"Percentage of English reviews in RateBeer = {eng_perc_RB:.3f}%\")\n",
    "\n",
    "print(f\"\\nNumber of reviews for the first 5 most used languages in RateBeer. Only the first 5 shown for visualization purposes\")\n",
    "print(f\"{d_RB['lang_tag'].value_counts()[:5]}\")"
   ]
  },
  {
   "cell_type": "markdown",
   "metadata": {},
   "source": [
    "The majority of reviews are made in English, especially in BeerAdvocate. \n",
    "We therefore initially focus on solely English reviews, specifically the one in BeerAdvocate, but we plan later in the development of the project to work also on RateBeer and we to test our metrics on different languages as well."
   ]
  },
  {
   "cell_type": "code",
   "execution_count": null,
   "metadata": {},
   "outputs": [],
   "source": [
    "# Free memory after showing the results\n",
    "del d_BA, d_RB"
   ]
  },
  {
   "cell_type": "markdown",
   "metadata": {},
   "source": [
    "### Data cleaning\n",
    "\n",
    "The dataset contained various NaN values and duplicated rows, all of which must be properly handled to ensure a correct analysis."
   ]
  },
  {
   "cell_type": "code",
   "execution_count": 2,
   "metadata": {},
   "outputs": [],
   "source": [
    "from src.scripts.data_cleaning import data_cleaning, load_file\n",
    "\n",
    "data_cleaning.clean_data('./data')"
   ]
  },
  {
   "cell_type": "code",
   "execution_count": 4,
   "metadata": {},
   "outputs": [
    {
     "name": "stdout",
     "output_type": "stream",
     "text": [
      "Are users_id in BeerAdvocate's user dataframe unique? False\n",
      "By removing users that never did written reviews we dropped 57 rows\n",
      "Rows before cleaning: 70174\n",
      "Rows after cleaning:  70117\n"
     ]
    }
   ],
   "source": [
    " # Issues with users.csv\n",
    "df_users_RB = pd.read_csv('./data/RateBeer/users.csv')\n",
    "df_users_RB_clean = pd.read_csv('./data/RateBeer/users_RB_clean.csv')\n",
    "\n",
    "print(f\"Are users_id in BeerAdvocate's user dataframe unique? {df_users_RB['user_id'].is_unique}\")\n",
    "print(f\"By removing users that never did written reviews we dropped {df_users_RB.shape[0] - df_users_RB_clean.shape[0]} rows\")\n",
    "print(f\"Rows before cleaning: {df_users_RB.shape[0]}\\nRows after cleaning:  {df_users_RB_clean.shape[0]}\")"
   ]
  },
  {
   "cell_type": "code",
   "execution_count": 5,
   "metadata": {},
   "outputs": [
    {
     "data": {
      "text/html": [
       "<div>\n",
       "<style scoped>\n",
       "    .dataframe tbody tr th:only-of-type {\n",
       "        vertical-align: middle;\n",
       "    }\n",
       "\n",
       "    .dataframe tbody tr th {\n",
       "        vertical-align: top;\n",
       "    }\n",
       "\n",
       "    .dataframe thead th {\n",
       "        text-align: right;\n",
       "    }\n",
       "</style>\n",
       "<table border=\"1\" class=\"dataframe\">\n",
       "  <thead>\n",
       "    <tr style=\"text-align: right;\">\n",
       "      <th></th>\n",
       "      <th>beer_name</th>\n",
       "      <th>beer_id</th>\n",
       "      <th>brewery_name</th>\n",
       "      <th>brewery_id</th>\n",
       "      <th>style</th>\n",
       "      <th>abv</th>\n",
       "      <th>date</th>\n",
       "      <th>user_name</th>\n",
       "      <th>user_id</th>\n",
       "      <th>appearance</th>\n",
       "      <th>aroma</th>\n",
       "      <th>palate</th>\n",
       "      <th>taste</th>\n",
       "      <th>overall</th>\n",
       "      <th>rating</th>\n",
       "      <th>text</th>\n",
       "      <th>review</th>\n",
       "      <th>lang_tag</th>\n",
       "    </tr>\n",
       "  </thead>\n",
       "  <tbody>\n",
       "    <tr>\n",
       "      <th>0</th>\n",
       "      <td>Régab</td>\n",
       "      <td>142544</td>\n",
       "      <td>Societe des Brasseries du Gabon (SOBRAGA)</td>\n",
       "      <td>37262</td>\n",
       "      <td>Euro Pale Lager</td>\n",
       "      <td>4.5</td>\n",
       "      <td>2015-08-20</td>\n",
       "      <td>nmann08</td>\n",
       "      <td>nmann08.184925</td>\n",
       "      <td>3.25</td>\n",
       "      <td>2.75</td>\n",
       "      <td>3.25</td>\n",
       "      <td>2.75</td>\n",
       "      <td>3.0</td>\n",
       "      <td>2.88</td>\n",
       "      <td>From a bottle, pours a piss yellow color with ...</td>\n",
       "      <td>True</td>\n",
       "      <td>en</td>\n",
       "    </tr>\n",
       "    <tr>\n",
       "      <th>1</th>\n",
       "      <td>Barelegs Brew</td>\n",
       "      <td>19590</td>\n",
       "      <td>Strangford Lough Brewing Company Ltd</td>\n",
       "      <td>10093</td>\n",
       "      <td>English Pale Ale</td>\n",
       "      <td>4.5</td>\n",
       "      <td>2009-02-20</td>\n",
       "      <td>StJamesGate</td>\n",
       "      <td>stjamesgate.163714</td>\n",
       "      <td>3.00</td>\n",
       "      <td>3.50</td>\n",
       "      <td>3.50</td>\n",
       "      <td>4.00</td>\n",
       "      <td>3.5</td>\n",
       "      <td>3.67</td>\n",
       "      <td>Pours pale copper with a thin head that quickl...</td>\n",
       "      <td>True</td>\n",
       "      <td>en</td>\n",
       "    </tr>\n",
       "    <tr>\n",
       "      <th>2</th>\n",
       "      <td>Barelegs Brew</td>\n",
       "      <td>19590</td>\n",
       "      <td>Strangford Lough Brewing Company Ltd</td>\n",
       "      <td>10093</td>\n",
       "      <td>English Pale Ale</td>\n",
       "      <td>4.5</td>\n",
       "      <td>2006-03-13</td>\n",
       "      <td>mdagnew</td>\n",
       "      <td>mdagnew.19527</td>\n",
       "      <td>4.00</td>\n",
       "      <td>3.50</td>\n",
       "      <td>3.50</td>\n",
       "      <td>4.00</td>\n",
       "      <td>3.5</td>\n",
       "      <td>3.73</td>\n",
       "      <td>500ml Bottle bought from The Vintage, Antrim.....</td>\n",
       "      <td>True</td>\n",
       "      <td>en</td>\n",
       "    </tr>\n",
       "    <tr>\n",
       "      <th>3</th>\n",
       "      <td>Barelegs Brew</td>\n",
       "      <td>19590</td>\n",
       "      <td>Strangford Lough Brewing Company Ltd</td>\n",
       "      <td>10093</td>\n",
       "      <td>English Pale Ale</td>\n",
       "      <td>4.5</td>\n",
       "      <td>2004-12-01</td>\n",
       "      <td>helloloser12345</td>\n",
       "      <td>helloloser12345.10867</td>\n",
       "      <td>4.00</td>\n",
       "      <td>3.50</td>\n",
       "      <td>4.00</td>\n",
       "      <td>4.00</td>\n",
       "      <td>4.5</td>\n",
       "      <td>3.98</td>\n",
       "      <td>Serving: 500ml brown bottlePour: Good head wit...</td>\n",
       "      <td>True</td>\n",
       "      <td>en</td>\n",
       "    </tr>\n",
       "    <tr>\n",
       "      <th>4</th>\n",
       "      <td>Barelegs Brew</td>\n",
       "      <td>19590</td>\n",
       "      <td>Strangford Lough Brewing Company Ltd</td>\n",
       "      <td>10093</td>\n",
       "      <td>English Pale Ale</td>\n",
       "      <td>4.5</td>\n",
       "      <td>2004-08-30</td>\n",
       "      <td>cypressbob</td>\n",
       "      <td>cypressbob.3708</td>\n",
       "      <td>4.00</td>\n",
       "      <td>4.00</td>\n",
       "      <td>4.00</td>\n",
       "      <td>4.00</td>\n",
       "      <td>4.0</td>\n",
       "      <td>4.00</td>\n",
       "      <td>500ml bottlePours with a light, slightly hazy ...</td>\n",
       "      <td>True</td>\n",
       "      <td>en</td>\n",
       "    </tr>\n",
       "  </tbody>\n",
       "</table>\n",
       "</div>"
      ],
      "text/plain": [
       "       beer_name  beer_id                               brewery_name  \\\n",
       "0          Régab   142544  Societe des Brasseries du Gabon (SOBRAGA)   \n",
       "1  Barelegs Brew    19590       Strangford Lough Brewing Company Ltd   \n",
       "2  Barelegs Brew    19590       Strangford Lough Brewing Company Ltd   \n",
       "3  Barelegs Brew    19590       Strangford Lough Brewing Company Ltd   \n",
       "4  Barelegs Brew    19590       Strangford Lough Brewing Company Ltd   \n",
       "\n",
       "   brewery_id             style  abv        date        user_name  \\\n",
       "0       37262   Euro Pale Lager  4.5  2015-08-20          nmann08   \n",
       "1       10093  English Pale Ale  4.5  2009-02-20      StJamesGate   \n",
       "2       10093  English Pale Ale  4.5  2006-03-13          mdagnew   \n",
       "3       10093  English Pale Ale  4.5  2004-12-01  helloloser12345   \n",
       "4       10093  English Pale Ale  4.5  2004-08-30       cypressbob   \n",
       "\n",
       "                 user_id  appearance  aroma  palate  taste  overall  rating  \\\n",
       "0         nmann08.184925        3.25   2.75    3.25   2.75      3.0    2.88   \n",
       "1     stjamesgate.163714        3.00   3.50    3.50   4.00      3.5    3.67   \n",
       "2          mdagnew.19527        4.00   3.50    3.50   4.00      3.5    3.73   \n",
       "3  helloloser12345.10867        4.00   3.50    4.00   4.00      4.5    3.98   \n",
       "4        cypressbob.3708        4.00   4.00    4.00   4.00      4.0    4.00   \n",
       "\n",
       "                                                text  review lang_tag  \n",
       "0  From a bottle, pours a piss yellow color with ...    True       en  \n",
       "1  Pours pale copper with a thin head that quickl...    True       en  \n",
       "2  500ml Bottle bought from The Vintage, Antrim.....    True       en  \n",
       "3  Serving: 500ml brown bottlePour: Good head wit...    True       en  \n",
       "4  500ml bottlePours with a light, slightly hazy ...    True       en  "
      ]
     },
     "execution_count": 5,
     "metadata": {},
     "output_type": "execute_result"
    }
   ],
   "source": [
    "# language tagging and formatting\n",
    "df_ratings_BA_clean = pd.read_csv('./data/BeerAdvocate/ratings_BA_clean.csv', nrows=5)\n",
    "df_ratings_BA_clean.head()"
   ]
  },
  {
   "cell_type": "code",
   "execution_count": null,
   "metadata": {},
   "outputs": [],
   "source": [
    "# Free memory after showing the results\n",
    "del df_users_RB, df_users_RB_clean, df_ratings_BA_clean"
   ]
  },
  {
   "cell_type": "markdown",
   "metadata": {},
   "source": [
    "## Expert metric\n",
    "\n",
    "The vast majority of the work done in Milestone 2 for the project has been finding a good \"Expert metric\" and checking that our assumptions are correct.\n",
    "\n",
    "We needed a \"Expert metric\" that was reliable enough to see how written reviews change over time. This score should highlight expertise and precision of a review.\n",
    "\n",
    "We tried different methods to get this metric:\n",
    "- language depth\n",
    "- embeddings\n",
    "- ad-hoc metric\n",
    "\n",
    "The first two didn't provide a significant score, while a \"ad-hoc metric\" proved to satisfy our needs. We therefore start by discussing this method"
   ]
  },
  {
   "cell_type": "markdown",
   "metadata": {},
   "source": [
    "### Ad-hoc metric\n",
    "\n",
    "Due to the failure of previous general metrics, we tried creating a topic-specific metric that focuses solely on beer reviews.<br>\n",
    "\n",
    "**CONTINUE WRITING THE EXPLANATION**"
   ]
  },
  {
   "cell_type": "code",
   "execution_count": null,
   "metadata": {},
   "outputs": [],
   "source": [
    "# Add Alessandro's stuff"
   ]
  },
  {
   "cell_type": "markdown",
   "metadata": {},
   "source": [
    "### Language depth\n",
    "\n",
    "The assumption for this method was that a reviewers with more expertise would utilize a more nuanced vocabulary in their reviews.\n",
    "\n",
    "To extract language depth of a review we used\n",
    "[LexicalRichness](https://github.com/LSYS/LexicalRichness),\n",
    "a python package that extracts some metrics highlighting language richness of a text.<br>\n",
    "This has been used to evaluate each written reviews.\n",
    "\n",
    "However, the anlysis that followed provided unsatisfactory results. Our main explanation is that language richness doesn't directly correlate to higher quality reviews, as the metrics extrapolated by the package are not tailored to reviews nor beer."
   ]
  },
  {
   "cell_type": "markdown",
   "metadata": {},
   "source": [
    "### Embeddings\n",
    "\n",
    "We also tried with finding the embeddings of the reviews and trying to see if such a method could be used as an expertise metric.<br>\n",
    "To find the embeddings we used:\n",
    "- [all-mpnet-base-v2](https://huggingface.co/sentence-transformers/all-mpnet-base-v2) \n",
    "\n",
    "This model maps paragraphs to a 768 dimensional dense vector space, that we then visualize by projecting it in a 2D space with t-SNE and PCA.\n",
    "\n",
    "While some interesting patterns have been observed, it is clear that embeddings can't be used as a metric score.<br>"
   ]
  }
 ],
 "metadata": {
  "kernelspec": {
   "display_name": "ada",
   "language": "python",
   "name": "python3"
  },
  "language_info": {
   "codemirror_mode": {
    "name": "ipython",
    "version": 3
   },
   "file_extension": ".py",
   "mimetype": "text/x-python",
   "name": "python",
   "nbconvert_exporter": "python",
   "pygments_lexer": "ipython3",
   "version": "3.11.10"
  }
 },
 "nbformat": 4,
 "nbformat_minor": 2
}
