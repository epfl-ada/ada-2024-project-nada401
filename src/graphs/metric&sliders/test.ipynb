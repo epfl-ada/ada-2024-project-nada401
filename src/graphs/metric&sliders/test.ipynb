{
 "cells": [
  {
   "cell_type": "code",
   "execution_count": null,
   "metadata": {},
   "outputs": [],
   "source": [
    "from bokeh.plotting import figure, show\n",
    "from bokeh.layouts import row, column\n",
    "from bokeh.models import ColumnDataSource, Slider, CustomJS\n",
    "\n",
    "# Mock data\n",
    "initial_data = {'x': [1, 2, 3, 4], 'y': [1, 1, 1, 1]}\n",
    "\n",
    "source = ColumnDataSource(data=initial_data)\n",
    "\n",
    "plot = figure(title=\"Test interactive plot with sliders\", x_axis_label='review number', y_axis_label='expertness score', width=600, height=400)\n",
    "plot.line('x', 'y', source=source, line_width=2)\n",
    "\n",
    "slider1 = Slider(start=0, end=2, step=1, value=1, title=\"Slider 1\")\n",
    "slider2 = Slider(start=0, end=2, step=1, value=1, title=\"Slider 2\")\n",
    "slider3 = Slider(start=0, end=2, step=1, value=1, title=\"Slider 3\")\n",
    "slider4 = Slider(start=0, end=2, step=1, value=1, title=\"Slider 4\")\n",
    "\n",
    "# Callback\n",
    "callback = CustomJS(\n",
    "    args=dict(source=source, s1=slider1, s2=slider2, s3=slider3, s4=slider4, original_data=initial_data),\n",
    "    code=\"\"\"\n",
    "        const x = source.data['x'];\n",
    "        const y = source.data['y'];\n",
    "        const original_y = original_data['y'];\n",
    "\n",
    "        console.log(original_y)\n",
    "\n",
    "        y[0] = s1.value * original_y[0];\n",
    "        y[1] = s2.value * original_y[1];\n",
    "        y[2] = s3.value * original_y[2];\n",
    "        y[3] = s4.value * original_y[3];\n",
    "\n",
    "        source.change.emit();\n",
    "    \"\"\"\n",
    ")\n",
    "\n",
    "slider1.js_on_change('value', callback)\n",
    "slider2.js_on_change('value', callback)\n",
    "slider3.js_on_change('value', callback)\n",
    "slider4.js_on_change('value', callback)\n",
    "\n",
    "# have plot on the left, and sliders on the right\n",
    "sliders = column(slider1, slider2, slider3, slider4, width=200, sizing_mode=\"stretch_height\")\n",
    "layout = row(plot, sliders)\n",
    "\n",
    "# show(layout) # Not working somehow"
   ]
  },
  {
   "cell_type": "code",
   "execution_count": 16,
   "metadata": {},
   "outputs": [],
   "source": [
    "from bokeh.embed import file_html\n",
    "from bokeh.resources import CDN\n",
    "\n",
    "html = file_html(layout, CDN, \"Test Plot\")\n",
    "with open(\"test_plot.html\", \"w\") as f:\n",
    "    f.write(html)"
   ]
  }
 ],
 "metadata": {
  "kernelspec": {
   "display_name": "ada",
   "language": "python",
   "name": "python3"
  },
  "language_info": {
   "codemirror_mode": {
    "name": "ipython",
    "version": 3
   },
   "file_extension": ".py",
   "mimetype": "text/x-python",
   "name": "python",
   "nbconvert_exporter": "python",
   "pygments_lexer": "ipython3",
   "version": "3.11.10"
  }
 },
 "nbformat": 4,
 "nbformat_minor": 2
}
