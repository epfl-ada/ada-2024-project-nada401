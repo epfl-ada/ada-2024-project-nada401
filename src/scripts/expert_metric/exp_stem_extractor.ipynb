{
  "cells": [
    {
      "cell_type": "code",
      "execution_count": null,
      "id": "5f931006-9b32-4a14-9c95-8bfaa6b91dce",
      "metadata": {
        "id": "5f931006-9b32-4a14-9c95-8bfaa6b91dce"
      },
      "outputs": [],
      "source": [
        "import csv\n",
        "import re\n",
        "%matplotlib inline\n",
        "import numpy as np\n",
        "import matplotlib.pyplot as plt\n",
        "import pandas as pd\n",
        "import os\n",
        "import nltk\n",
        "from nltk.tokenize import word_tokenize\n",
        "from nltk.corpus import stopwords\n",
        "from nltk.stem import PorterStemmer\n",
        "from collections import Counter\n",
        "from string import punctuation"
      ]
    },
    {
      "cell_type": "code",
      "execution_count": null,
      "id": "041e625c-ca4e-40e2-9111-5425c5b71688",
      "metadata": {
        "colab": {
          "base_uri": "https://localhost:8080/"
        },
        "id": "041e625c-ca4e-40e2-9111-5425c5b71688",
        "outputId": "d7d07516-11f5-4477-c9e4-9d3e8e30b67c"
      },
      "outputs": [
        {
          "output_type": "stream",
          "name": "stderr",
          "text": [
            "[nltk_data] Downloading package punkt to /root/nltk_data...\n",
            "[nltk_data]   Unzipping tokenizers/punkt.zip.\n",
            "[nltk_data] Downloading package stopwords to /root/nltk_data...\n",
            "[nltk_data]   Unzipping corpora/stopwords.zip.\n",
            "[nltk_data] Downloading package punkt_tab to /root/nltk_data...\n",
            "[nltk_data]   Unzipping tokenizers/punkt_tab.zip.\n"
          ]
        },
        {
          "output_type": "execute_result",
          "data": {
            "text/plain": [
              "True"
            ]
          },
          "metadata": {},
          "execution_count": 2
        }
      ],
      "source": [
        "nltk.download('punkt')\n",
        "nltk.download('stopwords')\n",
        "nltk.download('punkt_tab')"
      ]
    },
    {
      "cell_type": "code",
      "execution_count": null,
      "id": "28f72a0d-1dec-4cb6-b8ab-2f97edc24cba",
      "metadata": {
        "colab": {
          "base_uri": "https://localhost:8080/",
          "height": 382
        },
        "id": "28f72a0d-1dec-4cb6-b8ab-2f97edc24cba",
        "outputId": "8db6f08e-ebc5-459b-abbe-eef2ae604da9"
      },
      "outputs": [
        {
          "output_type": "error",
          "ename": "FileNotFoundError",
          "evalue": "[Errno 2] No such file or directory: './../../../data/BeerAdvocate/ratings_BA_clean.csv'",
          "traceback": [
            "\u001b[0;31m---------------------------------------------------------------------------\u001b[0m",
            "\u001b[0;31mFileNotFoundError\u001b[0m                         Traceback (most recent call last)",
            "\u001b[0;32m<ipython-input-3-9ce49b80f16b>\u001b[0m in \u001b[0;36m<cell line: 3>\u001b[0;34m()\u001b[0m\n\u001b[1;32m      1\u001b[0m \u001b[0mdata_path\u001b[0m \u001b[0;34m=\u001b[0m \u001b[0;34m'./../../../data'\u001b[0m\u001b[0;34m\u001b[0m\u001b[0;34m\u001b[0m\u001b[0m\n\u001b[1;32m      2\u001b[0m \u001b[0madvocate_dir\u001b[0m \u001b[0;34m=\u001b[0m \u001b[0mos\u001b[0m\u001b[0;34m.\u001b[0m\u001b[0mpath\u001b[0m\u001b[0;34m.\u001b[0m\u001b[0mjoin\u001b[0m\u001b[0;34m(\u001b[0m\u001b[0mdata_path\u001b[0m\u001b[0;34m,\u001b[0m \u001b[0;34m'BeerAdvocate'\u001b[0m\u001b[0;34m)\u001b[0m\u001b[0;34m\u001b[0m\u001b[0;34m\u001b[0m\u001b[0m\n\u001b[0;32m----> 3\u001b[0;31m \u001b[0mreviews_ba\u001b[0m \u001b[0;34m=\u001b[0m \u001b[0mpd\u001b[0m\u001b[0;34m.\u001b[0m\u001b[0mread_csv\u001b[0m\u001b[0;34m(\u001b[0m\u001b[0mos\u001b[0m\u001b[0;34m.\u001b[0m\u001b[0mpath\u001b[0m\u001b[0;34m.\u001b[0m\u001b[0mjoin\u001b[0m\u001b[0;34m(\u001b[0m\u001b[0madvocate_dir\u001b[0m\u001b[0;34m,\u001b[0m \u001b[0;34m'ratings_BA_clean.csv'\u001b[0m\u001b[0;34m)\u001b[0m\u001b[0;34m)\u001b[0m\u001b[0;34m\u001b[0m\u001b[0;34m\u001b[0m\u001b[0m\n\u001b[0m\u001b[1;32m      4\u001b[0m \u001b[0;34m\u001b[0m\u001b[0m\n\u001b[1;32m      5\u001b[0m \u001b[0mrev_true_ba\u001b[0m \u001b[0;34m=\u001b[0m \u001b[0mreviews_ba\u001b[0m\u001b[0;34m[\u001b[0m\u001b[0mreviews_ba\u001b[0m\u001b[0;34m[\u001b[0m\u001b[0;34m'review'\u001b[0m\u001b[0;34m]\u001b[0m\u001b[0;34m==\u001b[0m\u001b[0;32mTrue\u001b[0m\u001b[0;34m]\u001b[0m\u001b[0;34m\u001b[0m\u001b[0;34m\u001b[0m\u001b[0m\n",
            "\u001b[0;32m/usr/local/lib/python3.10/dist-packages/pandas/io/parsers/readers.py\u001b[0m in \u001b[0;36mread_csv\u001b[0;34m(filepath_or_buffer, sep, delimiter, header, names, index_col, usecols, dtype, engine, converters, true_values, false_values, skipinitialspace, skiprows, skipfooter, nrows, na_values, keep_default_na, na_filter, verbose, skip_blank_lines, parse_dates, infer_datetime_format, keep_date_col, date_parser, date_format, dayfirst, cache_dates, iterator, chunksize, compression, thousands, decimal, lineterminator, quotechar, quoting, doublequote, escapechar, comment, encoding, encoding_errors, dialect, on_bad_lines, delim_whitespace, low_memory, memory_map, float_precision, storage_options, dtype_backend)\u001b[0m\n\u001b[1;32m   1024\u001b[0m     \u001b[0mkwds\u001b[0m\u001b[0;34m.\u001b[0m\u001b[0mupdate\u001b[0m\u001b[0;34m(\u001b[0m\u001b[0mkwds_defaults\u001b[0m\u001b[0;34m)\u001b[0m\u001b[0;34m\u001b[0m\u001b[0;34m\u001b[0m\u001b[0m\n\u001b[1;32m   1025\u001b[0m \u001b[0;34m\u001b[0m\u001b[0m\n\u001b[0;32m-> 1026\u001b[0;31m     \u001b[0;32mreturn\u001b[0m \u001b[0m_read\u001b[0m\u001b[0;34m(\u001b[0m\u001b[0mfilepath_or_buffer\u001b[0m\u001b[0;34m,\u001b[0m \u001b[0mkwds\u001b[0m\u001b[0;34m)\u001b[0m\u001b[0;34m\u001b[0m\u001b[0;34m\u001b[0m\u001b[0m\n\u001b[0m\u001b[1;32m   1027\u001b[0m \u001b[0;34m\u001b[0m\u001b[0m\n\u001b[1;32m   1028\u001b[0m \u001b[0;34m\u001b[0m\u001b[0m\n",
            "\u001b[0;32m/usr/local/lib/python3.10/dist-packages/pandas/io/parsers/readers.py\u001b[0m in \u001b[0;36m_read\u001b[0;34m(filepath_or_buffer, kwds)\u001b[0m\n\u001b[1;32m    618\u001b[0m \u001b[0;34m\u001b[0m\u001b[0m\n\u001b[1;32m    619\u001b[0m     \u001b[0;31m# Create the parser.\u001b[0m\u001b[0;34m\u001b[0m\u001b[0;34m\u001b[0m\u001b[0m\n\u001b[0;32m--> 620\u001b[0;31m     \u001b[0mparser\u001b[0m \u001b[0;34m=\u001b[0m \u001b[0mTextFileReader\u001b[0m\u001b[0;34m(\u001b[0m\u001b[0mfilepath_or_buffer\u001b[0m\u001b[0;34m,\u001b[0m \u001b[0;34m**\u001b[0m\u001b[0mkwds\u001b[0m\u001b[0;34m)\u001b[0m\u001b[0;34m\u001b[0m\u001b[0;34m\u001b[0m\u001b[0m\n\u001b[0m\u001b[1;32m    621\u001b[0m \u001b[0;34m\u001b[0m\u001b[0m\n\u001b[1;32m    622\u001b[0m     \u001b[0;32mif\u001b[0m \u001b[0mchunksize\u001b[0m \u001b[0;32mor\u001b[0m \u001b[0miterator\u001b[0m\u001b[0;34m:\u001b[0m\u001b[0;34m\u001b[0m\u001b[0;34m\u001b[0m\u001b[0m\n",
            "\u001b[0;32m/usr/local/lib/python3.10/dist-packages/pandas/io/parsers/readers.py\u001b[0m in \u001b[0;36m__init__\u001b[0;34m(self, f, engine, **kwds)\u001b[0m\n\u001b[1;32m   1618\u001b[0m \u001b[0;34m\u001b[0m\u001b[0m\n\u001b[1;32m   1619\u001b[0m         \u001b[0mself\u001b[0m\u001b[0;34m.\u001b[0m\u001b[0mhandles\u001b[0m\u001b[0;34m:\u001b[0m \u001b[0mIOHandles\u001b[0m \u001b[0;34m|\u001b[0m \u001b[0;32mNone\u001b[0m \u001b[0;34m=\u001b[0m \u001b[0;32mNone\u001b[0m\u001b[0;34m\u001b[0m\u001b[0;34m\u001b[0m\u001b[0m\n\u001b[0;32m-> 1620\u001b[0;31m         \u001b[0mself\u001b[0m\u001b[0;34m.\u001b[0m\u001b[0m_engine\u001b[0m \u001b[0;34m=\u001b[0m \u001b[0mself\u001b[0m\u001b[0;34m.\u001b[0m\u001b[0m_make_engine\u001b[0m\u001b[0;34m(\u001b[0m\u001b[0mf\u001b[0m\u001b[0;34m,\u001b[0m \u001b[0mself\u001b[0m\u001b[0;34m.\u001b[0m\u001b[0mengine\u001b[0m\u001b[0;34m)\u001b[0m\u001b[0;34m\u001b[0m\u001b[0;34m\u001b[0m\u001b[0m\n\u001b[0m\u001b[1;32m   1621\u001b[0m \u001b[0;34m\u001b[0m\u001b[0m\n\u001b[1;32m   1622\u001b[0m     \u001b[0;32mdef\u001b[0m \u001b[0mclose\u001b[0m\u001b[0;34m(\u001b[0m\u001b[0mself\u001b[0m\u001b[0;34m)\u001b[0m \u001b[0;34m->\u001b[0m \u001b[0;32mNone\u001b[0m\u001b[0;34m:\u001b[0m\u001b[0;34m\u001b[0m\u001b[0;34m\u001b[0m\u001b[0m\n",
            "\u001b[0;32m/usr/local/lib/python3.10/dist-packages/pandas/io/parsers/readers.py\u001b[0m in \u001b[0;36m_make_engine\u001b[0;34m(self, f, engine)\u001b[0m\n\u001b[1;32m   1878\u001b[0m                 \u001b[0;32mif\u001b[0m \u001b[0;34m\"b\"\u001b[0m \u001b[0;32mnot\u001b[0m \u001b[0;32min\u001b[0m \u001b[0mmode\u001b[0m\u001b[0;34m:\u001b[0m\u001b[0;34m\u001b[0m\u001b[0;34m\u001b[0m\u001b[0m\n\u001b[1;32m   1879\u001b[0m                     \u001b[0mmode\u001b[0m \u001b[0;34m+=\u001b[0m \u001b[0;34m\"b\"\u001b[0m\u001b[0;34m\u001b[0m\u001b[0;34m\u001b[0m\u001b[0m\n\u001b[0;32m-> 1880\u001b[0;31m             self.handles = get_handle(\n\u001b[0m\u001b[1;32m   1881\u001b[0m                 \u001b[0mf\u001b[0m\u001b[0;34m,\u001b[0m\u001b[0;34m\u001b[0m\u001b[0;34m\u001b[0m\u001b[0m\n\u001b[1;32m   1882\u001b[0m                 \u001b[0mmode\u001b[0m\u001b[0;34m,\u001b[0m\u001b[0;34m\u001b[0m\u001b[0;34m\u001b[0m\u001b[0m\n",
            "\u001b[0;32m/usr/local/lib/python3.10/dist-packages/pandas/io/common.py\u001b[0m in \u001b[0;36mget_handle\u001b[0;34m(path_or_buf, mode, encoding, compression, memory_map, is_text, errors, storage_options)\u001b[0m\n\u001b[1;32m    871\u001b[0m         \u001b[0;32mif\u001b[0m \u001b[0mioargs\u001b[0m\u001b[0;34m.\u001b[0m\u001b[0mencoding\u001b[0m \u001b[0;32mand\u001b[0m \u001b[0;34m\"b\"\u001b[0m \u001b[0;32mnot\u001b[0m \u001b[0;32min\u001b[0m \u001b[0mioargs\u001b[0m\u001b[0;34m.\u001b[0m\u001b[0mmode\u001b[0m\u001b[0;34m:\u001b[0m\u001b[0;34m\u001b[0m\u001b[0;34m\u001b[0m\u001b[0m\n\u001b[1;32m    872\u001b[0m             \u001b[0;31m# Encoding\u001b[0m\u001b[0;34m\u001b[0m\u001b[0;34m\u001b[0m\u001b[0m\n\u001b[0;32m--> 873\u001b[0;31m             handle = open(\n\u001b[0m\u001b[1;32m    874\u001b[0m                 \u001b[0mhandle\u001b[0m\u001b[0;34m,\u001b[0m\u001b[0;34m\u001b[0m\u001b[0;34m\u001b[0m\u001b[0m\n\u001b[1;32m    875\u001b[0m                 \u001b[0mioargs\u001b[0m\u001b[0;34m.\u001b[0m\u001b[0mmode\u001b[0m\u001b[0;34m,\u001b[0m\u001b[0;34m\u001b[0m\u001b[0;34m\u001b[0m\u001b[0m\n",
            "\u001b[0;31mFileNotFoundError\u001b[0m: [Errno 2] No such file or directory: './../../../data/BeerAdvocate/ratings_BA_clean.csv'"
          ]
        }
      ],
      "source": [
        "data_path = './../../../data'\n",
        "advocate_dir = os.path.join(data_path, 'BeerAdvocate')\n",
        "reviews_ba = pd.read_csv(os.path.join(advocate_dir, 'ratings_BA_clean.csv'))\n",
        "\n",
        "rev_true_ba = reviews_ba[reviews_ba['review']==True]"
      ]
    },
    {
      "cell_type": "code",
      "execution_count": null,
      "id": "3b49ff58-bbd3-4818-8ff5-b2dc697d44db",
      "metadata": {
        "id": "3b49ff58-bbd3-4818-8ff5-b2dc697d44db"
      },
      "outputs": [],
      "source": [
        "users = pd.read_csv(os.path.join(advocate_dir, 'users.csv'))\n",
        "beer_BA = pd.read_csv(os.path.join(advocate_dir, 'beers.csv'))"
      ]
    },
    {
      "cell_type": "code",
      "execution_count": null,
      "id": "2bf4282b-60c4-49a7-a4ff-8480e3977b6b",
      "metadata": {
        "id": "2bf4282b-60c4-49a7-a4ff-8480e3977b6b"
      },
      "outputs": [],
      "source": [
        "beer_BA_grouped = beer_BA.groupby('style')\n",
        "most_fam_b_per_style = pd.DataFrame()\n",
        "for name, gruop in beer_BA_grouped:\n",
        "    g = gruop.sort_values(ascending=[False],by=['nbr_reviews'])\n",
        "    most_fam_b_per_style = pd.concat([most_fam_b_per_style, g.head(1)])\n",
        "\n",
        "most_fam_stout = most_fam_b_per_style.sort_values(ascending=[False],by=['nbr_reviews']).iloc[1]\n",
        "reviews_Stout = reviews_ba[reviews_ba['beer_id']==most_fam_stout.beer_id]\n",
        "text_rev_stout = reviews_Stout[reviews_Stout['review']==True]['text']"
      ]
    },
    {
      "cell_type": "code",
      "execution_count": 113,
      "id": "a05d9856-843b-418d-91a6-526962966c34",
      "metadata": {
        "id": "a05d9856-843b-418d-91a6-526962966c34"
      },
      "outputs": [],
      "source": [
        "expert_terms = {\n",
        "    \"flavor\": ['caramel', 'toffee', 'bready', 'biscuity', 'nutty', 'roasted', 'chocolate', 'coffee', 'mocha','molasses','syrupy','smokey','toasted','vanilla','cocoa','sugar',\n",
        "              'hoppy', 'citrusy', 'tropical', 'floral', 'piney', 'herbal', 'grassy', 'earthy', 'dank', 'spicy', 'peppery', 'juicy', 'zesty', 'tangy', 'bitterness',\n",
        "               'estery','fruity', 'berry',' cherry',' apple',' banana', 'pear', 'stone fruit', 'plum', 'fig', 'raisin', 'peach',' apricot', 'dark fruit', 'citrus zest', 'lemon', 'peel', 'orange','pineapple', 'mango', 'lychee',\n",
        "               'oaky', 'woody', 'bourbon', 'whiskey', 'rye', 'tequila', 'brandy','vinous', 'tart', 'lacto', 'honey', 'clove', 'bubblegum', 'funky', 'currant', 'grape','tea','blueberry','blackberry','cassis',\n",
        "               'gooseberry','loganberry','nectar','nectarine','pomegranate','quince','rasberry','strawberry','watermelon','grapefruit','lemongrass','lime','mandarin','tangerine','coconut','cream','guava','melon',\n",
        "               'papaya','rose','cedar','cognac','hay','tobacco','mint','sage','thyme','aniseed','cinnamon','ginger','pepper','licorice','candy','cucumber','garlic',\n",
        "               'bouquet', 'aromatic', 'fragrant','perfumed', 'faint', 'musky', 'subtle', 'yeasty', 'malty', 'pungent','burnt'],\n",
        "    \"mouthfeel\": [ 'body','full-bodied', 'medium-bodied', 'light-bodied', 'unfolding','aftertaste','thick', 'thin', 'creamy', 'smooth', 'velvety', 'oily','tannic', 'chalky', 'drying', 'slick', 'watery', 'effervescent', 'fizzy', 'tingly', 'prickly', 'carbonated', 'viscosity', 'warming', 'coating', 'biting', 'sharp','rusty','evolving'],\n",
        "    \"brewing\": ['wheat','dry','hopping', 'barrel', 'conditioned', 'fermentation', 'wort', 'mash', 'sparging', 'crashing', 'decoction', 'conditioning', 'strain', 'adjuncts', 'grains', 'malt'],\n",
        "    \"technical\": [ 'balance', 'palate','complexity', 'depth', 'layers', 'nuanced', 'refined', 'structured', 'profile', 'round', 'harmonious', 'clean', 'crisp', 'finish', 'lingering', 'evolving', 'clarity', 'purity', 'dense', 'robust', 'powerful', 'restrained', 'vibrant', 'subdued', 'heavy', 'integrity', 'layered', 'benchmark', 'classic', 'signature', 'finesse', 'elegance',\n",
        "                  'exemplar', 'well-integrated', 'classic example', 'flawless', 'exceptional', 'outstanding', 'world-class', 'traditional', 'innovative', 'unconventional', 'unique'],\n",
        "    \"appearance\": ['hazy', 'cloudy', 'opaque', 'translucent', 'clear', 'bright', 'unfiltered', 'filtered', 'lacing', 'foam', 'frothy', 'rocky head', 'stable head', 'gold', 'amber', 'ruby', 'copper', 'dark', 'black', 'mahogany', 'light', 'straw', 'yellow', 'chestnut', 'tan', 'off-white','blonde','bronze','coal','ebony','inky','milky','muddy','obsidian','sepia', 'sunlight','transparent',],\n",
        "    \"off_flavors\": [ 'rotten','sulphur','egg','goat','sour','tasteless','inferior','acidic','oxidized', 'piss','metallic', 'cardboard', 'stale', 'sulfur', 'skunky', 'diacetyl', 'astringent', 'phenolic', 'acetaldehyde', 'DMS', 'cloying', 'solvent-like', 'overly bitter', 'thin', 'harsh', 'vegetal', 'buttery', 'musty, moldy', 'medicinal' ],\n",
        "}\n",
        "\n",
        "\n",
        "#flavour_terms_synonyms = {'chocolaty':'chocolate', 'chocoholic':'chocolate', 'chocolate':'chocolate'}\n"
      ]
    },
    {
      "cell_type": "code",
      "source": [
        "stemmer = nltk.stem.SnowballStemmer('english')\n",
        "stemmer.stem('initial impression')"
      ],
      "metadata": {
        "colab": {
          "base_uri": "https://localhost:8080/",
          "height": 35
        },
        "id": "yzZ47KhK-o9c",
        "outputId": "07aa6f4a-cc52-4769-8836-f7b9de250aca"
      },
      "id": "yzZ47KhK-o9c",
      "execution_count": null,
      "outputs": [
        {
          "output_type": "execute_result",
          "data": {
            "text/plain": [
              "'initial impress'"
            ],
            "application/vnd.google.colaboratory.intrinsic+json": {
              "type": "string"
            }
          },
          "metadata": {},
          "execution_count": 112
        }
      ]
    },
    {
      "cell_type": "code",
      "execution_count": 114,
      "id": "cee64d7d-7ff2-4f2c-9449-3bead6358289",
      "metadata": {
        "colab": {
          "base_uri": "https://localhost:8080/"
        },
        "id": "cee64d7d-7ff2-4f2c-9449-3bead6358289",
        "outputId": "4c9a8c05-c204-4873-d370-6534f42772d8"
      },
      "outputs": [
        {
          "output_type": "stream",
          "name": "stdout",
          "text": [
            "['caramel', 'toffe', 'breadi', 'biscuiti', 'nutti', 'roast', 'chocol', 'coffe', 'mocha', 'molass', 'syrupi', 'smokey', 'toast', 'vanilla', 'cocoa', 'sugar', 'hoppi', 'citrusi', 'tropic', 'floral', 'piney', 'herbal', 'grassi', 'earthi', 'dank', 'spici', 'pepperi', 'juici', 'zesti', 'tangi', 'bitter', 'esteri', 'fruiti', 'berri', 'cherri', 'appl', 'banana', 'pear', 'stone', 'plum', 'fig', 'raisin', 'peach', 'apricot', 'dark', 'citrus', 'lemon', 'peel', 'orang', 'pineappl', 'mango', 'lyche', 'oaki', 'woodi', 'bourbon', 'whiskey', 'rye', 'tequila', 'brandi', 'vinous', 'tart', 'lacto', 'honey', 'clove', 'bubblegum', 'funki', 'currant', 'grape', 'tea', 'blueberri', 'blackberri', 'cassi', 'gooseberri', 'loganberri', 'nectar', 'nectarin', 'pomegran', 'quinc', 'rasberri', 'strawberri', 'watermelon', 'grapefruit', 'lemongrass', 'lime', 'mandarin', 'tangerin', 'coconut', 'cream', 'guava', 'melon', 'papaya', 'rose', 'cedar', 'cognac', 'hay', 'tobacco', 'mint', 'sage', 'thyme', 'anise', 'cinnamon', 'ginger', 'pepper', 'licoric', 'candi', 'cucumb', 'garlic', 'bouquet', 'aromat', 'fragrant', 'perfum', 'faint', 'muski', 'subtl', 'yeasti', 'malti', 'pungent', 'burnt']\n",
            "['bodi', 'full-bodi', 'medium-bodi', 'light-bodi', 'unfold', 'aftertast', 'thick', 'thin', 'creami', 'smooth', 'velveti', 'oili', 'tannic', 'chalki', 'dri', 'slick', 'wateri', 'effervesc', 'fizzi', 'ting', 'prick', 'carbon', 'viscos', 'warm', 'coat', 'bite', 'sharp', 'rusti', 'evolv']\n",
            "['wheat', 'dri', 'hop', 'barrel', 'condit', 'ferment', 'wort', 'mash', 'sparg', 'crash', 'decoct', 'condit', 'strain', 'adjunct', 'grain', 'malt']\n",
            "['balanc', 'palat', 'complex', 'depth', 'layer', 'nuanc', 'refin', 'structur', 'profil', 'round', 'harmoni', 'clean', 'crisp', 'finish', 'linger', 'evolv', 'clariti', 'puriti', 'dens', 'robust', 'power', 'restrain', 'vibrant', 'subdu', 'heavi', 'integr', 'layer', 'benchmark', 'classic', 'signatur', 'finess', 'eleg', 'exemplar', 'well-integr', 'classic', 'flawless', 'except', 'outstand', 'world-class', 'tradit', 'innov', 'unconvent', 'uniqu']\n",
            "['hazi', 'cloudi', 'opaqu', 'transluc', 'clear', 'bright', 'unfilt', 'filter', 'lace', 'foam', 'frothi', 'rocki', 'stabl', 'gold', 'amber', 'rubi', 'copper', 'dark', 'black', 'mahogani', 'light', 'straw', 'yellow', 'chestnut', 'tan', 'off-whit', 'blond', 'bronz', 'coal', 'eboni', 'inki', 'milki', 'muddi', 'obsidian', 'sepia', 'sunlight', 'transpar']\n",
            "['rotten', 'sulphur', 'egg', 'goat', 'sour', 'tasteless', 'inferior', 'acid', 'oxid', 'piss', 'metal', 'cardboard', 'stale', 'sulfur', 'skunki', 'diacetyl', 'astring', 'phenol', 'acetaldehyd', 'dms', 'cloy', 'solvent-lik', 'over', 'thin', 'harsh', 'veget', 'butteri', 'musti', 'medicin']\n"
          ]
        }
      ],
      "source": [
        "expert_terms_stemmed = {}\n",
        "for category, terms in expert_terms.items():\n",
        "    tokens = [word_tokenize(term.lower()) for term in terms]\n",
        "\n",
        "    #stemmer = PorterStemmer()\n",
        "    #lemma = nltk.wordnet.WordNetLemmatizer()\n",
        "    stemmer = nltk.stem.SnowballStemmer('english')\n",
        "    stemmed_tokens = [stemmer.stem(word[0]) for word in tokens]\n",
        "    #lemmad_tokens = [lemma.lemmatize(word[0]) for word in tokens]\n",
        "    print(stemmed_tokens)\n",
        "    expert_terms_stemmed[category] =  stemmed_tokens\n",
        "\n"
      ]
    },
    {
      "cell_type": "code",
      "execution_count": 115,
      "id": "8e6f004d-f676-46db-b4f0-6197e14ded72",
      "metadata": {
        "id": "8e6f004d-f676-46db-b4f0-6197e14ded72"
      },
      "outputs": [],
      "source": [
        "exp_stem_set = []\n",
        "for category, terms in expert_terms_stemmed.items():\n",
        "    exp_stem_set = exp_stem_set + terms\n",
        "\n",
        "exp_stem_set = set(exp_stem_set)"
      ]
    },
    {
      "cell_type": "code",
      "execution_count": null,
      "id": "a0bde0eb-15ef-49c0-8e2c-178d05129b64",
      "metadata": {
        "id": "a0bde0eb-15ef-49c0-8e2c-178d05129b64"
      },
      "outputs": [],
      "source": [
        "def extract_keywords(text):\n",
        "    # Tokenize the text\n",
        "    tokens = word_tokenize(text.lower())\n",
        "\n",
        "    # Remove stopwords and punctuation\n",
        "    stop_words = set(stopwords.words('english'))\n",
        "    punkt_symbols = set(punctuation)\n",
        "    removable_words= stop_words.union(punkt_symbols)\n",
        "\n",
        "    filtered_tokens = [word for word in tokens if ((word not in removable_words) and word.isalpha())]\n",
        "\n",
        "    # Stemming\n",
        "    stemmer = PorterStemmer()\n",
        "    stemmed_tokens = [stemmer.stem(word) for word in filtered_tokens]\n",
        "\n",
        "    return stemmed_tokens"
      ]
    },
    {
      "cell_type": "code",
      "execution_count": null,
      "id": "94353c2d-7dd1-416d-b9a8-a0031281465d",
      "metadata": {
        "id": "94353c2d-7dd1-416d-b9a8-a0031281465d"
      },
      "outputs": [],
      "source": [
        "def exp_stem_extract(text, exp_stem_set):\n",
        "    extracted_keywords = set(extract_keywords(text))\n",
        "    return list(exp_stem_set.intersection(extracted_keywords))"
      ]
    },
    {
      "cell_type": "code",
      "execution_count": null,
      "id": "8b859c73-c538-48a0-95c2-124ab087c168",
      "metadata": {
        "id": "8b859c73-c538-48a0-95c2-124ab087c168"
      },
      "outputs": [],
      "source": [
        "def stem_df(x, exp_stem_set):\n",
        "    x = x.copy()\n",
        "    x.loc[:, 'text_lower'] = x['text'].str.lower()\n",
        "    stems =  x['text_lower'].apply(lambda x: exp_stem_extract(x,exp_stem_set))\n",
        "    x = x.drop(columns=['text', 'text_lower'])\n",
        "    return pd.concat([x, stems], axis=1).rename(columns={'text_lower':'stems'})"
      ]
    },
    {
      "cell_type": "code",
      "source": [
        "[len(expert_terms[category]) for category in expert_terms.keys()]"
      ],
      "metadata": {
        "colab": {
          "base_uri": "https://localhost:8080/"
        },
        "id": "cqeiWUAw1eOz",
        "outputId": "0af3db7b-7aa1-48d7-8fa7-be469d9226b1"
      },
      "id": "cqeiWUAw1eOz",
      "execution_count": null,
      "outputs": [
        {
          "output_type": "execute_result",
          "data": {
            "text/plain": [
              "[73, 19, 27, 17, 34, 28, 17, 20, 26]"
            ]
          },
          "metadata": {},
          "execution_count": 50
        }
      ]
    },
    {
      "cell_type": "code",
      "source": [
        "[len(expert_terms_stemmed[category]) for category in expert_terms_stemmed.keys()]\n",
        "#pd.DataFrame.from_dict(expert_terms_stemmed)"
      ],
      "metadata": {
        "colab": {
          "base_uri": "https://localhost:8080/"
        },
        "id": "Hh1CK-6R1Mfp",
        "outputId": "811decb4-f6e4-44a0-84e1-48994751ff96"
      },
      "id": "Hh1CK-6R1Mfp",
      "execution_count": null,
      "outputs": [
        {
          "output_type": "execute_result",
          "data": {
            "text/plain": [
              "[73, 19, 27, 17, 34, 28, 17, 20, 26]"
            ]
          },
          "metadata": {},
          "execution_count": 51
        }
      ]
    },
    {
      "cell_type": "code",
      "source": [
        "for category in expert_terms_stemmed.keys():\n",
        "    for i in range(len(expert_terms_stemmed[category])):\n",
        "        print(category,';',expert_terms[category][i], ':', expert_terms_stemmed[category][i])"
      ],
      "metadata": {
        "id": "ObqgoG4V2Gga"
      },
      "id": "ObqgoG4V2Gga",
      "execution_count": null,
      "outputs": []
    },
    {
      "cell_type": "code",
      "execution_count": null,
      "id": "85a3215a-f3a1-4aca-8cff-04c6ca60d2c4",
      "metadata": {
        "id": "85a3215a-f3a1-4aca-8cff-04c6ca60d2c4",
        "outputId": "7fcfa9c5-bf8d-4e0a-be40-8bce9c8541b9"
      },
      "outputs": [
        {
          "ename": "NameError",
          "evalue": "name 'reviews_Stout' is not defined",
          "output_type": "error",
          "traceback": [
            "\u001b[0;31m---------------------------------------------------------------------------\u001b[0m",
            "\u001b[0;31mNameError\u001b[0m                                 Traceback (most recent call last)",
            "Cell \u001b[0;32mIn[15], line 1\u001b[0m\n\u001b[0;32m----> 1\u001b[0m text_rev_stout \u001b[38;5;241m=\u001b[39m reviews_Stout[reviews_Stout[\u001b[38;5;124m'\u001b[39m\u001b[38;5;124mreview\u001b[39m\u001b[38;5;124m'\u001b[39m]\u001b[38;5;241m==\u001b[39m\u001b[38;5;28;01mTrue\u001b[39;00m][[\u001b[38;5;124m'\u001b[39m\u001b[38;5;124muser_id\u001b[39m\u001b[38;5;124m'\u001b[39m, \u001b[38;5;124m'\u001b[39m\u001b[38;5;124mtext\u001b[39m\u001b[38;5;124m'\u001b[39m]]\n",
            "\u001b[0;31mNameError\u001b[0m: name 'reviews_Stout' is not defined"
          ]
        }
      ],
      "source": [
        "text_rev_stout = reviews_Stout[reviews_Stout['review']==True][['user_id', 'text']]\n"
      ]
    },
    {
      "cell_type": "code",
      "execution_count": null,
      "id": "74714351-bbb1-44ed-8a09-0b4526cad131",
      "metadata": {
        "id": "74714351-bbb1-44ed-8a09-0b4526cad131",
        "outputId": "620366ee-ce05-4a24-99e9-fb20b4030a80"
      },
      "outputs": [
        {
          "name": "stdout",
          "output_type": "stream",
          "text": [
            "--- 2.859100341796875 seconds ---\n"
          ]
        }
      ],
      "source": [
        "import time\n",
        "\n",
        "start_time = time.time()\n",
        "\n",
        "# Concatenate the results back with the original DataFrame\n",
        "text_rev_stout = stem_df(text_rev_stout, exp_stem_set)\n",
        "\n",
        "print(\"--- %s seconds ---\" % (time.time() - start_time))"
      ]
    },
    {
      "cell_type": "code",
      "execution_count": null,
      "id": "b35e16c7-f573-4988-bb68-33857151eb5e",
      "metadata": {
        "id": "b35e16c7-f573-4988-bb68-33857151eb5e",
        "outputId": "b47c8c91-99b3-4018-959a-b8965cc70528"
      },
      "outputs": [
        {
          "data": {
            "text/html": [
              "<div>\n",
              "<style scoped>\n",
              "    .dataframe tbody tr th:only-of-type {\n",
              "        vertical-align: middle;\n",
              "    }\n",
              "\n",
              "    .dataframe tbody tr th {\n",
              "        vertical-align: top;\n",
              "    }\n",
              "\n",
              "    .dataframe thead th {\n",
              "        text-align: right;\n",
              "    }\n",
              "</style>\n",
              "<table border=\"1\" class=\"dataframe\">\n",
              "  <thead>\n",
              "    <tr style=\"text-align: right;\">\n",
              "      <th></th>\n",
              "      <th>user_id</th>\n",
              "      <th>stems</th>\n",
              "    </tr>\n",
              "  </thead>\n",
              "  <tbody>\n",
              "    <tr>\n",
              "      <th>3820003</th>\n",
              "      <td>mdaniel723.1205050</td>\n",
              "      <td>[coffe]</td>\n",
              "    </tr>\n",
              "    <tr>\n",
              "      <th>3820012</th>\n",
              "      <td>cmurphy7.1176491</td>\n",
              "      <td>[coffe, bodi, vanilla, sharp, aftertast, finis...</td>\n",
              "    </tr>\n",
              "    <tr>\n",
              "      <th>3820015</th>\n",
              "      <td>jprince103.1152897</td>\n",
              "      <td>[coffe, chocol, overli, note]</td>\n",
              "    </tr>\n",
              "    <tr>\n",
              "      <th>3820016</th>\n",
              "      <td>docdeens.1196859</td>\n",
              "      <td>[balanc]</td>\n",
              "    </tr>\n",
              "    <tr>\n",
              "      <th>3820026</th>\n",
              "      <td>openstoutlover.1183725</td>\n",
              "      <td>[]</td>\n",
              "    </tr>\n",
              "    <tr>\n",
              "      <th>...</th>\n",
              "      <td>...</td>\n",
              "      <td>...</td>\n",
              "    </tr>\n",
              "    <tr>\n",
              "      <th>3826851</th>\n",
              "      <td>jake_ramrod.719193</td>\n",
              "      <td>[coffe, depth, slick, head, earthi, dark, hint...</td>\n",
              "    </tr>\n",
              "    <tr>\n",
              "      <th>3826852</th>\n",
              "      <td>qwest_35.716659</td>\n",
              "      <td>[coffe, bitter, mocha, complex, roast, dark, w...</td>\n",
              "    </tr>\n",
              "    <tr>\n",
              "      <th>3826853</th>\n",
              "      <td>michaelnickerson.724553</td>\n",
              "      <td>[coffe, bitter, head, smooth, initi, finish, d...</td>\n",
              "    </tr>\n",
              "    <tr>\n",
              "      <th>3826854</th>\n",
              "      <td>jgargano.723897</td>\n",
              "      <td>[balanc, initi, mouthfeel]</td>\n",
              "    </tr>\n",
              "    <tr>\n",
              "      <th>3826855</th>\n",
              "      <td>baltimorebeerlover.723431</td>\n",
              "      <td>[]</td>\n",
              "    </tr>\n",
              "  </tbody>\n",
              "</table>\n",
              "<p>4096 rows × 2 columns</p>\n",
              "</div>"
            ],
            "text/plain": [
              "                           user_id  \\\n",
              "3820003         mdaniel723.1205050   \n",
              "3820012           cmurphy7.1176491   \n",
              "3820015         jprince103.1152897   \n",
              "3820016           docdeens.1196859   \n",
              "3820026     openstoutlover.1183725   \n",
              "...                            ...   \n",
              "3826851         jake_ramrod.719193   \n",
              "3826852            qwest_35.716659   \n",
              "3826853    michaelnickerson.724553   \n",
              "3826854            jgargano.723897   \n",
              "3826855  baltimorebeerlover.723431   \n",
              "\n",
              "                                                     stems  \n",
              "3820003                                            [coffe]  \n",
              "3820012  [coffe, bodi, vanilla, sharp, aftertast, finis...  \n",
              "3820015                      [coffe, chocol, overli, note]  \n",
              "3820016                                           [balanc]  \n",
              "3820026                                                 []  \n",
              "...                                                    ...  \n",
              "3826851  [coffe, depth, slick, head, earthi, dark, hint...  \n",
              "3826852  [coffe, bitter, mocha, complex, roast, dark, w...  \n",
              "3826853  [coffe, bitter, head, smooth, initi, finish, d...  \n",
              "3826854                         [balanc, initi, mouthfeel]  \n",
              "3826855                                                 []  \n",
              "\n",
              "[4096 rows x 2 columns]"
            ]
          },
          "execution_count": 15,
          "metadata": {},
          "output_type": "execute_result"
        }
      ],
      "source": [
        "text_rev_stout"
      ]
    },
    {
      "cell_type": "code",
      "execution_count": null,
      "id": "223fcb0f-fd4c-4312-96d0-6b8aba1ad3df",
      "metadata": {
        "scrolled": true,
        "id": "223fcb0f-fd4c-4312-96d0-6b8aba1ad3df",
        "outputId": "55152d3f-8a7e-4556-a791-8ee9a7c6513b"
      },
      "outputs": [
        {
          "name": "stdout",
          "output_type": "stream",
          "text": [
            "--- 1778.5225338935852 seconds ---\n"
          ]
        }
      ],
      "source": [
        "start_time = time.time()\n",
        "\n",
        "rev_true_ba = stem_df(rev_true_ba, exp_stem_set)\n",
        "\n",
        "print(\"--- %s seconds ---\" % (time.time() - start_time))"
      ]
    },
    {
      "cell_type": "code",
      "execution_count": null,
      "id": "042ee0be-e45b-400a-8444-4921ccbc89aa",
      "metadata": {
        "id": "042ee0be-e45b-400a-8444-4921ccbc89aa"
      },
      "outputs": [],
      "source": [
        "rev_true_ba.to_pickle(os.path.join(advocate_dir, 'reviews_with_exp_stems.pkl'))"
      ]
    },
    {
      "cell_type": "code",
      "execution_count": null,
      "id": "59b83d2b-7556-4ef9-99b2-ece1f909233e",
      "metadata": {
        "id": "59b83d2b-7556-4ef9-99b2-ece1f909233e",
        "outputId": "0a0d8909-d15d-4ae0-f7f6-34e91bb75be9"
      },
      "outputs": [
        {
          "ename": "NameError",
          "evalue": "name 'rev_true_ba' is not defined",
          "output_type": "error",
          "traceback": [
            "\u001b[0;31m---------------------------------------------------------------------------\u001b[0m",
            "\u001b[0;31mNameError\u001b[0m                                 Traceback (most recent call last)",
            "Cell \u001b[0;32mIn[34], line 1\u001b[0m\n\u001b[0;32m----> 1\u001b[0m \u001b[38;5;28mlen\u001b[39m(rev_true_ba)\n",
            "\u001b[0;31mNameError\u001b[0m: name 'rev_true_ba' is not defined"
          ]
        }
      ],
      "source": [
        "len(rev_true_ba)"
      ]
    },
    {
      "cell_type": "code",
      "execution_count": null,
      "id": "4474ba49-cdfd-472b-8f83-0eb79d10a342",
      "metadata": {
        "id": "4474ba49-cdfd-472b-8f83-0eb79d10a342",
        "outputId": "e3dc3a97-8636-4aee-f706-4a6c00648f58"
      },
      "outputs": [
        {
          "data": {
            "text/plain": [
              "119                             [crisp]\n",
              "121        [head, crisp, creami, clean]\n",
              "126                                  []\n",
              "128                                  []\n",
              "130                                  []\n",
              "                       ...             \n",
              "4812581                              []\n",
              "4812590                         [hoppi]\n",
              "4812600                              []\n",
              "4812644                              []\n",
              "4812670                           [rye]\n",
              "Name: stems, Length: 126810, dtype: object"
            ]
          },
          "execution_count": 26,
          "metadata": {},
          "output_type": "execute_result"
        }
      ],
      "source": [
        "rev_true_ba[rev_true_ba['lang_tag']!='en']['stems']"
      ]
    },
    {
      "cell_type": "code",
      "execution_count": null,
      "id": "7dc7460f-1ee6-4d1d-b570-cca7acfaa92d",
      "metadata": {
        "id": "7dc7460f-1ee6-4d1d-b570-cca7acfaa92d"
      },
      "outputs": [],
      "source": [
        "data_path = './../../../data'\n",
        "rb_dir = os.path.join(data_path, 'RateBeer')\n",
        "reviews_rb = pd.read_csv(os.path.join(rb_dir, 'ratings_RB_clean.csv'))\n",
        "\n",
        "rev_true_rb = reviews_rb[reviews_rb['review']==True]"
      ]
    },
    {
      "cell_type": "code",
      "execution_count": null,
      "id": "23daf0ea-c701-4305-9e99-e54f7f05d474",
      "metadata": {
        "id": "23daf0ea-c701-4305-9e99-e54f7f05d474",
        "outputId": "a404d029-c47b-4261-c165-960157c23e62"
      },
      "outputs": [
        {
          "data": {
            "text/plain": [
              "7121601"
            ]
          },
          "execution_count": 4,
          "metadata": {},
          "output_type": "execute_result"
        }
      ],
      "source": [
        "len(rev_true_rb)"
      ]
    },
    {
      "cell_type": "code",
      "execution_count": null,
      "id": "944dea31-3d1d-429c-a04b-c11d6be20d41",
      "metadata": {
        "id": "944dea31-3d1d-429c-a04b-c11d6be20d41"
      },
      "outputs": [],
      "source": [
        "rev_true_rb = rev_true_rb[rev_true_rb['lang_tag']=='en']"
      ]
    },
    {
      "cell_type": "code",
      "execution_count": null,
      "id": "a08a3857-f338-46dc-a73f-56258d048dcf",
      "metadata": {
        "id": "a08a3857-f338-46dc-a73f-56258d048dcf"
      },
      "outputs": [],
      "source": []
    },
    {
      "cell_type": "code",
      "execution_count": null,
      "id": "e0a80506-7c86-4328-bb67-456cf2cf92cf",
      "metadata": {
        "id": "e0a80506-7c86-4328-bb67-456cf2cf92cf",
        "outputId": "d806073a-e8e6-413f-b2cf-7ca7e01dc6cb"
      },
      "outputs": [
        {
          "data": {
            "text/plain": [
              "6606948"
            ]
          },
          "execution_count": 6,
          "metadata": {},
          "output_type": "execute_result"
        }
      ],
      "source": [
        "len(rev_true_rb)"
      ]
    },
    {
      "cell_type": "code",
      "execution_count": null,
      "id": "e5b0f141-595e-4bc3-8469-155d1e3fd405",
      "metadata": {
        "id": "e5b0f141-595e-4bc3-8469-155d1e3fd405",
        "outputId": "2409c2e5-0885-422e-8740-57cd0d741eff"
      },
      "outputs": [
        {
          "name": "stdout",
          "output_type": "stream",
          "text": [
            "--- 2529.523526906967 seconds ---\n"
          ]
        }
      ],
      "source": [
        "import time\n",
        "start_time = time.time()\n",
        "\n",
        "rev_true_rb = stem_df(rev_true_rb, exp_stem_set)\n",
        "\n",
        "print(\"--- %s seconds ---\" % (time.time() - start_time))"
      ]
    },
    {
      "cell_type": "code",
      "execution_count": null,
      "id": "897b6084-8f89-4353-aea3-8ca20c75d21c",
      "metadata": {
        "id": "897b6084-8f89-4353-aea3-8ca20c75d21c"
      },
      "outputs": [],
      "source": [
        "rev_true_rb.to_pickle(os.path.join(rb_dir, 'reviews_with_exp_stems.pkl'))"
      ]
    },
    {
      "cell_type": "code",
      "execution_count": null,
      "id": "7d5a5b40-fbca-4f2a-8782-ba2afce72904",
      "metadata": {
        "id": "7d5a5b40-fbca-4f2a-8782-ba2afce72904"
      },
      "outputs": [],
      "source": [
        "len(rev_true_rb)"
      ]
    }
  ],
  "metadata": {
    "kernelspec": {
      "display_name": "Python 3 (ipykernel)",
      "language": "python",
      "name": "python3"
    },
    "language_info": {
      "codemirror_mode": {
        "name": "ipython",
        "version": 3
      },
      "file_extension": ".py",
      "mimetype": "text/x-python",
      "name": "python",
      "nbconvert_exporter": "python",
      "pygments_lexer": "ipython3",
      "version": "3.12.7"
    },
    "colab": {
      "provenance": []
    }
  },
  "nbformat": 4,
  "nbformat_minor": 5
}