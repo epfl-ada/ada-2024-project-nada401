{
 "cells": [
  {
   "cell_type": "code",
   "execution_count": 1,
   "id": "5f931006-9b32-4a14-9c95-8bfaa6b91dce",
   "metadata": {},
   "outputs": [],
   "source": [
    "import csv\n",
    "import re\n",
    "%matplotlib inline\n",
    "import numpy as np\n",
    "import matplotlib.pyplot as plt\n",
    "import pandas as pd\n",
    "import os\n",
    "import nltk\n",
    "from nltk.tokenize import word_tokenize\n",
    "from nltk.corpus import stopwords\n",
    "from nltk.stem import SnowballStemmer\n",
    "from collections import Counter\n",
    "from string import punctuation\n",
    "import json\n",
    "import sys\n",
    "sys.path.append('../')\n",
    "from helpers import *\n",
    "from exp_stem_extractor import *"
   ]
  },
  {
   "cell_type": "code",
   "execution_count": 2,
   "id": "041e625c-ca4e-40e2-9111-5425c5b71688",
   "metadata": {},
   "outputs": [
    {
     "name": "stderr",
     "output_type": "stream",
     "text": [
      "[nltk_data] Downloading package punkt to\n",
      "[nltk_data]     /Users/alessandrodimaria/nltk_data...\n",
      "[nltk_data]   Package punkt is already up-to-date!\n",
      "[nltk_data] Downloading package stopwords to\n",
      "[nltk_data]     /Users/alessandrodimaria/nltk_data...\n",
      "[nltk_data]   Package stopwords is already up-to-date!\n",
      "[nltk_data] Downloading package punkt_tab to\n",
      "[nltk_data]     /Users/alessandrodimaria/nltk_data...\n",
      "[nltk_data]   Package punkt_tab is already up-to-date!\n"
     ]
    },
    {
     "data": {
      "text/plain": [
       "True"
      ]
     },
     "execution_count": 2,
     "metadata": {},
     "output_type": "execute_result"
    }
   ],
   "source": [
    "nltk.download('punkt')\n",
    "nltk.download('stopwords')\n",
    "nltk.download('punkt_tab')"
   ]
  },
  {
   "cell_type": "code",
   "execution_count": 3,
   "id": "28f72a0d-1dec-4cb6-b8ab-2f97edc24cba",
   "metadata": {},
   "outputs": [],
   "source": [
    "data_path = './../../../data'\n",
    "\n",
    "exp_stem_set = get_exp_stems_set(data_path)\n",
    "advocate_dir = os.path.join(data_path, 'BeerAdvocate')\n",
    "reviews_ba = pd.read_csv(os.path.join(advocate_dir, 'ratings_BA_clean.csv'))\n",
    "\n",
    "rev_true_ba = reviews_ba[(reviews_ba['review']==True) & (reviews_ba['lang_tag']=='en')]"
   ]
  },
  {
   "cell_type": "code",
   "execution_count": 4,
   "id": "223fcb0f-fd4c-4312-96d0-6b8aba1ad3df",
   "metadata": {
    "scrolled": true
   },
   "outputs": [
    {
     "name": "stderr",
     "output_type": "stream",
     "text": [
      "/Users/alessandrodimaria/Desktop/Ada_dataset/src/scripts/expert_metric/exp_stem_extractor.py:34: SettingWithCopyWarning: \n",
      "A value is trying to be set on a copy of a slice from a DataFrame.\n",
      "Try using .loc[row_indexer,col_indexer] = value instead\n",
      "\n",
      "See the caveats in the documentation: https://pandas.pydata.org/pandas-docs/stable/user_guide/indexing.html#returning-a-view-versus-a-copy\n",
      "  df['stems'] = df['text'].str.lower().apply(lambda x: exp_stem_extract(x, exp_stem_set))\n"
     ]
    },
    {
     "name": "stdout",
     "output_type": "stream",
     "text": [
      "--- 1440.104999780655 seconds ---\n"
     ]
    }
   ],
   "source": [
    "import time\n",
    "start_time = time.time()\n",
    "\n",
    "rev_true_ba = stem_df(rev_true_ba, exp_stem_set)\n",
    "\n",
    "print(\"--- %s seconds ---\" % (time.time() - start_time))"
   ]
  },
  {
   "cell_type": "code",
   "execution_count": 5,
   "id": "042ee0be-e45b-400a-8444-4921ccbc89aa",
   "metadata": {},
   "outputs": [],
   "source": [
    "rev_true_ba.to_pickle(os.path.join(advocate_dir, 'reviews_with_exp_stems.pkl'))"
   ]
  },
  {
   "cell_type": "code",
   "execution_count": 6,
   "id": "6b15b58f",
   "metadata": {},
   "outputs": [
    {
     "data": {
      "text/plain": [
       "2588899"
      ]
     },
     "execution_count": 6,
     "metadata": {},
     "output_type": "execute_result"
    }
   ],
   "source": [
    "len(rev_true_ba)"
   ]
  },
  {
   "cell_type": "code",
   "execution_count": 7,
   "id": "59b83d2b-7556-4ef9-99b2-ece1f909233e",
   "metadata": {},
   "outputs": [],
   "source": [
    "del rev_true_ba"
   ]
  },
  {
   "cell_type": "code",
   "execution_count": 8,
   "id": "7dc7460f-1ee6-4d1d-b570-cca7acfaa92d",
   "metadata": {},
   "outputs": [],
   "source": [
    "data_path = './../../../data'\n",
    "rb_dir = os.path.join(data_path, 'RateBeer')\n",
    "reviews_rb = pd.read_csv(os.path.join(rb_dir, 'ratings_RB_clean.csv'))\n",
    "\n",
    "rev_true_rb = reviews_rb[(reviews_rb['review']==True) & (reviews_rb['lang_tag']=='en')]"
   ]
  },
  {
   "cell_type": "code",
   "execution_count": 9,
   "id": "e0a80506-7c86-4328-bb67-456cf2cf92cf",
   "metadata": {},
   "outputs": [
    {
     "data": {
      "text/plain": [
       "6606948"
      ]
     },
     "execution_count": 9,
     "metadata": {},
     "output_type": "execute_result"
    }
   ],
   "source": [
    "len(rev_true_rb)"
   ]
  },
  {
   "cell_type": "code",
   "execution_count": 10,
   "id": "e5b0f141-595e-4bc3-8469-155d1e3fd405",
   "metadata": {},
   "outputs": [
    {
     "name": "stderr",
     "output_type": "stream",
     "text": [
      "/Users/alessandrodimaria/Desktop/Ada_dataset/src/scripts/expert_metric/exp_stem_extractor.py:34: SettingWithCopyWarning: \n",
      "A value is trying to be set on a copy of a slice from a DataFrame.\n",
      "Try using .loc[row_indexer,col_indexer] = value instead\n",
      "\n",
      "See the caveats in the documentation: https://pandas.pydata.org/pandas-docs/stable/user_guide/indexing.html#returning-a-view-versus-a-copy\n",
      "  df['stems'] = df['text'].str.lower().apply(lambda x: exp_stem_extract(x, exp_stem_set))\n"
     ]
    },
    {
     "name": "stdout",
     "output_type": "stream",
     "text": [
      "--- 1902.3664798736572 seconds ---\n"
     ]
    }
   ],
   "source": [
    "import time \n",
    "start_time = time.time()\n",
    "\n",
    "rev_true_rb = stem_df(rev_true_rb, exp_stem_set)\n",
    "\n",
    "print(\"--- %s seconds ---\" % (time.time() - start_time))"
   ]
  },
  {
   "cell_type": "code",
   "execution_count": 11,
   "id": "897b6084-8f89-4353-aea3-8ca20c75d21c",
   "metadata": {},
   "outputs": [],
   "source": [
    "rev_true_rb.to_pickle(os.path.join(rb_dir, 'reviews_with_exp_stems.pkl'))"
   ]
  }
 ],
 "metadata": {
  "kernelspec": {
   "display_name": "ada",
   "language": "python",
   "name": "python3"
  },
  "language_info": {
   "codemirror_mode": {
    "name": "ipython",
    "version": 3
   },
   "file_extension": ".py",
   "mimetype": "text/x-python",
   "name": "python",
   "nbconvert_exporter": "python",
   "pygments_lexer": "ipython3",
   "version": "3.11.10"
  }
 },
 "nbformat": 4,
 "nbformat_minor": 5
}
