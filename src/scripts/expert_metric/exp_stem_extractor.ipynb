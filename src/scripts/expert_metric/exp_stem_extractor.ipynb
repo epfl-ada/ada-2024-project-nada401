{
 "cells": [
  {
   "cell_type": "code",
   "execution_count": null,
   "id": "5f931006-9b32-4a14-9c95-8bfaa6b91dce",
   "metadata": {},
   "outputs": [],
   "source": [
    "import csv\n",
    "import re\n",
    "%matplotlib inline\n",
    "import numpy as np\n",
    "import matplotlib.pyplot as plt\n",
    "import pandas as pd\n",
    "import os\n",
    "import nltk\n",
    "from nltk.tokenize import word_tokenize\n",
    "from nltk.corpus import stopwords\n",
    "from nltk.stem import SnowballStemmer\n",
    "from collections import Counter\n",
    "from string import punctuation\n",
    "import json\n",
    "from helpers import *"
   ]
  },
  {
   "cell_type": "code",
   "execution_count": 3,
   "id": "041e625c-ca4e-40e2-9111-5425c5b71688",
   "metadata": {},
   "outputs": [
    {
     "name": "stderr",
     "output_type": "stream",
     "text": [
      "[nltk_data] Downloading package punkt to\n",
      "[nltk_data]     /Users/alessandrodimaria/nltk_data...\n",
      "[nltk_data]   Package punkt is already up-to-date!\n",
      "[nltk_data] Downloading package stopwords to\n",
      "[nltk_data]     /Users/alessandrodimaria/nltk_data...\n",
      "[nltk_data]   Package stopwords is already up-to-date!\n",
      "[nltk_data] Downloading package punkt_tab to\n",
      "[nltk_data]     /Users/alessandrodimaria/nltk_data...\n",
      "[nltk_data]   Package punkt_tab is already up-to-date!\n"
     ]
    },
    {
     "data": {
      "text/plain": [
       "True"
      ]
     },
     "execution_count": 3,
     "metadata": {},
     "output_type": "execute_result"
    }
   ],
   "source": [
    "nltk.download('punkt')\n",
    "nltk.download('stopwords')\n",
    "nltk.download('punkt_tab')"
   ]
  },
  {
   "cell_type": "code",
   "execution_count": null,
   "id": "28f72a0d-1dec-4cb6-b8ab-2f97edc24cba",
   "metadata": {},
   "outputs": [],
   "source": [
    "data_path = './../../../data'\n",
    "\n",
    "expert_terms = get_exp_terms(data_path)\n",
    "advocate_dir = os.path.join(data_path, 'BeerAdvocate')\n",
    "reviews_ba = pd.read_csv(os.path.join(advocate_dir, 'ratings_BA_clean.csv'))\n",
    "\n",
    "rev_true_ba = reviews_ba[reviews_ba['review']==True]"
   ]
  },
  {
   "cell_type": "code",
   "execution_count": 5,
   "id": "3b49ff58-bbd3-4818-8ff5-b2dc697d44db",
   "metadata": {},
   "outputs": [],
   "source": [
    "users = pd.read_csv(os.path.join(advocate_dir, 'users.csv'))\n",
    "beer_BA = pd.read_csv(os.path.join(advocate_dir, 'beers.csv'))"
   ]
  },
  {
   "cell_type": "code",
   "execution_count": 6,
   "id": "2bf4282b-60c4-49a7-a4ff-8480e3977b6b",
   "metadata": {},
   "outputs": [],
   "source": [
    "beer_BA_grouped = beer_BA.groupby('style')\n",
    "most_fam_b_per_style = pd.DataFrame()\n",
    "for name, gruop in beer_BA_grouped:\n",
    "    g = gruop.sort_values(ascending=[False],by=['nbr_reviews'])\n",
    "    most_fam_b_per_style = pd.concat([most_fam_b_per_style, g.head(1)])\n",
    "\n",
    "most_fam_stout = most_fam_b_per_style.sort_values(ascending=[False],by=['nbr_reviews']).iloc[1]\n",
    "reviews_Stout = reviews_ba[reviews_ba['beer_id']==most_fam_stout.beer_id]\n",
    "text_rev_stout = reviews_Stout[reviews_Stout['review']==True]['text']"
   ]
  },
  {
   "cell_type": "code",
   "execution_count": 7,
   "id": "cee64d7d-7ff2-4f2c-9449-3bead6358289",
   "metadata": {},
   "outputs": [],
   "source": [
    "expert_terms_stemmed = {}\n",
    "for category, terms in expert_terms.items():\n",
    "    tokens = [word_tokenize(term.lower()) for term in terms]\n",
    "    \n",
    "    stemmer = SnowballStemmer('english')\n",
    "    stemmed_tokens = [stemmer.stem(word[0]) for word in tokens]\n",
    "    expert_terms_stemmed[category] =  stemmed_tokens\n",
    "\n"
   ]
  },
  {
   "cell_type": "code",
   "execution_count": 8,
   "id": "8e6f004d-f676-46db-b4f0-6197e14ded72",
   "metadata": {},
   "outputs": [],
   "source": [
    "exp_stem_set = []\n",
    "for category, terms in expert_terms_stemmed.items():\n",
    "    exp_stem_set = exp_stem_set + terms\n",
    "    \n",
    "exp_stem_set = set(exp_stem_set)"
   ]
  },
  {
   "cell_type": "code",
   "execution_count": 14,
   "id": "a0bde0eb-15ef-49c0-8e2c-178d05129b64",
   "metadata": {},
   "outputs": [],
   "source": [
    "def extract_keywords(text):\n",
    "    # Tokenize the text\n",
    "    tokens = word_tokenize(text.lower())\n",
    "\n",
    "    # Remove stopwords and punctuation\n",
    "    stop_words = set(stopwords.words('english'))\n",
    "    punkt_symbols = set(punctuation)\n",
    "    removable_words= stop_words.union(punkt_symbols)\n",
    "\n",
    "    filtered_tokens = [word for word in tokens if ((word not in removable_words) and word.isalpha())]\n",
    "\n",
    "    # Stemming\n",
    "    stemmer = SnowballStemmer('english')\n",
    "    stemmed_tokens = [stemmer.stem(word) for word in filtered_tokens]\n",
    "\n",
    "    return stemmed_tokens"
   ]
  },
  {
   "cell_type": "code",
   "execution_count": 15,
   "id": "94353c2d-7dd1-416d-b9a8-a0031281465d",
   "metadata": {},
   "outputs": [],
   "source": [
    "def exp_stem_extract(text, exp_stem_set):\n",
    "    extracted_keywords = set(extract_keywords(text))\n",
    "    return list(exp_stem_set.intersection(extracted_keywords))"
   ]
  },
  {
   "cell_type": "code",
   "execution_count": 16,
   "id": "8b859c73-c538-48a0-95c2-124ab087c168",
   "metadata": {},
   "outputs": [],
   "source": [
    "def stem_df(x, exp_stem_set):\n",
    "    x = x.copy()\n",
    "    x.loc[:, 'text_lower'] = x['text'].str.lower()\n",
    "    stems =  x['text_lower'].apply(lambda x: exp_stem_extract(x,exp_stem_set))\n",
    "    x = x.drop(columns=['text', 'text_lower'])\n",
    "    return pd.concat([x, stems], axis=1).rename(columns={'text_lower':'stems'})"
   ]
  },
  {
   "cell_type": "code",
   "execution_count": 17,
   "id": "85a3215a-f3a1-4aca-8cff-04c6ca60d2c4",
   "metadata": {},
   "outputs": [],
   "source": [
    "text_rev_stout = reviews_Stout[reviews_Stout['review']==True][['user_id', 'text']]\n"
   ]
  },
  {
   "cell_type": "code",
   "execution_count": 18,
   "id": "74714351-bbb1-44ed-8a09-0b4526cad131",
   "metadata": {},
   "outputs": [
    {
     "name": "stdout",
     "output_type": "stream",
     "text": [
      "--- 2.485391139984131 seconds ---\n"
     ]
    }
   ],
   "source": [
    "import time\n",
    "\n",
    "start_time = time.time()\n",
    "\n",
    "# Concatenate the results back with the original DataFrame\n",
    "text_rev_stout = stem_df(text_rev_stout, exp_stem_set)\n",
    "\n",
    "print(\"--- %s seconds ---\" % (time.time() - start_time))"
   ]
  },
  {
   "cell_type": "code",
   "execution_count": 19,
   "id": "223fcb0f-fd4c-4312-96d0-6b8aba1ad3df",
   "metadata": {
    "scrolled": true
   },
   "outputs": [
    {
     "name": "stdout",
     "output_type": "stream",
     "text": [
      "--- 1597.5862839221954 seconds ---\n"
     ]
    }
   ],
   "source": [
    "import time\n",
    "start_time = time.time()\n",
    "\n",
    "rev_true_ba = stem_df(rev_true_ba, exp_stem_set)\n",
    "\n",
    "print(\"--- %s seconds ---\" % (time.time() - start_time))"
   ]
  },
  {
   "cell_type": "code",
   "execution_count": 21,
   "id": "042ee0be-e45b-400a-8444-4921ccbc89aa",
   "metadata": {},
   "outputs": [],
   "source": [
    "rev_true_ba = rev_true_ba[rev_true_ba['lang_tag']=='en']\n",
    "rev_true_ba.to_pickle(os.path.join(advocate_dir, 'reviews_with_exp_stems.pkl'))"
   ]
  },
  {
   "cell_type": "code",
   "execution_count": 22,
   "id": "59b83d2b-7556-4ef9-99b2-ece1f909233e",
   "metadata": {},
   "outputs": [
    {
     "data": {
      "text/plain": [
       "2588899"
      ]
     },
     "execution_count": 22,
     "metadata": {},
     "output_type": "execute_result"
    }
   ],
   "source": [
    "len(rev_true_ba)"
   ]
  },
  {
   "cell_type": "code",
   "execution_count": 23,
   "id": "7dc7460f-1ee6-4d1d-b570-cca7acfaa92d",
   "metadata": {},
   "outputs": [],
   "source": [
    "data_path = './../../../data'\n",
    "rb_dir = os.path.join(data_path, 'RateBeer')\n",
    "reviews_rb = pd.read_csv(os.path.join(rb_dir, 'ratings_RB_clean.csv'))\n",
    "\n",
    "rev_true_rb = reviews_rb[reviews_rb['review']==True]"
   ]
  },
  {
   "cell_type": "code",
   "execution_count": 24,
   "id": "23daf0ea-c701-4305-9e99-e54f7f05d474",
   "metadata": {},
   "outputs": [
    {
     "data": {
      "text/plain": [
       "7121601"
      ]
     },
     "execution_count": 24,
     "metadata": {},
     "output_type": "execute_result"
    }
   ],
   "source": [
    "len(rev_true_rb)"
   ]
  },
  {
   "cell_type": "code",
   "execution_count": 25,
   "id": "944dea31-3d1d-429c-a04b-c11d6be20d41",
   "metadata": {},
   "outputs": [],
   "source": [
    "rev_true_rb = rev_true_rb[rev_true_rb['lang_tag']=='en']"
   ]
  },
  {
   "cell_type": "code",
   "execution_count": 26,
   "id": "a08a3857-f338-46dc-a73f-56258d048dcf",
   "metadata": {},
   "outputs": [
    {
     "data": {
      "text/plain": [
       "6606948"
      ]
     },
     "execution_count": 26,
     "metadata": {},
     "output_type": "execute_result"
    }
   ],
   "source": [
    "len(rev_true_rb)"
   ]
  },
  {
   "cell_type": "code",
   "execution_count": null,
   "id": "e0a80506-7c86-4328-bb67-456cf2cf92cf",
   "metadata": {},
   "outputs": [
    {
     "data": {
      "text/plain": [
       "6606948"
      ]
     },
     "execution_count": 6,
     "metadata": {},
     "output_type": "execute_result"
    }
   ],
   "source": [
    "len(rev_true_rb)"
   ]
  },
  {
   "cell_type": "code",
   "execution_count": 27,
   "id": "e5b0f141-595e-4bc3-8469-155d1e3fd405",
   "metadata": {},
   "outputs": [
    {
     "name": "stdout",
     "output_type": "stream",
     "text": [
      "--- 2582.77440738678 seconds ---\n"
     ]
    }
   ],
   "source": [
    "import time \n",
    "start_time = time.time()\n",
    "\n",
    "rev_true_rb = stem_df(rev_true_rb, exp_stem_set)\n",
    "\n",
    "print(\"--- %s seconds ---\" % (time.time() - start_time))"
   ]
  },
  {
   "cell_type": "code",
   "execution_count": 28,
   "id": "897b6084-8f89-4353-aea3-8ca20c75d21c",
   "metadata": {},
   "outputs": [],
   "source": [
    "rev_true_rb.to_pickle(os.path.join(rb_dir, 'reviews_with_exp_stems.pkl'))"
   ]
  }
 ],
 "metadata": {
  "kernelspec": {
   "display_name": "ada",
   "language": "python",
   "name": "python3"
  },
  "language_info": {
   "codemirror_mode": {
    "name": "ipython",
    "version": 3
   },
   "file_extension": ".py",
   "mimetype": "text/x-python",
   "name": "python",
   "nbconvert_exporter": "python",
   "pygments_lexer": "ipython3",
   "version": "3.11.10"
  }
 },
 "nbformat": 4,
 "nbformat_minor": 5
}
