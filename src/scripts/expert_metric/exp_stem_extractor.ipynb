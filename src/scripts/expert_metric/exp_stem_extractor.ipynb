{
 "cells": [
  {
   "cell_type": "code",
   "execution_count": 1,
   "id": "5f931006-9b32-4a14-9c95-8bfaa6b91dce",
   "metadata": {},
   "outputs": [],
   "source": [
    "import csv\n",
    "import re\n",
    "%matplotlib inline\n",
    "import numpy as np\n",
    "import matplotlib.pyplot as plt\n",
    "import pandas as pd\n",
    "import os\n",
    "import nltk\n",
    "from nltk.tokenize import word_tokenize\n",
    "from nltk.corpus import stopwords\n",
    "from nltk.stem import PorterStemmer\n",
    "from collections import Counter\n",
    "from string import punctuation"
   ]
  },
  {
   "cell_type": "code",
   "execution_count": 2,
   "id": "041e625c-ca4e-40e2-9111-5425c5b71688",
   "metadata": {},
   "outputs": [
    {
     "name": "stderr",
     "output_type": "stream",
     "text": [
      "[nltk_data] Downloading package punkt to\n",
      "[nltk_data]     /Users/alessandrodimaria/nltk_data...\n",
      "[nltk_data]   Package punkt is already up-to-date!\n",
      "[nltk_data] Downloading package stopwords to\n",
      "[nltk_data]     /Users/alessandrodimaria/nltk_data...\n",
      "[nltk_data]   Package stopwords is already up-to-date!\n",
      "[nltk_data] Downloading package punkt_tab to\n",
      "[nltk_data]     /Users/alessandrodimaria/nltk_data...\n",
      "[nltk_data]   Package punkt_tab is already up-to-date!\n"
     ]
    },
    {
     "data": {
      "text/plain": [
       "True"
      ]
     },
     "execution_count": 2,
     "metadata": {},
     "output_type": "execute_result"
    }
   ],
   "source": [
    "nltk.download('punkt')\n",
    "nltk.download('stopwords')\n",
    "nltk.download('punkt_tab')"
   ]
  },
  {
   "cell_type": "code",
   "execution_count": null,
   "id": "28f72a0d-1dec-4cb6-b8ab-2f97edc24cba",
   "metadata": {},
   "outputs": [],
   "source": [
    "data_path = './../../../data'\n",
    "advocate_dir = os.path.join(data_path, 'BeerAdvocate')\n",
    "reviews_ba = pd.read_csv(os.path.join(advocate_dir, 'ratings_BA_clean.csv'))\n",
    "\n",
    "rev_true_ba = reviews_ba[reviews_ba['review']==True]"
   ]
  },
  {
   "cell_type": "code",
   "execution_count": null,
   "id": "3b49ff58-bbd3-4818-8ff5-b2dc697d44db",
   "metadata": {},
   "outputs": [],
   "source": [
    "users = pd.read_csv(os.path.join(advocate_dir, 'users.csv'))\n",
    "beer_BA = pd.read_csv(os.path.join(advocate_dir, 'beers.csv'))"
   ]
  },
  {
   "cell_type": "code",
   "execution_count": 5,
   "id": "2bf4282b-60c4-49a7-a4ff-8480e3977b6b",
   "metadata": {},
   "outputs": [],
   "source": [
    "beer_BA_grouped = beer_BA.groupby('style')\n",
    "most_fam_b_per_style = pd.DataFrame()\n",
    "for name, gruop in beer_BA_grouped:\n",
    "    g = gruop.sort_values(ascending=[False],by=['nbr_reviews'])\n",
    "    most_fam_b_per_style = pd.concat([most_fam_b_per_style, g.head(1)])\n",
    "\n",
    "most_fam_stout = most_fam_b_per_style.sort_values(ascending=[False],by=['nbr_reviews']).iloc[1]\n",
    "reviews_Stout = reviews_ba[reviews_ba['beer_id']==most_fam_stout.beer_id]\n",
    "text_rev_stout = reviews_Stout[reviews_Stout['review']==True]['text']"
   ]
  },
  {
   "cell_type": "code",
   "execution_count": 3,
   "id": "a05d9856-843b-418d-91a6-526962966c34",
   "metadata": {},
   "outputs": [],
   "source": [
    "expert_terms = {\n",
    "    \"flavor\": ['caramel', 'toffee', 'bready', 'biscuity', 'nutty', 'roasted', 'chocolate', 'coffee', 'mocha','molasses','syrupy','smokey','toasted','vanilla','cocoa','brown sugar',\n",
    "              'hoppy', 'citrusy', 'tropical', 'floral', 'piney', 'resinous', 'herbal', 'grassy', 'earthy', 'dank', 'spicy', 'peppery', 'juicy', 'zesty', 'tangy', 'sharp', 'resin', 'bitterness',\n",
    "               'estery',' fruity', 'berry',' cherry',' apple',' banana', 'pear', 'stone fruit', 'plum', 'fig', 'raisin', 'peach',' apricot', 'dark fruit', 'citrus zest', 'lemon', 'orange peel', 'pineapple', 'mango', 'lychee',\n",
    "               'oaky', 'woody', 'bourbon', 'whiskey', 'rye', 'tequila', 'brandy','vinous', 'sour', 'tart', 'acidic', 'lacto', 'brett', 'farmhouse', 'honeyed', 'clove', 'bubblegum', 'funky', 'barnyard'], \n",
    "    \"aroma\": ['bouquet', 'nose', 'aromatic', 'fragrant','perfumed', 'faint', 'musky', 'dank', 'subtle', 'fruity', 'floral', 'yeasty', 'clean', 'malty', 'crisp', 'pungent', 'spicy', 'smokey', 'earthy'],  \n",
    "    \"mouthfeel\": [ 'body','full-bodied', 'medium-bodied', 'light-bodied', 'thick', 'thin', 'mouthfeel', 'creamy', 'smooth', 'velvety', 'oily', 'astringent','tannic', 'chalky', 'drying', 'slick', 'watery', 'effervescent', 'fizzy', 'tingly', 'prickly', 'carbonation', 'viscosity', 'warming', 'coating', 'biting', 'sharp'],\n",
    "    \"brewing\": [ 'dry hopping', 'double dry hopping', 'barrel-aged', 'bottle-conditioned', 'open fermentation', 'secondary fermentation', 'wort', 'mash, sparging', 'cold crashing', 'decoction', 'conditioning', 'lacto', 'yeast strain', 'adjuncts', 'grains', 'malt', 'specialty grains'],\n",
    "    \"technical\": [ 'balance', 'complexity', 'depth', 'layers', 'nuanced', 'refined', 'structured', 'profile', 'round', 'harmonious', 'clean', 'crisp', 'finish', 'lingering', 'evolving', 'sharp', 'clarity', 'purity', 'dense', 'robust', 'powerful', 'light', 'restrained', 'vibrant', 'subdued', 'heavy', 'integrity', 'layered', 'exemplar', 'benchmark', 'classic', 'signature style', 'finesse', 'elegance'],\n",
    "    \"appearance\": ['hazy', 'cloudy', 'opaque', 'translucent', 'clear', 'bright', 'unfiltered', 'filtered', 'lacing', 'foam', 'frothy', 'rocky head', 'stable head', 'head retention', 'appearance', 'golden', 'amber', 'ruby', 'copper', 'dark', 'black', 'mahogany', 'light', 'straw', 'yellow', 'chestnut', 'tan', 'off-white head' ],\n",
    "    \"judgment\": [ 'exemplar', 'well-integrated', 'restrained', 'harmonious', 'round', 'classic example', 'benchmark', 'flawless', 'exceptional', 'outstanding', 'world-class', 'traditional', 'innovative', 'unconventional', 'unique', 'reference point', 'nuanced' ],\n",
    "    \"off_flavors\": [ 'oxidized', 'metallic', 'cardboard', 'stale', 'sulfur', 'skunky', 'diacetyl', 'astringent', 'phenolic', 'acetaldehyde', 'DMS', 'cloying', 'solvent-like', 'overly bitter', 'thin', 'harsh', 'vegetal', 'buttery', 'musty, moldy', 'medicinal' ],\n",
    "    \"miscellaneous\": [ 'initial impression', 'mid-palate', 'aftertaste', 'finish', 'lingering', 'mouth-coating', 'evolving flavor', 'balanced start', 'unfolding', 'developing', 'peak', 'bright finish', 'dry finish', 'clean ending', 'reminiscent', 'similar to', 'akin to', 'comparable', 'surpasses', 'diverges from', 'evokes', 'hints of', 'resembles', 'distinct from', 'notes of', 'echoes' ]\n",
    "}"
   ]
  },
  {
   "cell_type": "code",
   "execution_count": 4,
   "id": "cee64d7d-7ff2-4f2c-9449-3bead6358289",
   "metadata": {},
   "outputs": [],
   "source": [
    "expert_terms_stemmed = {}\n",
    "for category, terms in expert_terms.items():\n",
    "    tokens = [word_tokenize(term.lower()) for term in terms]\n",
    "    \n",
    "    stemmer = PorterStemmer()\n",
    "    stemmed_tokens = [stemmer.stem(word[0]) for word in tokens]\n",
    "    expert_terms_stemmed[category] =  stemmed_tokens\n",
    "\n"
   ]
  },
  {
   "cell_type": "code",
   "execution_count": 11,
   "id": "8e6f004d-f676-46db-b4f0-6197e14ded72",
   "metadata": {},
   "outputs": [],
   "source": [
    "exp_stem_set = []\n",
    "for category, terms in expert_terms_stemmed.items():\n",
    "    exp_stem_set = exp_stem_set + terms\n",
    "    \n",
    "exp_stem_set = set(exp_stem_set)"
   ]
  },
  {
   "cell_type": "code",
   "execution_count": 12,
   "id": "a0bde0eb-15ef-49c0-8e2c-178d05129b64",
   "metadata": {},
   "outputs": [],
   "source": [
    "def extract_keywords(text):\n",
    "    # Tokenize the text\n",
    "    tokens = word_tokenize(text.lower())\n",
    "\n",
    "    # Remove stopwords and punctuation\n",
    "    stop_words = set(stopwords.words('english'))\n",
    "    punkt_symbols = set(punctuation)\n",
    "    removable_words= stop_words.union(punkt_symbols)\n",
    "\n",
    "    filtered_tokens = [word for word in tokens if ((word not in removable_words) and word.isalpha())]\n",
    "\n",
    "    # Stemming\n",
    "    stemmer = PorterStemmer()\n",
    "    stemmed_tokens = [stemmer.stem(word) for word in filtered_tokens]\n",
    "\n",
    "    return stemmed_tokens"
   ]
  },
  {
   "cell_type": "code",
   "execution_count": 13,
   "id": "94353c2d-7dd1-416d-b9a8-a0031281465d",
   "metadata": {},
   "outputs": [],
   "source": [
    "def exp_stem_extract(text, exp_stem_set):\n",
    "    extracted_keywords = set(extract_keywords(text))\n",
    "    return list(exp_stem_set.intersection(extracted_keywords))"
   ]
  },
  {
   "cell_type": "code",
   "execution_count": 14,
   "id": "8b859c73-c538-48a0-95c2-124ab087c168",
   "metadata": {},
   "outputs": [],
   "source": [
    "def stem_df(x, exp_stem_set):\n",
    "    x = x.copy()\n",
    "    x.loc[:, 'text_lower'] = x['text'].str.lower()\n",
    "    stems =  x['text_lower'].apply(lambda x: exp_stem_extract(x,exp_stem_set))\n",
    "    x = x.drop(columns=['text', 'text_lower'])\n",
    "    return pd.concat([x, stems], axis=1).rename(columns={'text_lower':'stems'})"
   ]
  },
  {
   "cell_type": "code",
   "execution_count": 15,
   "id": "85a3215a-f3a1-4aca-8cff-04c6ca60d2c4",
   "metadata": {},
   "outputs": [
    {
     "ename": "NameError",
     "evalue": "name 'reviews_Stout' is not defined",
     "output_type": "error",
     "traceback": [
      "\u001b[0;31m---------------------------------------------------------------------------\u001b[0m",
      "\u001b[0;31mNameError\u001b[0m                                 Traceback (most recent call last)",
      "Cell \u001b[0;32mIn[15], line 1\u001b[0m\n\u001b[0;32m----> 1\u001b[0m text_rev_stout \u001b[38;5;241m=\u001b[39m reviews_Stout[reviews_Stout[\u001b[38;5;124m'\u001b[39m\u001b[38;5;124mreview\u001b[39m\u001b[38;5;124m'\u001b[39m]\u001b[38;5;241m==\u001b[39m\u001b[38;5;28;01mTrue\u001b[39;00m][[\u001b[38;5;124m'\u001b[39m\u001b[38;5;124muser_id\u001b[39m\u001b[38;5;124m'\u001b[39m, \u001b[38;5;124m'\u001b[39m\u001b[38;5;124mtext\u001b[39m\u001b[38;5;124m'\u001b[39m]]\n",
      "\u001b[0;31mNameError\u001b[0m: name 'reviews_Stout' is not defined"
     ]
    }
   ],
   "source": [
    "text_rev_stout = reviews_Stout[reviews_Stout['review']==True][['user_id', 'text']]\n"
   ]
  },
  {
   "cell_type": "code",
   "execution_count": 14,
   "id": "74714351-bbb1-44ed-8a09-0b4526cad131",
   "metadata": {},
   "outputs": [
    {
     "name": "stdout",
     "output_type": "stream",
     "text": [
      "--- 2.859100341796875 seconds ---\n"
     ]
    }
   ],
   "source": [
    "import time\n",
    "\n",
    "start_time = time.time()\n",
    "\n",
    "# Concatenate the results back with the original DataFrame\n",
    "text_rev_stout = stem_df(text_rev_stout, exp_stem_set)\n",
    "\n",
    "print(\"--- %s seconds ---\" % (time.time() - start_time))"
   ]
  },
  {
   "cell_type": "code",
   "execution_count": 15,
   "id": "b35e16c7-f573-4988-bb68-33857151eb5e",
   "metadata": {},
   "outputs": [
    {
     "data": {
      "text/html": [
       "<div>\n",
       "<style scoped>\n",
       "    .dataframe tbody tr th:only-of-type {\n",
       "        vertical-align: middle;\n",
       "    }\n",
       "\n",
       "    .dataframe tbody tr th {\n",
       "        vertical-align: top;\n",
       "    }\n",
       "\n",
       "    .dataframe thead th {\n",
       "        text-align: right;\n",
       "    }\n",
       "</style>\n",
       "<table border=\"1\" class=\"dataframe\">\n",
       "  <thead>\n",
       "    <tr style=\"text-align: right;\">\n",
       "      <th></th>\n",
       "      <th>user_id</th>\n",
       "      <th>stems</th>\n",
       "    </tr>\n",
       "  </thead>\n",
       "  <tbody>\n",
       "    <tr>\n",
       "      <th>3820003</th>\n",
       "      <td>mdaniel723.1205050</td>\n",
       "      <td>[coffe]</td>\n",
       "    </tr>\n",
       "    <tr>\n",
       "      <th>3820012</th>\n",
       "      <td>cmurphy7.1176491</td>\n",
       "      <td>[coffe, bodi, vanilla, sharp, aftertast, finis...</td>\n",
       "    </tr>\n",
       "    <tr>\n",
       "      <th>3820015</th>\n",
       "      <td>jprince103.1152897</td>\n",
       "      <td>[coffe, chocol, overli, note]</td>\n",
       "    </tr>\n",
       "    <tr>\n",
       "      <th>3820016</th>\n",
       "      <td>docdeens.1196859</td>\n",
       "      <td>[balanc]</td>\n",
       "    </tr>\n",
       "    <tr>\n",
       "      <th>3820026</th>\n",
       "      <td>openstoutlover.1183725</td>\n",
       "      <td>[]</td>\n",
       "    </tr>\n",
       "    <tr>\n",
       "      <th>...</th>\n",
       "      <td>...</td>\n",
       "      <td>...</td>\n",
       "    </tr>\n",
       "    <tr>\n",
       "      <th>3826851</th>\n",
       "      <td>jake_ramrod.719193</td>\n",
       "      <td>[coffe, depth, slick, head, earthi, dark, hint...</td>\n",
       "    </tr>\n",
       "    <tr>\n",
       "      <th>3826852</th>\n",
       "      <td>qwest_35.716659</td>\n",
       "      <td>[coffe, bitter, mocha, complex, roast, dark, w...</td>\n",
       "    </tr>\n",
       "    <tr>\n",
       "      <th>3826853</th>\n",
       "      <td>michaelnickerson.724553</td>\n",
       "      <td>[coffe, bitter, head, smooth, initi, finish, d...</td>\n",
       "    </tr>\n",
       "    <tr>\n",
       "      <th>3826854</th>\n",
       "      <td>jgargano.723897</td>\n",
       "      <td>[balanc, initi, mouthfeel]</td>\n",
       "    </tr>\n",
       "    <tr>\n",
       "      <th>3826855</th>\n",
       "      <td>baltimorebeerlover.723431</td>\n",
       "      <td>[]</td>\n",
       "    </tr>\n",
       "  </tbody>\n",
       "</table>\n",
       "<p>4096 rows × 2 columns</p>\n",
       "</div>"
      ],
      "text/plain": [
       "                           user_id  \\\n",
       "3820003         mdaniel723.1205050   \n",
       "3820012           cmurphy7.1176491   \n",
       "3820015         jprince103.1152897   \n",
       "3820016           docdeens.1196859   \n",
       "3820026     openstoutlover.1183725   \n",
       "...                            ...   \n",
       "3826851         jake_ramrod.719193   \n",
       "3826852            qwest_35.716659   \n",
       "3826853    michaelnickerson.724553   \n",
       "3826854            jgargano.723897   \n",
       "3826855  baltimorebeerlover.723431   \n",
       "\n",
       "                                                     stems  \n",
       "3820003                                            [coffe]  \n",
       "3820012  [coffe, bodi, vanilla, sharp, aftertast, finis...  \n",
       "3820015                      [coffe, chocol, overli, note]  \n",
       "3820016                                           [balanc]  \n",
       "3820026                                                 []  \n",
       "...                                                    ...  \n",
       "3826851  [coffe, depth, slick, head, earthi, dark, hint...  \n",
       "3826852  [coffe, bitter, mocha, complex, roast, dark, w...  \n",
       "3826853  [coffe, bitter, head, smooth, initi, finish, d...  \n",
       "3826854                         [balanc, initi, mouthfeel]  \n",
       "3826855                                                 []  \n",
       "\n",
       "[4096 rows x 2 columns]"
      ]
     },
     "execution_count": 15,
     "metadata": {},
     "output_type": "execute_result"
    }
   ],
   "source": [
    "text_rev_stout"
   ]
  },
  {
   "cell_type": "code",
   "execution_count": 16,
   "id": "223fcb0f-fd4c-4312-96d0-6b8aba1ad3df",
   "metadata": {
    "scrolled": true
   },
   "outputs": [
    {
     "name": "stdout",
     "output_type": "stream",
     "text": [
      "--- 1778.5225338935852 seconds ---\n"
     ]
    }
   ],
   "source": [
    "start_time = time.time()\n",
    "\n",
    "rev_true_ba = stem_df(rev_true_ba, exp_stem_set)\n",
    "\n",
    "print(\"--- %s seconds ---\" % (time.time() - start_time))"
   ]
  },
  {
   "cell_type": "code",
   "execution_count": 17,
   "id": "042ee0be-e45b-400a-8444-4921ccbc89aa",
   "metadata": {},
   "outputs": [],
   "source": [
    "rev_true_ba.to_pickle(os.path.join(advocate_dir, 'reviews_with_exp_stems.pkl'))"
   ]
  },
  {
   "cell_type": "code",
   "execution_count": 34,
   "id": "59b83d2b-7556-4ef9-99b2-ece1f909233e",
   "metadata": {},
   "outputs": [
    {
     "ename": "NameError",
     "evalue": "name 'rev_true_ba' is not defined",
     "output_type": "error",
     "traceback": [
      "\u001b[0;31m---------------------------------------------------------------------------\u001b[0m",
      "\u001b[0;31mNameError\u001b[0m                                 Traceback (most recent call last)",
      "Cell \u001b[0;32mIn[34], line 1\u001b[0m\n\u001b[0;32m----> 1\u001b[0m \u001b[38;5;28mlen\u001b[39m(rev_true_ba)\n",
      "\u001b[0;31mNameError\u001b[0m: name 'rev_true_ba' is not defined"
     ]
    }
   ],
   "source": [
    "len(rev_true_ba)"
   ]
  },
  {
   "cell_type": "code",
   "execution_count": 26,
   "id": "4474ba49-cdfd-472b-8f83-0eb79d10a342",
   "metadata": {},
   "outputs": [
    {
     "data": {
      "text/plain": [
       "119                             [crisp]\n",
       "121        [head, crisp, creami, clean]\n",
       "126                                  []\n",
       "128                                  []\n",
       "130                                  []\n",
       "                       ...             \n",
       "4812581                              []\n",
       "4812590                         [hoppi]\n",
       "4812600                              []\n",
       "4812644                              []\n",
       "4812670                           [rye]\n",
       "Name: stems, Length: 126810, dtype: object"
      ]
     },
     "execution_count": 26,
     "metadata": {},
     "output_type": "execute_result"
    }
   ],
   "source": [
    "rev_true_ba[rev_true_ba['lang_tag']!='en']['stems']"
   ]
  },
  {
   "cell_type": "code",
   "execution_count": null,
   "id": "7dc7460f-1ee6-4d1d-b570-cca7acfaa92d",
   "metadata": {},
   "outputs": [],
   "source": [
    "data_path = './../../../data'\n",
    "rb_dir = os.path.join(data_path, 'RateBeer')\n",
    "reviews_rb = pd.read_csv(os.path.join(rb_dir, 'ratings_RB_clean.csv'))\n",
    "\n",
    "rev_true_rb = reviews_rb[reviews_rb['review']==True]"
   ]
  },
  {
   "cell_type": "code",
   "execution_count": 4,
   "id": "23daf0ea-c701-4305-9e99-e54f7f05d474",
   "metadata": {},
   "outputs": [
    {
     "data": {
      "text/plain": [
       "7121601"
      ]
     },
     "execution_count": 4,
     "metadata": {},
     "output_type": "execute_result"
    }
   ],
   "source": [
    "len(rev_true_rb)"
   ]
  },
  {
   "cell_type": "code",
   "execution_count": 5,
   "id": "944dea31-3d1d-429c-a04b-c11d6be20d41",
   "metadata": {},
   "outputs": [],
   "source": [
    "rev_true_rb = rev_true_rb[rev_true_rb['lang_tag']=='en']"
   ]
  },
  {
   "cell_type": "code",
   "execution_count": null,
   "id": "a08a3857-f338-46dc-a73f-56258d048dcf",
   "metadata": {},
   "outputs": [],
   "source": []
  },
  {
   "cell_type": "code",
   "execution_count": 6,
   "id": "e0a80506-7c86-4328-bb67-456cf2cf92cf",
   "metadata": {},
   "outputs": [
    {
     "data": {
      "text/plain": [
       "6606948"
      ]
     },
     "execution_count": 6,
     "metadata": {},
     "output_type": "execute_result"
    }
   ],
   "source": [
    "len(rev_true_rb)"
   ]
  },
  {
   "cell_type": "code",
   "execution_count": 16,
   "id": "e5b0f141-595e-4bc3-8469-155d1e3fd405",
   "metadata": {},
   "outputs": [
    {
     "name": "stdout",
     "output_type": "stream",
     "text": [
      "--- 2529.523526906967 seconds ---\n"
     ]
    }
   ],
   "source": [
    "import time \n",
    "start_time = time.time()\n",
    "\n",
    "rev_true_rb = stem_df(rev_true_rb, exp_stem_set)\n",
    "\n",
    "print(\"--- %s seconds ---\" % (time.time() - start_time))"
   ]
  },
  {
   "cell_type": "code",
   "execution_count": 17,
   "id": "897b6084-8f89-4353-aea3-8ca20c75d21c",
   "metadata": {},
   "outputs": [],
   "source": [
    "rev_true_rb.to_pickle(os.path.join(rb_dir, 'reviews_with_exp_stems.pkl'))"
   ]
  },
  {
   "cell_type": "code",
   "execution_count": null,
   "id": "7d5a5b40-fbca-4f2a-8782-ba2afce72904",
   "metadata": {},
   "outputs": [],
   "source": [
    "len(rev_true_rb)"
   ]
  }
 ],
 "metadata": {
  "kernelspec": {
   "display_name": "Python 3 (ipykernel)",
   "language": "python",
   "name": "python3"
  },
  "language_info": {
   "codemirror_mode": {
    "name": "ipython",
    "version": 3
   },
   "file_extension": ".py",
   "mimetype": "text/x-python",
   "name": "python",
   "nbconvert_exporter": "python",
   "pygments_lexer": "ipython3",
   "version": "3.12.7"
  }
 },
 "nbformat": 4,
 "nbformat_minor": 5
}
