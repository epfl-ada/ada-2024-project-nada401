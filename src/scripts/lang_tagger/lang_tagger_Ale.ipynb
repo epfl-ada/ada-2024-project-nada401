{
 "cells": [
  {
   "cell_type": "code",
   "execution_count": 1,
   "metadata": {},
   "outputs": [],
   "source": [
    "import gzip\n",
    "import csv\n",
    "import re\n",
    "from fast_langdetect import detect, detect_multilingual\n"
   ]
  },
  {
   "cell_type": "code",
   "execution_count": 35,
   "metadata": {},
   "outputs": [
    {
     "name": "stdout",
     "output_type": "stream",
     "text": [
      "{'lang': 'en', 'score': 0.12450417876243591}\n",
      "{'lang': 'en', 'score': 0.25001001358032227}\n",
      "{'lang': 'en', 'score': 0.8509423136711121}\n",
      "{'lang': 'ru', 'score': 0.4549740254878998}\n",
      "[{'lang': 'ja', 'score': 0.32009604573249817}, {'lang': 'uk', 'score': 0.27781224250793457}, {'lang': 'zh', 'score': 0.17542070150375366}, {'lang': 'sr', 'score': 0.08751443773508072}, {'lang': 'bg', 'score': 0.05222449079155922}]\n",
      "[{'lang': 'en', 'score': 0.7895520925521851}, {'lang': 'pl', 'score': 0.11386539041996002}, {'lang': 'es', 'score': 0.013312462717294693}, {'lang': 'ru', 'score': 0.012153928168118}, {'lang': 'de', 'score': 0.010696609504520893}]\n"
     ]
    }
   ],
   "source": [
    "# Single language detection\n",
    "print(detect(\"Hello, world!\"))\n",
    "# Output: {'lang': 'en', 'score': 0.12450417876243591}\n",
    "\n",
    "# `use_strict_mode` determines whether the model loading process should enforce strict conditions before using fallback options.\n",
    "# If `use_strict_mode` is set to True, we will load only the selected model, not the fallback model.\n",
    "print(detect(\"Hello, world!\", low_memory=False, use_strict_mode=True))\n",
    "\n",
    "# How to deal with multiline text\n",
    "multiline_text = \"\"\"\n",
    "Hello, world!\n",
    "This is a multiline text.\n",
    "But we need remove `\\n` characters or it will raise an ValueError.\n",
    "\"\"\"\n",
    "multiline_text = multiline_text.replace(\"\\n\", \"\")  # NOTE:ITS IMPORTANT TO REMOVE \\n CHARACTERS\n",
    "print(detect(multiline_text))\n",
    "# Output: {'lang': 'en', 'score': 0.8509423136711121}\n",
    "\n",
    "print(detect(\"Привет, мир!\"))#[\"lang\"])\n",
    "# Output: ru\n",
    "\n",
    "# Multi-language detection\n",
    "print(detect_multilingual(\"Hello, world!你好世界!Привет, мир!\"))\n",
    "# Output: [{'lang': 'ja', 'score': 0.32009604573249817}, {'lang': 'uk', 'score': 0.27781224250793457}, {'lang': 'zh', 'score': 0.17542070150375366}, {'lang': 'sr', 'score': 0.08751443773508072}, {'lang': 'bg', 'score': 0.05222449079155922}]\n",
    "\n",
    "# Multi-language detection with low memory mode disabled\n",
    "print(detect_multilingual(\"Puszka 0,33l dzięki Christoph . I really like this beer,Because with a shorter text it's not so accurate\", low_memory=True))"
   ]
  },
  {
   "cell_type": "code",
   "execution_count": 34,
   "metadata": {},
   "outputs": [
    {
     "name": "stdout",
     "output_type": "stream",
     "text": [
      "[{'lang': 'en', 'score': 0.12450417876243591}, {'lang': 'ca', 'score': 0.08594832569360733}, {'lang': 'de', 'score': 0.0802881047129631}, {'lang': 'oc', 'score': 0.054167523980140686}, {'lang': 'fr', 'score': 0.05338495597243309}]\n"
     ]
    }
   ],
   "source": [
    "print(detect_multilingual(\"Hello, world!\"))"
   ]
  },
  {
   "cell_type": "code",
   "execution_count": 18,
   "metadata": {},
   "outputs": [],
   "source": [
    "def lang_tagger(text):\n",
    "    text = text.replace(\"\\n\", \"\")\n",
    "    res = \"\"\n",
    "\n",
    "    for couple in detect_multilingual(text):\n",
    "       if couple['score'] > 0.2:\n",
    "          res = res + ('' if res=='' else \", \") + couple['lang']\n",
    "    return res\n",
    "\n",
    "# Step 1: Read and process the file line by line from the .gz file\n",
    "def parse_and_write_to_csv(input_gz_file, output_csv_file):\n",
    "    # Regular expression for matching 'field: value' format\n",
    "    field_regex = re.compile(r'(\\w+):\\s*(.*)')\n",
    "\n",
    "    with gzip.open(input_gz_file, 'rt', encoding='utf-8') as f, open(output_csv_file, 'w', newline='', encoding='utf-8') as csv_file:\n",
    "        # Initialize CSV writer\n",
    "        writer = None\n",
    "        current_entry = {}\n",
    "\n",
    "        for line in f:\n",
    "            line = line.strip()  # Remove leading/trailing whitespaces\n",
    "            match = field_regex.match(line)\n",
    "\n",
    "            if match:\n",
    "                key, value = match.groups()\n",
    "                if key in keys:\n",
    "                    current_entry[key] = value\n",
    "                elif key == 'text':\n",
    "                    current_entry['lang_tag'] = lang_tagger(value)\n",
    "            else:\n",
    "                if current_entry:\n",
    "                    if writer is None:\n",
    "                        headers = current_entry.keys()\n",
    "                        writer = csv.DictWriter(csv_file, fieldnames=headers)\n",
    "                        writer.writeheader()\n",
    "\n",
    "                    # Write the current entry\n",
    "                    writer.writerow(current_entry)\n",
    "                    current_entry = {}  \n",
    "\n",
    "        # Write the last entry (if any)\n",
    "        if current_entry:\n",
    "            writer.writerow(current_entry)\n",
    "\n",
    "# Main function to execute the process\n",
    "def convert_large_txt_gz_to_csv(input_gz_file, output_csv_file):\n",
    "    parse_and_write_to_csv(input_gz_file, output_csv_file)\n",
    "\n",
    "keys = ['beer_id','date', 'user_id']\n",
    "\n",
    "dirs = [\"RateBeer/\", \"BeerAdvocate/\"]\n",
    "\n",
    "input_gz_file = 'reviews.txt.gz'  \n",
    "output_csv_file = 'reviews_tagged.csv'   \n",
    "\n",
    "for d in dirs:\n",
    "    convert_large_txt_gz_to_csv(d+input_gz_file, d+output_csv_file)\n"
   ]
  },
  {
   "cell_type": "code",
   "execution_count": 19,
   "metadata": {},
   "outputs": [],
   "source": [
    "import pandas as pd\n",
    "\n",
    "d_ba = pd.read_csv(dirs[1]+\"reviews_tagged.csv\")\n",
    "d_rb = pd.read_csv(dirs[0]+\"reviews_tagged.csv\")\n"
   ]
  },
  {
   "cell_type": "code",
   "execution_count": 26,
   "metadata": {},
   "outputs": [
    {
     "data": {
      "text/plain": [
       "0.9997474467601165"
      ]
     },
     "execution_count": 26,
     "metadata": {},
     "output_type": "execute_result"
    }
   ],
   "source": [
    "d_ba[\"lang_tag\"].value_counts()['en']/d_ba[\"lang_tag\"].count()"
   ]
  },
  {
   "cell_type": "code",
   "execution_count": 27,
   "metadata": {},
   "outputs": [
    {
     "data": {
      "text/plain": [
       "0.9284400784463177"
      ]
     },
     "execution_count": 27,
     "metadata": {},
     "output_type": "execute_result"
    }
   ],
   "source": [
    "d_rb[\"lang_tag\"].value_counts()['en']/d_rb[\"lang_tag\"].count()"
   ]
  },
  {
   "cell_type": "code",
   "execution_count": 28,
   "metadata": {},
   "outputs": [
    {
     "data": {
      "text/plain": [
       "lang_tag\n",
       "en        2588899\n",
       "fr            340\n",
       "es             66\n",
       "en, fr         55\n",
       "pt             40\n",
       "fi             27\n",
       "en, de         16\n",
       "de             11\n",
       "fr, en         10\n",
       "de, en          7\n",
       "fi, en          7\n",
       "it              7\n",
       "ru              6\n",
       "cs              6\n",
       "nl              5\n",
       "ja              5\n",
       "en, es          4\n",
       "zh              4\n",
       "ca              3\n",
       "en, no          3\n",
       "en, pt          3\n",
       "uk              2\n",
       "en, fi          2\n",
       "pl              2\n",
       "es, en          2\n",
       "sv              2\n",
       "en, id          1\n",
       "en, os          1\n",
       "ja, en          1\n",
       "uk, ja          1\n",
       "en, ru          1\n",
       "de, ja          1\n",
       "en, sh          1\n",
       "en, sv          1\n",
       "ja, zh          1\n",
       "pt, en          1\n",
       "en, ca          1\n",
       "et              1\n",
       "tr              1\n",
       "hr, sh          1\n",
       "da              1\n",
       "en, pl          1\n",
       "en, it          1\n",
       "da, en          1\n",
       "no              1\n",
       "Name: count, dtype: int64"
      ]
     },
     "execution_count": 28,
     "metadata": {},
     "output_type": "execute_result"
    }
   ],
   "source": [
    "d_ba[\"lang_tag\"].value_counts()"
   ]
  },
  {
   "cell_type": "code",
   "execution_count": 32,
   "metadata": {},
   "outputs": [
    {
     "data": {
      "text/plain": [
       "lang_tag\n",
       "en        6606969\n",
       "pl         104950\n",
       "fr          99688\n",
       "de          73328\n",
       "nl          36357\n",
       "it          32113\n",
       "sv          30586\n",
       "es          28988\n",
       "no          12751\n",
       "da          12446\n",
       "pt           9533\n",
       "no, da       8123\n",
       "en, fr       6884\n",
       "hu           6797\n",
       "da, no       5713\n",
       "fi           5086\n",
       "ru           3030\n",
       "fr, en       2824\n",
       "cs           2678\n",
       "no, nn       2650\n",
       "sk           1672\n",
       "sv, da       1639\n",
       "pt, es       1177\n",
       "ca           1027\n",
       "Name: count, dtype: int64"
      ]
     },
     "execution_count": 32,
     "metadata": {},
     "output_type": "execute_result"
    }
   ],
   "source": [
    "d_rb[\"lang_tag\"].value_counts()[d_rb[\"lang_tag\"].value_counts() > 1000]"
   ]
  },
  {
   "cell_type": "code",
   "execution_count": 22,
   "metadata": {},
   "outputs": [
    {
     "data": {
      "text/html": [
       "<div>\n",
       "<style scoped>\n",
       "    .dataframe tbody tr th:only-of-type {\n",
       "        vertical-align: middle;\n",
       "    }\n",
       "\n",
       "    .dataframe tbody tr th {\n",
       "        vertical-align: top;\n",
       "    }\n",
       "\n",
       "    .dataframe thead th {\n",
       "        text-align: right;\n",
       "    }\n",
       "</style>\n",
       "<table border=\"1\" class=\"dataframe\">\n",
       "  <thead>\n",
       "    <tr style=\"text-align: right;\">\n",
       "      <th></th>\n",
       "      <th>beer_id</th>\n",
       "      <th>date</th>\n",
       "      <th>user_id</th>\n",
       "      <th>lang_tag</th>\n",
       "    </tr>\n",
       "  </thead>\n",
       "  <tbody>\n",
       "    <tr>\n",
       "      <th>0</th>\n",
       "      <td>142544</td>\n",
       "      <td>1440064800</td>\n",
       "      <td>nmann08.184925</td>\n",
       "      <td>en</td>\n",
       "    </tr>\n",
       "    <tr>\n",
       "      <th>1</th>\n",
       "      <td>19590</td>\n",
       "      <td>1235127600</td>\n",
       "      <td>stjamesgate.163714</td>\n",
       "      <td>en</td>\n",
       "    </tr>\n",
       "    <tr>\n",
       "      <th>2</th>\n",
       "      <td>19590</td>\n",
       "      <td>1142247600</td>\n",
       "      <td>mdagnew.19527</td>\n",
       "      <td>en</td>\n",
       "    </tr>\n",
       "    <tr>\n",
       "      <th>3</th>\n",
       "      <td>19590</td>\n",
       "      <td>1101898800</td>\n",
       "      <td>helloloser12345.10867</td>\n",
       "      <td>en</td>\n",
       "    </tr>\n",
       "    <tr>\n",
       "      <th>4</th>\n",
       "      <td>19590</td>\n",
       "      <td>1093860000</td>\n",
       "      <td>cypressbob.3708</td>\n",
       "      <td>en</td>\n",
       "    </tr>\n",
       "  </tbody>\n",
       "</table>\n",
       "</div>"
      ],
      "text/plain": [
       "   beer_id        date                user_id lang_tag\n",
       "0   142544  1440064800         nmann08.184925       en\n",
       "1    19590  1235127600     stjamesgate.163714       en\n",
       "2    19590  1142247600          mdagnew.19527       en\n",
       "3    19590  1101898800  helloloser12345.10867       en\n",
       "4    19590  1093860000        cypressbob.3708       en"
      ]
     },
     "execution_count": 22,
     "metadata": {},
     "output_type": "execute_result"
    }
   ],
   "source": [
    "d_ba.head()"
   ]
  },
  {
   "cell_type": "code",
   "execution_count": 23,
   "metadata": {},
   "outputs": [
    {
     "data": {
      "text/html": [
       "<div>\n",
       "<style scoped>\n",
       "    .dataframe tbody tr th:only-of-type {\n",
       "        vertical-align: middle;\n",
       "    }\n",
       "\n",
       "    .dataframe tbody tr th {\n",
       "        vertical-align: top;\n",
       "    }\n",
       "\n",
       "    .dataframe thead th {\n",
       "        text-align: right;\n",
       "    }\n",
       "</style>\n",
       "<table border=\"1\" class=\"dataframe\">\n",
       "  <thead>\n",
       "    <tr style=\"text-align: right;\">\n",
       "      <th></th>\n",
       "      <th>beer_id</th>\n",
       "      <th>date</th>\n",
       "      <th>user_id</th>\n",
       "      <th>lang_tag</th>\n",
       "    </tr>\n",
       "  </thead>\n",
       "  <tbody>\n",
       "    <tr>\n",
       "      <th>0</th>\n",
       "      <td>410549</td>\n",
       "      <td>1461664800</td>\n",
       "      <td>175852</td>\n",
       "      <td>pl</td>\n",
       "    </tr>\n",
       "    <tr>\n",
       "      <th>1</th>\n",
       "      <td>105273</td>\n",
       "      <td>1487329200</td>\n",
       "      <td>442761</td>\n",
       "      <td>es</td>\n",
       "    </tr>\n",
       "    <tr>\n",
       "      <th>2</th>\n",
       "      <td>105273</td>\n",
       "      <td>1466762400</td>\n",
       "      <td>288889</td>\n",
       "      <td>pl</td>\n",
       "    </tr>\n",
       "    <tr>\n",
       "      <th>3</th>\n",
       "      <td>105273</td>\n",
       "      <td>1451646000</td>\n",
       "      <td>250510</td>\n",
       "      <td>es</td>\n",
       "    </tr>\n",
       "    <tr>\n",
       "      <th>4</th>\n",
       "      <td>105273</td>\n",
       "      <td>1445594400</td>\n",
       "      <td>122778</td>\n",
       "      <td>en</td>\n",
       "    </tr>\n",
       "  </tbody>\n",
       "</table>\n",
       "</div>"
      ],
      "text/plain": [
       "   beer_id        date  user_id lang_tag\n",
       "0   410549  1461664800   175852       pl\n",
       "1   105273  1487329200   442761       es\n",
       "2   105273  1466762400   288889       pl\n",
       "3   105273  1451646000   250510       es\n",
       "4   105273  1445594400   122778       en"
      ]
     },
     "execution_count": 23,
     "metadata": {},
     "output_type": "execute_result"
    }
   ],
   "source": [
    "d_rb.head()"
   ]
  },
  {
   "cell_type": "code",
   "execution_count": null,
   "metadata": {},
   "outputs": [],
   "source": []
  }
 ],
 "metadata": {
  "kernelspec": {
   "display_name": "Python 3 (ipykernel)",
   "language": "python",
   "name": "python3"
  },
  "language_info": {
   "codemirror_mode": {
    "name": "ipython",
    "version": 3
   },
   "file_extension": ".py",
   "mimetype": "text/x-python",
   "name": "python",
   "nbconvert_exporter": "python",
   "pygments_lexer": "ipython3",
   "version": "3.12.4"
  }
 },
 "nbformat": 4,
 "nbformat_minor": 4
}
