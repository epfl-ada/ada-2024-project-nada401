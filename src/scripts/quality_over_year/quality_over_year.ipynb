{
 "cells": [
  {
   "cell_type": "markdown",
   "metadata": {},
   "source": [
    "# Quality Over Year\n",
    "\n",
    "In this notebook we explore how the average quality of the reviews change during a year for specific samples of beers/breweries. <br>\n",
    "We want to see if, during particular beer-related events, the quality of the reviews significantly changes.\n",
    "\n",
    "In particular we want to see the trend of beers made by Munich breweries around the globally renowned Oktoberfest."
   ]
  },
  {
   "cell_type": "code",
   "execution_count": 1,
   "metadata": {},
   "outputs": [],
   "source": [
    "import pandas as pd\n",
    "import numpy as np\n",
    "import seaborn as sns\n",
    "import matplotlib.pyplot as plt\n",
    "import os\n",
    "\n",
    "data_path = './../../../data'"
   ]
  },
  {
   "cell_type": "code",
   "execution_count": 22,
   "metadata": {},
   "outputs": [],
   "source": [
    "def order_months(df):\n",
    "    month_order = {\n",
    "        'January': 1, 'February': 2, 'March': 3, 'April': 4,\n",
    "        'May': 5, 'June': 6, 'July': 7, 'August': 8,\n",
    "        'September': 9, 'October': 10, 'November': 11, 'December': 12\n",
    "    }\n",
    "\n",
    "    df['month_order'] = df.index.map(month_order)\n",
    "\n",
    "    return df.sort_values('month_order').drop(columns='month_order')"
   ]
  },
  {
   "cell_type": "markdown",
   "metadata": {},
   "source": [
    "## Oktoberfest"
   ]
  },
  {
   "cell_type": "code",
   "execution_count": 36,
   "metadata": {},
   "outputs": [],
   "source": [
    "# Find the ids of the breweris of Munich\n",
    "df_brew = pd.read_csv(os.path.join(data_path, 'RateBeer/breweries_RB_clean.csv'))"
   ]
  },
  {
   "cell_type": "code",
   "execution_count": 37,
   "metadata": {},
   "outputs": [],
   "source": [
    "df_brew = df_brew[df_brew['location'] == 'Germany']\n",
    "\n",
    "# List of Oktoberfest breweries\n",
    "# There are still some breweries that are not in Oktoberfest (e.g. Stuttgarter Hofbräu &#40;Oetker Group&#41;)\n",
    "# oktoberfest_breweries = [\n",
    "#     'Augustiner-Bräu', 'Augustiner','Hacker-Pschorr', 'Hofbräu', 'Hofbräu München', \n",
    "#     'Löwenbräu', 'Paulaner', 'Spaten'\n",
    "# ]\n",
    "oktoberfest_breweries = [\n",
    "    'Augustiner-Bräu', 'Hacker-Pschorr', 'Hofbräu München', \n",
    "    'Löwenbräu Munich', 'Paulaner', 'Spaten'\n",
    "]\n",
    "\n",
    "\n",
    "# Check for matches (case-insensitive)\n",
    "matches = df_brew[\n",
    "    df_brew['name'].str.contains('|'.join(oktoberfest_breweries), case=False, na=False)\n",
    "]\n",
    "\n",
    "ids_okt = matches.id.to_list()"
   ]
  },
  {
   "cell_type": "code",
   "execution_count": 38,
   "metadata": {},
   "outputs": [],
   "source": [
    "# Find the average score per month\n",
    "df_score = pd.read_pickle(os.path.join(data_path, 'RateBeer/rev_w_scores.pkl'))"
   ]
  },
  {
   "cell_type": "code",
   "execution_count": 39,
   "metadata": {},
   "outputs": [],
   "source": [
    "df_score_okt = df_score[df_score['brewery_id'].isin(ids_okt)].copy()\n",
    "\n",
    "df_score_okt['date'] = pd.to_datetime(df_score_okt['date'])\n",
    "df_score_okt['year-month'] = df_score_okt['date'].dt.to_period('M')\n",
    "df_score_okt['month'] = df_score_okt['date'].dt.month_name()\n",
    "\n",
    "exp_month = df_score_okt.groupby('month')['expertness_score'].agg(['mean'])"
   ]
  },
  {
   "cell_type": "code",
   "execution_count": 40,
   "metadata": {},
   "outputs": [
    {
     "data": {
      "text/html": [
       "<div>\n",
       "<style scoped>\n",
       "    .dataframe tbody tr th:only-of-type {\n",
       "        vertical-align: middle;\n",
       "    }\n",
       "\n",
       "    .dataframe tbody tr th {\n",
       "        vertical-align: top;\n",
       "    }\n",
       "\n",
       "    .dataframe thead th {\n",
       "        text-align: right;\n",
       "    }\n",
       "</style>\n",
       "<table border=\"1\" class=\"dataframe\">\n",
       "  <thead>\n",
       "    <tr style=\"text-align: right;\">\n",
       "      <th></th>\n",
       "      <th>mean</th>\n",
       "    </tr>\n",
       "    <tr>\n",
       "      <th>month</th>\n",
       "      <th></th>\n",
       "    </tr>\n",
       "  </thead>\n",
       "  <tbody>\n",
       "    <tr>\n",
       "      <th>January</th>\n",
       "      <td>8.896332</td>\n",
       "    </tr>\n",
       "    <tr>\n",
       "      <th>February</th>\n",
       "      <td>9.103210</td>\n",
       "    </tr>\n",
       "    <tr>\n",
       "      <th>March</th>\n",
       "      <td>8.953317</td>\n",
       "    </tr>\n",
       "    <tr>\n",
       "      <th>April</th>\n",
       "      <td>9.067435</td>\n",
       "    </tr>\n",
       "    <tr>\n",
       "      <th>May</th>\n",
       "      <td>9.192502</td>\n",
       "    </tr>\n",
       "    <tr>\n",
       "      <th>June</th>\n",
       "      <td>8.944586</td>\n",
       "    </tr>\n",
       "    <tr>\n",
       "      <th>July</th>\n",
       "      <td>9.074038</td>\n",
       "    </tr>\n",
       "    <tr>\n",
       "      <th>August</th>\n",
       "      <td>8.904890</td>\n",
       "    </tr>\n",
       "    <tr>\n",
       "      <th>September</th>\n",
       "      <td>9.142507</td>\n",
       "    </tr>\n",
       "    <tr>\n",
       "      <th>October</th>\n",
       "      <td>8.928863</td>\n",
       "    </tr>\n",
       "    <tr>\n",
       "      <th>November</th>\n",
       "      <td>8.605334</td>\n",
       "    </tr>\n",
       "    <tr>\n",
       "      <th>December</th>\n",
       "      <td>8.686920</td>\n",
       "    </tr>\n",
       "  </tbody>\n",
       "</table>\n",
       "</div>"
      ],
      "text/plain": [
       "               mean\n",
       "month              \n",
       "January    8.896332\n",
       "February   9.103210\n",
       "March      8.953317\n",
       "April      9.067435\n",
       "May        9.192502\n",
       "June       8.944586\n",
       "July       9.074038\n",
       "August     8.904890\n",
       "September  9.142507\n",
       "October    8.928863\n",
       "November   8.605334\n",
       "December   8.686920"
      ]
     },
     "execution_count": 40,
     "metadata": {},
     "output_type": "execute_result"
    }
   ],
   "source": [
    "exp_month = order_months(exp_month)\n",
    "exp_month.head(12)"
   ]
  },
  {
   "cell_type": "code",
   "execution_count": 41,
   "metadata": {},
   "outputs": [
    {
     "data": {
      "text/plain": [
       "brewery_name\n",
       "Paulaner Brauerei &#40;Schörghuber&#41;                 17925\n",
       "Spaten-Franziskaner-Bräu &#40;InBev&#41;                11666\n",
       "Augustiner-Bräu                                          3100\n",
       "Löwenbräu Munich &#40;InBev&#41;                         2687\n",
       "Paulaner Bräuhaus &#40;Brewpub Munich&#41;                245\n",
       "Hacker-Pschorr Bavaria Bräu &#40;brewpub Munich&#41;      127\n",
       "Name: count, dtype: int64"
      ]
     },
     "execution_count": 41,
     "metadata": {},
     "output_type": "execute_result"
    }
   ],
   "source": [
    "df_score_okt.brewery_name.value_counts()"
   ]
  },
  {
   "cell_type": "code",
   "execution_count": 42,
   "metadata": {},
   "outputs": [],
   "source": [
    "# Let's check if it is statistically significant\n",
    "number_of_reviews_month = df_score_okt.groupby('month').size()\n",
    "\n",
    "number_of_reviews_month = number_of_reviews_month.reset_index(name='review_count')\n",
    "\n",
    "# Now there are two methods to re-order the months....\n",
    "month_order = [\n",
    "    'January', 'February', 'March', 'April', 'May', 'June',\n",
    "    'July', 'August', 'September', 'October', 'November', 'December'\n",
    "]\n",
    "number_of_reviews_month['month'] = pd.Categorical(\n",
    "    number_of_reviews_month['month'], categories=month_order, ordered=True\n",
    ")\n",
    "\n",
    "number_of_reviews_month = number_of_reviews_month.sort_values('month')"
   ]
  },
  {
   "cell_type": "code",
   "execution_count": 43,
   "metadata": {},
   "outputs": [
    {
     "data": {
      "text/plain": [
       "Text(0.5, 0.98, 'Analysis of reviews of breweries present at Oktoberfest')"
      ]
     },
     "execution_count": 43,
     "metadata": {},
     "output_type": "execute_result"
    },
    {
     "data": {
      "image/png": "[encoded data removed]",
      "text/plain": [
       "<Figure size 2000x800 with 2 Axes>"
      ]
     },
     "metadata": {},
     "output_type": "display_data"
    }
   ],
   "source": [
    "fig, ax = plt.subplots(figsize=(20, 8), nrows=1, ncols=2)\n",
    "\n",
    "sns.barplot(x='month', y='mean', data=exp_month, ax=ax[0])\n",
    "ax[0].tick_params(rotation=45)\n",
    "ax[0].set_ylabel('average expertness score')\n",
    "ax[0].set_title('Average expertness score per month')\n",
    "\n",
    "sns.barplot(x='month', y='review_count', data=number_of_reviews_month, ax=ax[1])\n",
    "ax[1].tick_params(rotation=45)\n",
    "ax[1].set_ylabel('number of reviews')\n",
    "ax[1].set_title('Number of reviews per month')\n",
    "\n",
    "fig.suptitle('Analysis of reviews of breweries present at Oktoberfest')"
   ]
  },
  {
   "cell_type": "markdown",
   "metadata": {},
   "source": [
    "### Only Oktoberfest's beers\n",
    "\n",
    "Let's only focus on specifically the beers present at Oktoberfest"
   ]
  },
  {
   "cell_type": "code",
   "execution_count": 44,
   "metadata": {},
   "outputs": [],
   "source": [
    "df_beer = pd.read_csv(os.path.join(data_path, 'RateBeer/beers_RB_clean.csv'))"
   ]
  },
  {
   "cell_type": "code",
   "execution_count": null,
   "metadata": {},
   "outputs": [
    {
     "data": {
      "text/plain": [
       "10"
      ]
     },
     "execution_count": 46,
     "metadata": {},
     "output_type": "execute_result"
    }
   ],
   "source": [
    "df_beer = df_beer[df_beer['brewery_name'].isin(oktoberfest_breweries)]\n",
    "\n",
    "len(df_beer)\n",
    "# ??? TODO!!!"
   ]
  },
  {
   "cell_type": "markdown",
   "metadata": {},
   "source": [
    "## American beers\n",
    "\n",
    "I now try to check if American beers have a particular date that, on average, lowers the score of the reviews.\n",
    "\n",
    "We start analyzing the 4th of July"
   ]
  },
  {
   "cell_type": "code",
   "execution_count": 3,
   "metadata": {},
   "outputs": [],
   "source": [
    "df_score = pd.read_pickle(os.path.join(data_path, 'BeerAdvocate/rev_w_scores.pkl'))"
   ]
  },
  {
   "cell_type": "code",
   "execution_count": 18,
   "metadata": {},
   "outputs": [
    {
     "data": {
      "text/html": [
       "<div>\n",
       "<style scoped>\n",
       "    .dataframe tbody tr th:only-of-type {\n",
       "        vertical-align: middle;\n",
       "    }\n",
       "\n",
       "    .dataframe tbody tr th {\n",
       "        vertical-align: top;\n",
       "    }\n",
       "\n",
       "    .dataframe thead th {\n",
       "        text-align: right;\n",
       "    }\n",
       "</style>\n",
       "<table border=\"1\" class=\"dataframe\">\n",
       "  <thead>\n",
       "    <tr style=\"text-align: right;\">\n",
       "      <th></th>\n",
       "      <th>mean</th>\n",
       "    </tr>\n",
       "    <tr>\n",
       "      <th>day</th>\n",
       "      <th></th>\n",
       "    </tr>\n",
       "  </thead>\n",
       "  <tbody>\n",
       "    <tr>\n",
       "      <th>1</th>\n",
       "      <td>14.621499</td>\n",
       "    </tr>\n",
       "    <tr>\n",
       "      <th>2</th>\n",
       "      <td>14.162334</td>\n",
       "    </tr>\n",
       "    <tr>\n",
       "      <th>3</th>\n",
       "      <td>14.424646</td>\n",
       "    </tr>\n",
       "    <tr>\n",
       "      <th>4</th>\n",
       "      <td>14.004907</td>\n",
       "    </tr>\n",
       "    <tr>\n",
       "      <th>5</th>\n",
       "      <td>14.249645</td>\n",
       "    </tr>\n",
       "    <tr>\n",
       "      <th>6</th>\n",
       "      <td>14.556783</td>\n",
       "    </tr>\n",
       "    <tr>\n",
       "      <th>7</th>\n",
       "      <td>14.518319</td>\n",
       "    </tr>\n",
       "    <tr>\n",
       "      <th>8</th>\n",
       "      <td>14.554387</td>\n",
       "    </tr>\n",
       "    <tr>\n",
       "      <th>9</th>\n",
       "      <td>14.638233</td>\n",
       "    </tr>\n",
       "    <tr>\n",
       "      <th>10</th>\n",
       "      <td>14.138987</td>\n",
       "    </tr>\n",
       "    <tr>\n",
       "      <th>11</th>\n",
       "      <td>14.091589</td>\n",
       "    </tr>\n",
       "    <tr>\n",
       "      <th>12</th>\n",
       "      <td>14.129092</td>\n",
       "    </tr>\n",
       "    <tr>\n",
       "      <th>13</th>\n",
       "      <td>14.450076</td>\n",
       "    </tr>\n",
       "    <tr>\n",
       "      <th>14</th>\n",
       "      <td>14.425622</td>\n",
       "    </tr>\n",
       "    <tr>\n",
       "      <th>15</th>\n",
       "      <td>14.533693</td>\n",
       "    </tr>\n",
       "    <tr>\n",
       "      <th>16</th>\n",
       "      <td>14.631081</td>\n",
       "    </tr>\n",
       "    <tr>\n",
       "      <th>17</th>\n",
       "      <td>14.178625</td>\n",
       "    </tr>\n",
       "    <tr>\n",
       "      <th>18</th>\n",
       "      <td>14.413469</td>\n",
       "    </tr>\n",
       "    <tr>\n",
       "      <th>19</th>\n",
       "      <td>14.074589</td>\n",
       "    </tr>\n",
       "    <tr>\n",
       "      <th>20</th>\n",
       "      <td>14.307985</td>\n",
       "    </tr>\n",
       "    <tr>\n",
       "      <th>21</th>\n",
       "      <td>14.630824</td>\n",
       "    </tr>\n",
       "    <tr>\n",
       "      <th>22</th>\n",
       "      <td>14.718363</td>\n",
       "    </tr>\n",
       "    <tr>\n",
       "      <th>23</th>\n",
       "      <td>14.333899</td>\n",
       "    </tr>\n",
       "    <tr>\n",
       "      <th>24</th>\n",
       "      <td>14.598526</td>\n",
       "    </tr>\n",
       "    <tr>\n",
       "      <th>25</th>\n",
       "      <td>14.553427</td>\n",
       "    </tr>\n",
       "    <tr>\n",
       "      <th>26</th>\n",
       "      <td>14.621278</td>\n",
       "    </tr>\n",
       "    <tr>\n",
       "      <th>27</th>\n",
       "      <td>14.474825</td>\n",
       "    </tr>\n",
       "    <tr>\n",
       "      <th>28</th>\n",
       "      <td>14.747387</td>\n",
       "    </tr>\n",
       "    <tr>\n",
       "      <th>29</th>\n",
       "      <td>14.739755</td>\n",
       "    </tr>\n",
       "    <tr>\n",
       "      <th>30</th>\n",
       "      <td>14.423466</td>\n",
       "    </tr>\n",
       "    <tr>\n",
       "      <th>31</th>\n",
       "      <td>14.630870</td>\n",
       "    </tr>\n",
       "  </tbody>\n",
       "</table>\n",
       "</div>"
      ],
      "text/plain": [
       "          mean\n",
       "day           \n",
       "1    14.621499\n",
       "2    14.162334\n",
       "3    14.424646\n",
       "4    14.004907\n",
       "5    14.249645\n",
       "6    14.556783\n",
       "7    14.518319\n",
       "8    14.554387\n",
       "9    14.638233\n",
       "10   14.138987\n",
       "11   14.091589\n",
       "12   14.129092\n",
       "13   14.450076\n",
       "14   14.425622\n",
       "15   14.533693\n",
       "16   14.631081\n",
       "17   14.178625\n",
       "18   14.413469\n",
       "19   14.074589\n",
       "20   14.307985\n",
       "21   14.630824\n",
       "22   14.718363\n",
       "23   14.333899\n",
       "24   14.598526\n",
       "25   14.553427\n",
       "26   14.621278\n",
       "27   14.474825\n",
       "28   14.747387\n",
       "29   14.739755\n",
       "30   14.423466\n",
       "31   14.630870"
      ]
     },
     "execution_count": 18,
     "metadata": {},
     "output_type": "execute_result"
    }
   ],
   "source": [
    "# Let's only take in consideration the month of July\n",
    "df_score_july = df_score.copy()\n",
    "df_score_july['date'] = pd.to_datetime(df_score_july['date'])\n",
    "df_score_july['month'] = df_score_july['date'].dt.month_name()\n",
    "df_score_july['day'] = df_score_july['date'].dt.day\n",
    "\n",
    "df_score_july = df_score_july[df_score_july['month'] == 'July']\n",
    "\n",
    "\n",
    "exp_july = df_score_july.groupby('day')['expertness_score'].agg(['mean'])\n",
    "exp_july.head(31)"
   ]
  },
  {
   "cell_type": "markdown",
   "metadata": {},
   "source": [
    "Indeed, the lowest average experness score is the 4th of July. Is it significant tho?"
   ]
  },
  {
   "cell_type": "code",
   "execution_count": 17,
   "metadata": {},
   "outputs": [
    {
     "data": {
      "text/html": [
       "<div>\n",
       "<style scoped>\n",
       "    .dataframe tbody tr th:only-of-type {\n",
       "        vertical-align: middle;\n",
       "    }\n",
       "\n",
       "    .dataframe tbody tr th {\n",
       "        vertical-align: top;\n",
       "    }\n",
       "\n",
       "    .dataframe thead th {\n",
       "        text-align: right;\n",
       "    }\n",
       "</style>\n",
       "<table border=\"1\" class=\"dataframe\">\n",
       "  <thead>\n",
       "    <tr style=\"text-align: right;\">\n",
       "      <th></th>\n",
       "      <th>mean</th>\n",
       "    </tr>\n",
       "    <tr>\n",
       "      <th>month</th>\n",
       "      <th></th>\n",
       "    </tr>\n",
       "  </thead>\n",
       "  <tbody>\n",
       "    <tr>\n",
       "      <th>January</th>\n",
       "      <td>14.420823</td>\n",
       "    </tr>\n",
       "    <tr>\n",
       "      <th>February</th>\n",
       "      <td>14.421548</td>\n",
       "    </tr>\n",
       "    <tr>\n",
       "      <th>March</th>\n",
       "      <td>14.370661</td>\n",
       "    </tr>\n",
       "    <tr>\n",
       "      <th>April</th>\n",
       "      <td>14.368293</td>\n",
       "    </tr>\n",
       "    <tr>\n",
       "      <th>May</th>\n",
       "      <td>14.330384</td>\n",
       "    </tr>\n",
       "    <tr>\n",
       "      <th>June</th>\n",
       "      <td>14.385845</td>\n",
       "    </tr>\n",
       "    <tr>\n",
       "      <th>July</th>\n",
       "      <td>14.434951</td>\n",
       "    </tr>\n",
       "    <tr>\n",
       "      <th>August</th>\n",
       "      <td>14.582670</td>\n",
       "    </tr>\n",
       "    <tr>\n",
       "      <th>September</th>\n",
       "      <td>14.512848</td>\n",
       "    </tr>\n",
       "    <tr>\n",
       "      <th>October</th>\n",
       "      <td>14.592620</td>\n",
       "    </tr>\n",
       "    <tr>\n",
       "      <th>November</th>\n",
       "      <td>14.688885</td>\n",
       "    </tr>\n",
       "    <tr>\n",
       "      <th>December</th>\n",
       "      <td>14.515140</td>\n",
       "    </tr>\n",
       "  </tbody>\n",
       "</table>\n",
       "</div>"
      ],
      "text/plain": [
       "                mean\n",
       "month               \n",
       "January    14.420823\n",
       "February   14.421548\n",
       "March      14.370661\n",
       "April      14.368293\n",
       "May        14.330384\n",
       "June       14.385845\n",
       "July       14.434951\n",
       "August     14.582670\n",
       "September  14.512848\n",
       "October    14.592620\n",
       "November   14.688885\n",
       "December   14.515140"
      ]
     },
     "execution_count": 17,
     "metadata": {},
     "output_type": "execute_result"
    }
   ],
   "source": [
    "df_score_year = df_score.copy()\n",
    "df_score_year['date'] = pd.to_datetime(df_score_year['date'])\n",
    "df_score_year['month'] = df_score_year['date'].dt.month_name()\n",
    "\n",
    "df_score_year = df_score_year.groupby('month')['expertness_score'].agg(['mean'])\n",
    "df_score_year = order_months(df_score_year)\n",
    "df_score_year.head(12)"
   ]
  },
  {
   "cell_type": "markdown",
   "metadata": {},
   "source": [
    "No significant lowering of score in July"
   ]
  }
 ],
 "metadata": {
  "kernelspec": {
   "display_name": "ada",
   "language": "python",
   "name": "python3"
  },
  "language_info": {
   "codemirror_mode": {
    "name": "ipython",
    "version": 3
   },
   "file_extension": ".py",
   "mimetype": "text/x-python",
   "name": "python",
   "nbconvert_exporter": "python",
   "pygments_lexer": "ipython3",
   "version": "3.11.10"
  }
 },
 "nbformat": 4,
 "nbformat_minor": 2
}
