{
 "cells": [
  {
   "cell_type": "code",
   "execution_count": 1,
   "metadata": {},
   "outputs": [],
   "source": [
    "import matplotlib.pyplot as plt\n",
    "import pandas as pd\n",
    "import numpy as np\n",
    "import os"
   ]
  },
  {
   "cell_type": "code",
   "execution_count": 27,
   "metadata": {},
   "outputs": [],
   "source": [
    "def print_reviews(df, n, seed=42):\n",
    "    np.random.seed(seed)\n",
    "\n",
    "    print(\"Bad reviews\")\n",
    "    for i in range(0, n):\n",
    "        # Randomly sample from bottom 5% to bottom 15%\n",
    "        id = np.random.randint(int(len(df)*0.05), int(len(df)*0.15))\n",
    "        print(f\"{id}\\t{df.text.iloc[id]}\")\n",
    "\n",
    "    print(\"\\nGood reviews\")\n",
    "    for i in range(1, n + 1):\n",
    "        print(f\"{-i}\\t{df.text.iloc[-i]}\")\n",
    "\n",
    "    print(\"\\nRandom reviews\")\n",
    "    for _ in range(0, n):\n",
    "        id = np.random.randint(int(len(df)*0.15), int(len(df)*0.75))\n",
    "        print(f\"{id}\\t{df.text.iloc[id]}\")"
   ]
  },
  {
   "cell_type": "code",
   "execution_count": 3,
   "metadata": {},
   "outputs": [],
   "source": [
    "path_to_data = './../../../data'"
   ]
  },
  {
   "cell_type": "markdown",
   "metadata": {},
   "source": [
    "## RateBeer\n"
   ]
  },
  {
   "cell_type": "code",
   "execution_count": 4,
   "metadata": {},
   "outputs": [],
   "source": [
    "path = os.path.join(path_to_data, 'RateBeer')\n",
    "\n",
    "df_scores = pd.read_pickle(os.path.join(path, 'rev_w_scores.pkl'))\n",
    "df_reviews = pd.read_csv(os.path.join(path, 'ratings_RB_clean.csv'))"
   ]
  },
  {
   "cell_type": "code",
   "execution_count": 5,
   "metadata": {},
   "outputs": [],
   "source": [
    "df_reviews = df_reviews[df_reviews['lang_tag'] == 'en']"
   ]
  },
  {
   "cell_type": "code",
   "execution_count": 25,
   "metadata": {},
   "outputs": [],
   "source": [
    "top3_beer_id = df_scores.beer_id.value_counts().head(3).index.to_list()\n",
    "\n",
    "guinness = df_scores[df_scores['beer_id'] == top3_beer_id[0]]\n",
    "rochefort = df_scores[df_scores['beer_id'] == top3_beer_id[1]]\n",
    "chimay = df_scores[df_scores['beer_id'] == top3_beer_id[2]]\n",
    "\n",
    "n_rev = 5"
   ]
  },
  {
   "cell_type": "code",
   "execution_count": 12,
   "metadata": {},
   "outputs": [
    {
     "name": "stdout",
     "output_type": "stream",
     "text": [
      "Guinness Draught\n",
      "Bad reviews\n",
      "343\tVery few things in life are as consistently good as a Guiness.  Until the day when I can get to Ireland, Iâl drink it here in the states every time I do a part in a Shakespeare festival.\n",
      "676\tThis beer is completely overrated.  First off, it is only drinkable by tap, the can and bottle versions aren't that great.  It's not that bad in the beginning because the flavor is decent, but the palate is too heavy, and by the end of the pint, the flavor is tiring.\n",
      "589\tOne of the few beers that lives up to the hype around it. Good color. Nice head. Overall a solid buy.\n",
      "511\tThis beer, like any beer is much better on tap than out of the bottle or can. It fills you up. Itâs like a meal in a glass.\n",
      "\n",
      "Good reviews\n",
      "-1\t14.9 ounce can into imperial pint glass, canned on 5/26/2016. Pours crystal clear very dark brown color with a 1 finger dense and creamy light tan head that lasts the whole glass. Thick creamy lacing clings down the glass. Fantastic appearance. Aromas of dark chocolate, cocoa, coffee, and toasted dark bread; with light nuttiness, smoke, dark fruit, herbal, and yeast/roast/toasted earthiness. Nice and pleasant aromas with good balance of roast/bready malt and light earthy hop/fruity yeast notes; with solid strength. Taste of dark chocolate, cocoa, coffee, and toasted dark bread; with light nuttiness, smoke, dark fruit, herbal, and yeast/roast/toasted earthiness. Light herbal/roast bitterness on the finish; with lingering notes of dark chocolate, cocoa, coffee, toasted dark bread, light nuttiness/smoke/herbal, and yeast/roast/toasted earthiness on the finish for a good bit. Good robustness and balance of roast/bready malt and light earthy hop/fruity yeast flavors; with a nice roasted bitter/sweet balance, and zero astringent flavors after the finish. Moderate dryness from roast/bitterness, increasing through the glass. Light carbonation and body; with a very smooth, fairly grainy/chalky, and slightly sticky mouthfeel that is okay. Very thin with no creaminess at all. Zero warming alcohol as expected of 4.2%. Overall this was a decent Irish dry stout. All around good robustness and balance roast/bready malt and light earthy hop/fruity yeast flavors; very smooth and easy to drink. This was too thin and bit watery than I expected; but it was still quite enjoyable overall, and a good style example.\n",
      "-2\tOpaque black color with a copper hue. Thick and creamy light brown 1 finger head lasting around 10 minutes and clinging to the glass. Powerful legs with a sexy pouring activity slowly revealing the foam.Aromas and flavors of sweet smoky molasses, roasted coffee, cocoa and herbal spices. A little vinous with the smell of alcohol, almost metallic. Nice intensity and well balanced flavors, not too intense and having both sweetness and some sharpness.Smooth creamy full body with pleasant carbonation. Balanced soft finish, slightly spicy and bitter dry mouth coat with a roasted coffee feel.Overall : Very accessible classical craft. Great balance in flavors and well intensified with good freshness.\n",
      "-3\tBottle with widget. I violated bottle instructions- poured it into a glass and sat back to watch the show. The cascade took over a minute to complete, resulting in the classic putty head floating on a body as oily and dark as being lost in the woods at midnight. The layers are as sharply defined as an Oreo cookie. One of the most visually appealing beers ever. Nose of roasty espresso and whipped cream, with a smokey edge to it. Similar in flavor, but the coffee and unsweetened chocolate elements are almost hidden. Follows up with a tangy character and a bitter hop bite. Not complex, but satisfying. Feels like velvet on the tongue. Glorious lacing coats the glass like a veil. Aftertaste is a mellow, roasty bitterness. Nearly an hour after I finished, a half inch of creamy foam remained in the glass. This is the classic Irish Dry Stout, so don't diss it for not being an in-your-face imperial or double chocolate.\n",
      "-4\tAbsolutely stunning appearance: very dark brown, almost black body with a reddish tint. The dense, creamy, light-brown head stays one finger thick until the glass is empty. Burnt aroma with some mild coffee notes and vague hints of dough. The taste is very light sweet with a very light bitter finish giving a somewhat dry feel (or is the other way around?). The flavour follows the aroma, in addition to some faint raisins. The body is extremely light, the carbonation is close to flat and the texture is rather watery (or a bit creamy, if you dear to take a sip of the perfect head). Ok beer with nice (although rather subtle) aroma and flavour. However, I find it far too thin and I donât really like the lack of bitterness or sweetness (even if thatâs how a dry stout is supposed to be). If it was possible to roast water, this is what it would taste like.[44 cl can, from Kiwi Valle, Oslo]\n",
      "\n",
      "Random reviews\n",
      "4497\tThe one and only Guinness... Should really get a number of different ratings based on distance to the brewery... Iâve had it there (twice), in many pubs in Dublin, and then in many other pubs around the world. The difference is huge. That said, Iâll be rating a GOOD Guinness (Dublin drunk) here. Pours black, obviously, with an incredibly thick and creamy head. Aroma is roasted malt, coffee, dark chocolate, nuts and some sweetness from dried dark fruits. Taste is sweet and creamy with a solid bitter backbone and a fairly long finish. Body is richer than anything else and very creamy.\n",
      "3817\tEnglish pint from a 14.9 oz can.  The beer poured a very dark brown/black with a very frothy, tan head.  A very roasty aroma with a bit of smoke and coffee.  The beer went down with a medium body and an abrupt, dry finish.  Very roasty and dry flavor.  Overall, I am getting used to dark beers, but I canât go this dark yet.  I will say this beer is constantly getting better as my tasting becomes better.\n",
      "1191\tDraught on tap in the Courtyard Pub in Hamilton. Too cold but very smooth. Not the stout that it is made out to be. However it is a decent product. I much prefer the foreign extra version, though its not really a fair contest as that is 7.5% ABV.\n",
      "4169\tNice apperance. Dark with at Think creamy foam. A little roasted aroma. Taste is a very watery, clean and a hint of coffee and roasted chocolate. Easy to drink but boring and thin.\n"
     ]
    }
   ],
   "source": [
    "df_merged = pd.merge(df_reviews[df_reviews['beer_id'] == top3_beer_id[0]], guinness, how='outer', on='user_id')\n",
    "\n",
    "df_merged.sort_values(by=['expertness_score'], inplace=True)\n",
    "\n",
    "print(df_merged.beer_name_x[0])\n",
    "print_reviews(df_merged, n_rev)"
   ]
  },
  {
   "cell_type": "code",
   "execution_count": 15,
   "metadata": {},
   "outputs": [
    {
     "name": "stdout",
     "output_type": "stream",
     "text": [
      "Rochefort Trappistes 10\n",
      "Bad reviews\n",
      "340\tVery strong alcohol taste. I prefer the 8 or 6 over the 10. Compared to other Trappist beers, this one ranks very high.\n",
      "673\tThis was a very nice belgian strong ale.  A very deep and dark color.  Lots of little flavors seep through the thickness of this brew.  Nicely done.\n",
      "586\tUnique style of Trappists, caramel and prunes, only sad point: watch out for the huge bottle deposit when served out of the house..\n",
      "508\tTo my fellow Vets on this Veterans Day 2011 - SALUTE!! My gosh, brews like this have me wishing I was born in Belgium! I do believe I have found the sixth beer to go into my top-5 favorites list!!! This is definitely part of my winter holiday food and drink repertoire! Some hearty smoked cheese and smoked wild game (venison, wild boar) are definitely going to be paired up with this hearty brew. I could see this being my go-to brew on those cold wintry night by the fireside and a hearty cigar. The alcohol content (11.3% ABV) is absolutely warming and very well hidden in this delicious brew! Cue the choir!!\n",
      "\n",
      "Good reviews\n",
      "-1\t330 mL bottle poured into a goblet. The aroma is initially a bright cherrywood note with a touch of smokiness and a light resin quality. This aroma blends into a port wine note consisting of an alcohol touch with fruity flare - tart cherry, plum, strawberry, and a light banana note - with undertones of buttery pie crust and brown sugar. It?s a murky opaque dark cherry brown with a dense foam, tan head that retains a medium-thick ring and a solid, soft foam surface, and leaves only a light, but dense wisp, lacing on the glass. The taste is a medium high bittersweet port wine. The texture is thick and oily with an abundant fuzzy carbonation to smooth things out. The body is full with lots of plum and raisin notes as well as a woody feel. There?s a mellow and smooth wine warmth at the finish with toffee, sweet cherry, and plum flavors. The aftertaste is dry and clean with a toffee and spice touch.Aged 1 yr, 3/13/2016. Strong boozy wood aromas greet the nose with bourbon port wine. This settles to eventually reveal caramel and cola. It pours a murky raisin color with soft, light, beige head that showd mild retention and sparse lace. The taste a a medium high sweet with a medium bitter. Foamy carbonation accompanies a slick texture. The medium full body has a woody spice and cola profile with a light leather quality. Tastes of smokey, light raisin emerges and turns to chocolate and cherry. The finish is similar to port wine with a clove spice and a light grape jelly. Itâs aftertaste is light, dry, and clean  with clove and mild port wine flavors\n",
      "-2\t11.2 oz bottle poured into a tulip.A: Pours a very dark ruby red color with good clarity and little yeast floaties on the bottom of the glass. The head is initially a three finger light mocha color with huge bubbles and a bubbling carbonation show, ultimately settling into a one finger head with a nice creamy texture. Little lacing is left on the glass.S: Very vibrant. Chocolate, raisins, currants, plums, cherries, green pear, cloves, and spices all intermingle with great complexity; every smell provides a subtly different aroma.T: The first sip brings waves of darker dried fruits, leaving a fantastic chocolaty finish and aftertaste. The initial sips give way to more of a flavor very reminiscent of cherry pie filling. At various points afterward, I can also pick out light licorice, hints of grassy hops, fig newtons, chewing tobacco, brown sugar, spices, and other subtle hard-to-identify flavors. Stunning complexity with a fantastic lingering aftertaste. This is freakinâ heaven, plain and simple. The alcohol is as perfectly integrated as Iâve ever seen in a beer, warming the body without being palpable on the flavor.M: Amazingly smooth until the midtaste, where the yeasty astringency builds dryness on the tongue, giving it surprising drinkability. Alcohol lightly stings the tongue in conjunction with the carbonation. The dryness becomes a bit excessive at times, but otherwise it feels fantastic on the palateO: Plain and simple, a triumph of brewing finesse. Faint niggles here and there canât even come close to ruining this beerâs immense glory. Magnificent.\n",
      "-3\tSecond Review:Pours a dark opaque brown with a thick, creamy, tan head. The head dwindles and leaves lacing that is thick and clingy; CO2 only visible along the edge of the head. Aroma is malty, roasted, spicy and some hints bubblegum. The flavors are sweet, roasted, fruit, spicy. Sweet start with a tart middle and a dry finish. Mouthfeel is full bodied, smooth and effervescent. A definite warming presence of alcohol. A great beer with a lot of character; complex but not overpowering.Well-balanced and intense without being over the top.First Review:Presentation: 33cl brown bottle with freshness date of 26/08/08Deep brown color a light brown head with signs of light carbonation. The head diminished to a fine layer quickly leaving a nice band of lace around the glass. Aroma is initially astringent and wine like, but more complex smells and flavors emerge as the beer warms: fruity bubblegum notes, dried fruits and caramel and an earthy background. Flavor is complex and full: sweet fruity and caramel start with a quick tart middle and a lingering tangy hop finish. Mouthfeel is full bodied and syrupy with an alcohol finish and a surprising amount of effervescence.\n",
      "-4\t11.2oz bottle that Iâve been sitting on for about 2 years. Pours a cloudy, brown colored body with an amber tint to it. Just a few trace pieces of sediment. Finger-width, creamy and frothy, tan head that dissipates fairly quickly and leaves lots of lacing on the glass. Aroma is much richer than either the 6 or 8. Tons of deep caramels, chocolate, and toffee. There are also heaps of dark fruits to accompany the vast array of malts. Not as floral as the 6 or 8, but loaded with prunes, raisins, dates, plums, and definitely some black currants and other black berries. A bit of a syrupy sweetness, banana bread, thick yeasts, and some peppery alcohol. Very big, thick, dense, and complex aroma. Flavor is more the same. Heaps of caramel and chocolate, dark fruits, and some molasses-bread. Raisins, dates, prunes, plums, and a nice berry-like, black currant taste with just a pinch of sharpness. Syrupy sweetness with some more banana bread, peppery spices, nuts, earth, and a somewhat salty alcohol. Finishes rich, warm, and layered with a solid bitterness that slowly dries with a lengthy aftertaste. Full body, very smooth, and a soft, creamy carbonation. Overall, I tasted the 6, 8, and 10 side-by-side and I wanted to like the 6 or 8 more than the 10. I was HOPING this beer was overrated, but this beer is awesome. Big, soft, rich, and complex, I have nothing to complain about here. This beer is spectacular and anything but overrated. Wow.\n",
      "\n",
      "Random reviews\n",
      "1844\tBeautiful nut brown with persistent creamy head. Bread, toffee and some red fruits in the nose. Caramel, bread and nuts fill the mouth with bold, nice body, fresh carbonation. Long, sweet and liquorous closure. Really marvelous.\n",
      "1809\tBottle. Pours a very dark brown a with a moderate off-white head. Nose has nominally sweet, but slightly sour notes with some stronger dark fruit in there. Taste is rather sweet and yeasty. Not my style.\n",
      "4486\tBottle, 33 cl. Dark mahogany body with a foamy beige head. Sweet, fruity and spicy aroma with quite a bit of alcohol. Notes of plums. Rich, sweet taste with light/medium bitterness. Very malty and spicy flavours. Distinct alcohol. Medium body with prickly carbonation. Somewhat overcarbonated like the other two. Dry finish with warming alcohol. A wonderful beer that provides an intense experience, but a higher ABV would have been too much. One of the best Belgian ales I have had.\n",
      "3806\tMuch darker in color than the 8, and more in dark fruit and roast on the nose. Not as tart on the nose (softer) than the Rochefort 8, with little to no head when poured. Definitely a thicker and different taste overall than 8, with a slight bitterness and even, a more oaky initial taste on the tongue. Somewhat musty on the first pour, but generally pleasant and not as shocking as some Belgians, and is in the middle-of-the road flavor-wise for the Trappist beers (I only have the Konigshoven left to try). It does have a kick, but not sharp, but you can tell thereâs something sneaky going on. basing it on other Quads, this is definitely more pleasant and \"rounder\" in flavor than others, not shifting too much to the extremes of any one taste (I guess \"balanced\" would be another word). I had this aging in the fridge (along with the 8) for 2 years, and figured this would be a nice belated \"birthday\" gift to myself to open... (Bottle Pour 3/9/2008)\n"
     ]
    }
   ],
   "source": [
    "df_merged = pd.merge(df_reviews[df_reviews['beer_id'] == top3_beer_id[1]], rochefort, how='outer', on='user_id')\n",
    "\n",
    "df_merged.sort_values(by=['expertness_score'], inplace=True)\n",
    "\n",
    "print(df_merged.beer_name_x[0])\n",
    "print_reviews(df_merged, n_rev)"
   ]
  },
  {
   "cell_type": "code",
   "execution_count": 16,
   "metadata": {},
   "outputs": [
    {
     "name": "stdout",
     "output_type": "stream",
     "text": [
      "Chimay Bleue (Blue) / Grande Réserve\n",
      "Bad reviews\n",
      "321\tTasted a bottle of 1999. First taste reminds more of old books and dust but in the end a subtle sweet taste takes the upperhand. Very nice carbonisation for this age still.\n",
      "654\tA trappist beer. Dark nice taste of dark choclate.It dossenât fell like itâs 9%, one hellluva nice beer from Belgium.Itâs easy to get but its nice\n",
      "567\t3 liter bottleThis is a yeast driven malty beer. It went very well with our Thanksgiving dinner. A solid beer, worth revisiting from time to time.\n",
      "489\tGreat beer with a small touch of alcohol in the aroma.  Just enough alcohol to warm the senses and a wonderful taste to match.\n",
      "\n",
      "Good reviews\n",
      "-1\t(Re-rated on 3/8/2016):Rationale: I was new to the style back then. With experience I want to revisit one of my favorite, and see if I like it as much as I was then. So here goes!330 ml bottle bought at CitySuper in Harbour City, Tsim Sha Tsui.Looks: Cloudy hazy amber brown colour with a layer of yeast sediments; One and a quarter finger head with creamy, lasting light beige foam; Excellent sticky lacing with fizzy carbonation.Aroma: Very fragrant rich dark malt, with strong plum, raisins, figs, light Brandy, nice alcohol, vanilla, strong caramel, strong toffee, whipped cream, candi sugar, sweet bread, strong Bel yeast and light grass. Lovely!Taste: Mid to strong sweet full dark malt, with strong plums figs, metallic, smart alcohol, light liquorices, caramel, toffee, molasses, strong spices, earth, biscuits, strong Bel yeast, lime, herbs, fairly strong bitter hops and grass.Body: Full body. Dry, slick and creamy palate.Mouth Feel: Rich dark malt in a very smooth and solid background. Creamy and very Bock-ish. Then very strong plums and figs hit hard and fast followed by well-attenuated dry alcohol and liquorices and you know right away this is classy! Layered caramel and toffee with perfect medium sweetness. Most of it went to the booze, the rest is nice dryness. Spicy, slightly earthy and quite biscuit Bel yeast, round with pretty strong lime and herbs. Close to perfect!Booze: I couldnât handle the 9% abv back then and got KO-ed fast with a rush. Now the booze tasted dry, tasty and quite restrained and I appreciated it even more!Hoppiness: Light grass in nose. Lime, herbs and grass in taste; Bitterness is fairly strong for a lasting, mid to high astringent bitter-sweet fruity malt finish.After Taste: Quite dry. Creamy, fruity and nice herbal bitter to mouth.Comments: Looking back, I think my original rating is just about right, but with a new appreciation with a bit more tasting experience today: Bold but subtle aroma and taste manifested with lots of plums, darks fruits, Bock-ish maltyness. Backed by perfectly-exceuted dry booze with subtle liquorices, and limey herbal hoppiness. All these niceties at the most affordable price you can have as Chimay being the most widely distributed Trappist beers in the city. Everything seems to works in its flavor and it earns it. Brilliant!-------- />(riginally rrated  on 6 February 2013):Cloudy dark ale brown colour; Very good head and frothy, though not as big as like Chimay White; Fine smell of caramel, vanilla, yeast, malt and some flowery fragrance; hops taste is minimal. It is very smooth to mouth with full body, creamy texture, with lingering taste of sweet toffee; lacing is not as apparent as Chimay White; Palate is subtle, lively, organically smooth throughtout with sweet after taste. At abv 9%, itâs really strong, with the rush come after 5-7 minutes but itâs gradual and you wonât get a bad trip, lovely feeling really. :)Comment: The best from Chimay, like everyone who have high regard with it, I love it for being the most subtle Chimay beers among the tri-colors; Lucky enough I bought a brunch of Chimay Blues at bargain price (looks like the people at the supermarket doesnât know how good this is!) so Iâll have a great holiday treasuring them. Definitely one of the best Trappist beer in the World. Period.(Original score: Aroma: 8/10; Looks: 4/5; Taste: 10/10; Palate: 5/5; Overall: 20/20)\n",
      "-2\tWho could honestly go past a bottle of Grande RÃ©serve Chimay and say no thankyou! This is an ale that has been tasted by near everyone with any interest in beer whether they have any inklings towards its roots or not. A background favourite of mine I waited until I had cracked a 2001 before rating this. 2004- Poured into its own chalice at around cellar temperature. Extremely muddy with the yeast dispersing into a pulped fruit mess inside the cola brown body with an enormous, creamy beige crown raising up and persisting for the length to trail fine lacing down the glass. Heady aroma, quite woody almost oak-aged with fresh pulped zesty plums, red wine dryness, spicy yeast and an underlying earthy mustiness like old hops. Lovely smooth and almost creamy mouthfeel; vinous notes set it off and develop into an earthy woody mix of malt and hops. Plums and blueberries, driftwood, peppery alcohol and yeast phenols and a hint of pecan pie develop to linger long in the mouth hiding that 9% ABV. Warming and homely, this example seemed more woody than most that I have tried with a long finish that was like a well aged plum wine. Seemed to have more age than the 2001. Quite nice. (75cL, Nookenburra) 2001- Poured into its own chalice at cellar temperature. Quite clear, deep ruby red with a tinge of brown. Head formed off the pour; extremely dense and creamy beige, held in place by streams of very, very fine bubbles to leave a mist over the glass as I drank. Pungent and tart, port-like nose with an immense spicy waft of alcohol and the famous house yeast. Other dried fruits were there with a lick of bitter/sweet chocolate and a touch of polished Jarrah (?). Extremely wine-like in the mouth; mellowing, smooth and yet prickly across the tongue with a good dose of medicinal alcohol that didnât hinder it at all. Blackcurrantâs, raisins and those distinctive plum notes abound, this was like an after dinner elixir to stir up the rawest of emotion, by the fire with a loved one perhaps. Finish is as smooth as silk letting the alcohol warm to its full extent along with a deeply vinous  roundness and depth. I love a good strong ale, and Chimay delivers with fervour. (75cL, Vintage Cellars, Adelaide) As I said âwho could go past a Chimayâ!\n",
      "-3\t750 ml bottle into signature chalice, bottled in 4/2013. Pours moderately hazy deep ruby red color with a 1-2 finger fairly dense light khaki head with good retention, that reduces to a thin cap that lingers. Light spotty soapy lacing clings on the glass, with a large amount of streaming carbonation retaining the cap. Aromas of big pear, apple, raisin, plum, pepper, clove, banana, caramel, candi sugar, toast, brown bread, floral, and yeast earthiness. Damn nice aromas with good balance and complexity of fruity/spicy yeast ester and malt notes; with good strength. Taste of big raisin, plum, pear, apple, light banana, caramel, candi sugar, toast, brown bread, clove, pepper, floral, and yeast earthiness. Lingering notes of light/dark fruits, light banana, clove, pepper, caramel, candi sugar, toast, brown bread, floral, and yeast earthiness on the finish for a while. Fantastic complexity of malt and fruity/spicy yeast flavors; with a great crisp malt/fruity/spicy flavor balance and zero cloying flavors after the finish. Medium-high carbonation and medium bodied; with a lightly slick, crisp, and moderately prickly mouthfeel that is nice. Alcohol is very well hidden with minimal warming present after the finish. Overall this is a highly excellent Belgian dark ale. All around great balance and complexity of fruity/spicy yeast and malt flavors; and very smooth to sip on for the ABV. A highly enjoyable offering.\n",
      "-4\t2016-12-24, fresh, batch L16-066, bb 12-2021, 7-5-6-3-13=34Gorgeous look, but average taste. The aroma is somehow interesting, there is an earthy and spicy touch. The body is on the thin side for this beer, the malt doesnât have enough depth, traces of vegetables; but the final is smooth.2010-02-18, parallel tasting, vintage 1988 (bb 1991), 22 years old, 7-3-7-3-14=34The cap is in good conditions, a bit rusty, but the rubber is still functional; it pours a brown color, initially with a small head, but that vanishes quickly in a whiff. Medium strength caramel aroma, with unmistakable oxidization vein, but not annoying; very light impression of dust and pond water too. It has a good body structure, stronger than most 20yearsold beers tasted so far, yet quite flat; caramel flavor, sweetish; the ageing created an extra flavor of mellow liquorice; almost no trace of bitterness, instead the sweetness is balanced by the alcohol, that is easily perceived through a pervasive warmth in the mouth. Interesting, but not outstanding.2010-02-18, parallel tasting, vintage 1998 (bb 2003), 12 years old, 7-4-6-3-13=33The cap is in good conditions; it pours a dark brown color, darker than the 1988; the head is initially large, but even after some time itâs still half a centimeter thick. Medium to light aroma, with some caramel and soap; also very light vanilla, wood, cake, nuts and Madeira; pleasant. Being more carbonated than the 1988, the mouthfeel seems lighter; itâs undoubtedly less sweet, even if there is a residual sweetness; there is some caramel flavor, less oxidization, and equally lack of bitterness, as well as there is almost no alcohol warmth. The two beers are similar, but in 10 years the 1998 wonât become like the 1988: not enough malty.2010-02-18, parallel tasting, vintage 2008 (bb 2013), 2 years old, 6-4-7-3-13=33It pours a dark brown color, darker than the 1988; very large head, frothy more than creamy, but quite persistent. Medium to light aroma, with some caramel, soap, refined sugar, yeast. Average body structure, definitively slimmer than the 1988, possibly drier than the 1998; there is some caramel flavor, quite boring indeed; some more bitterness than in the other vintages, more balanced therefore; the final is also a bit nutty, and the alcohol warmth is just what is expected from a 9% beer. Unimpressive.2008-02-03, vintage 2000, 7 years old, Grande Reserve corked 75cl bottle, 6-5-7-3-14=35It pours a beautiful dark mahogany color with red shades, and a creamy head. It smells too much the cork, with some caramel too, and a touch of cellar. Medium body (maybe less than the fresh one), with a good dark caramel flavor. The bitterness is almost gone. At the end the alcohol nicely warms the tongue. In the end there is some complexity, wood flavors and traces of oxidization. More an experience than a great beer.2003-01-16, vintage 2001, 1 year old, 9-5-8-4-17=43Dark amber color, generous head, reducing to a thin creamy collar.Interesting aroma: malt, light liquorice, whisky; 1 extra point for the harmony, more than for the specific characteristics.Good body structure and perfect balance of malt and hop; pretty dry taste (considering the alcohol content and style); smooth, warming, some alcohol sensation; some caramel and liquorice. Improves while warming and oxidizing.Bitter sweet final, harmonious but not particularly strong nor aromatic.I used to love this, but possibly it has changed in the last years; I would prefer other Trappistesâ¦\n",
      "\n",
      "Random reviews\n",
      "1789\tVery dark brown in colour, almost opaque! Nice smell, some sweetness in the aroma, but definately not overpowering! Heavy malt and a great aftertaste, although somewhat a bit more mild than I remember from the first time I sampled it! Still a great beer, but I prefer other belgians still!\n",
      "1754\tA 2012 Blue Chimay. Dark brown, a bit shady. Thick white head.  Complex Belgian style yeast aroma. Strong. 9% ABV. Would probably gain if stored a couple of years (Best before end 2017).\n",
      "3751\tWhen I first had this beer, it was one of the first strong Belgians for me.  It blew me away.  Over the years, Iâve felt that while it is a complex, tasty beverage, it has been eclipsed.  Whether it is me or the beer is debatable - and indeed the topic of the perceived decline of Chimay beers over the past decade is one of the most heated in the world of beer geeks.  Well, I finally decided to sit down and give this a proper re-rate.  Iâve got a small bottle of 2004 from my local liquor store. The colour is kind of unusual in that there is a big disparity between the colour - under the light itâs a golden brown but in the glass itâs dark chestnut. The head is very light mocha.  The aroma is plummy, slightly bubblegummy with notes of honey, pears, sweet dark malts and a little bit of yeast.  Nice.  It has a sweet palate with pear, orange, and sultana notes.  A strong alcohol presence cuts through dusty yeastiness.  Flavour notes are well-fused, save for the obtrusive alcohol.\n",
      "2297\tI donât know why all the dislikes on this beer ....In my opinion this beer is EEEEEEpic!!!!Nice typical trappist smell fruity and floral! Color is brown and red with big foamy head.feels like a sweet beer but the magic happens when you feel the perfect balance between ingredients. not too sweet just charming on a cold day the malt taste is really present with a delicious hop/biter aftertastethis really holds up nice in mouth!!! have it a try\n"
     ]
    }
   ],
   "source": [
    "df_merged = pd.merge(df_reviews[df_reviews['beer_id'] == top3_beer_id[2]], chimay, how='outer', on='user_id')\n",
    "\n",
    "df_merged.sort_values(by=['expertness_score'], inplace=True)\n",
    "\n",
    "print(df_merged.beer_name_x[0])\n",
    "print_reviews(df_merged, n_rev)"
   ]
  },
  {
   "cell_type": "markdown",
   "metadata": {},
   "source": [
    "### Rochefort Trappistes 10 \n",
    "\n",
    "Last, but certainly not least, is their Belgian Quad, the Trappistes Rochefort 10. It had a dark ruby color with a lasting tan head. The aroma with very rich with a strong maltiness and sweet molasses coming through. The flavor followed the aroma with a strong and rich malty body with notes of dark fruit. There is a touch of sweetness but it manages to stay on the dry side. The 11.3% is masked well, but it is still warming. The body is smooth and silky, and it has a dry, malty finish. This is one of the highest-ranked Belgian Quads for a reason.\n",
    "\n",
    "[link](https://thebeerjunkies.com/trappistes-rochefort/)\n",
    "\n",
    "### Guinness Draught\n",
    "\n",
    "\"Swirling clouds tumble as the storm begins to calm, settle, breathe in the moment, then break through the smooth, light head to the bittersweet reward. Unmistakably Guinness from the first velvet sip to the last, lingering drop and every satisfying mouthful in between. Pure beauty. Pure Guinness.\" - Guinness\n",
    "\n",
    "Aroma: “Sweet dark fruit character. Cherry, raisin, and roasty malt character with slight cocoa, chocolate, and coffee flavor. A little sourness and subtle vanilla bean notes.”\n",
    "\n",
    "Flavor: “Light bodied with some slight creaminess and sweetness giving way to fairly aggressive bittering hops. Roasty, sharp astringent character. Some estery fruit characteristics. Creaminess carries through in the finish. Finishes dry with slightly oxidized notes.”\n",
    "\n",
    "Overall: “The nose promised more than the beer provided. Somewhat light bodied with a roast character that dominates and a bit of creaminess to balance. Tannic harshness is too high—could use a bit less bittering or a touch more body to mellow it out. But the more you drink it, the more you enjoy it.”\n",
    "\n",
    "[link](https://beerandbrewing.com/review/guinness-draught)\n",
    "\n",
    "### Chimay Bleue (Blue) - Grande Réserve \n",
    "\n",
    "(Deepl translated) [link](https://www.vandb.fr/biere/chimay-bleue-grande-reserve-75cl.html)\n",
    "\n",
    "Deep brown colour, creamy beige mousse\n",
    "\n",
    "Aromas of candied fruit, plums, caramel, spices\n",
    "\n",
    "Powerful, rich and creamy texture, notes of caramel, brown sugar, toasted malt, candied fruit, light hints of alcohol\n",
    "\n",
    "On tasting, Chimay Bleue Grande Réserve has a deep brown colour covered with a creamy beige head. Its symphony of aromas tickles the senses, revealing notes of candied fruit, plums, caramel and spices. A beautiful Dark Ale that's well worth the diversions!\n",
    "\n"
   ]
  },
  {
   "cell_type": "markdown",
   "metadata": {},
   "source": [
    "### Black and Tan\n",
    "\n",
    "Particularly \"nice\" beer, used in other examples"
   ]
  },
  {
   "cell_type": "code",
   "execution_count": 29,
   "metadata": {},
   "outputs": [
    {
     "name": "stdout",
     "output_type": "stream",
     "text": [
      "Mississippi Mud Black & Tan\n",
      "Bad reviews\n",
      "64\tThis stuff is great! Itâs one those beers that tastes good warm.\n",
      "102\tMild malty aroma, from the smell i thought it was going to taste really good, pretty mild and boring though. It does have a neat looking bodel atleast.\n",
      "94\thad never ahd this and was in a crappy store in a great beer town (Denver) but this was the only single even interesting.  itâs blah; but better than the overall score.  it is what it says it is a porter watered down by a pils.  kinda of a weak brown ale but no issues.  at least average beer\n",
      "52\tThe name is appropriate. Sort of a one time âgagâ beer.\n",
      "115\tThis was my first dark beer and I loved it.  That was a long time ago, so I will have to try it again.\n",
      "\n",
      "Good reviews\n",
      "-1\t16 ounce can into pint glass, canned on 1/22/2015. Pours slightly hazy reddish brown color with a 2 finger dense and fluffy light khaki head with good retention, that reduces to a small cap that lingers. Light spotty soapy lacing clings down the glass, with a fair amount of streaming carbonation retaining the cap. Aromas of chocolate, cocoa, caramel, brown bread, toasted biscuit, nuttiness, light coffee, light herbal, and roast/toasted earthiness. Nice and pleasant aromas with good balance and complexity of dark/roast/bready malt and light earthy hop notes; with solid strength. Taste of chocolate, cocoa, caramel, brown bread, toasted biscuit, nuttiness, light coffee, light herbal, and roast/toasted earthiness. Light herbal/roasted bitterness on the finish; with lingering notes of chocolate, cocoa, caramel, brown bread, toasted biscuit, nuttiness, light coffee/herbal, and roast/toasted earthiness on the finish for a good bit. Nice complexity, robustness, and balance of dark/roast/bready malt and light earthy hop flavors; with a great roasted bitterness/sweetness balance and zero cloying flavors after the finish. Medium carbonation and body; with a very smooth, moderately creamy/bready, and lightly sticky/chalky balanced mouthfeel that is nice. Alcohol is very well hidden with zero warming present after the finish as expected of 5%. Overall this is a nice black and tan style. All around good complexity, robustness, and balance of dark/roast/bready malt and light earthy hop flavors; and very smooth and easy to drink. A nicely enjoyable offering.\n",
      "-2\tTall, cappuccino-esque  frothy tan head recedes quickly atop a clear, amber-red beer.  Aromas of roasted, chocolate and pale malts with a touch of red raisins and light floral and spicy hop notes.  Dusty yeast tones lead to a medicinal, almost solvent like, odor.   Lightly sweet, moderately acidic, lightly bitter to start.  Finish is lightly sweet, moderately acidic, lightly bitter.  The acidity is slightly sour (though I donât think the beer is off) and there is a moderate astringency.  Flavors (weaker than the aroma) fall off quickly and only leave a husky, grainy finish behind.  The aftertaste actually starts to resemble pennies and corn husks after a while.  Light to medium body, watery texture, below average carbonation.  Pint bottle, nonic glass.  And to think, soon weâll be able to enjoy this fine beverage in a full, 32 oz serving.  Fantabulous.\n",
      "-3\tPours with a tan colored, frothy, initially two-finger thick head.  The beer is concentrated, burnt amber color that shows ruby and amber hues when held up to the light.  The aroma is a mix of light roast notes, butter, toffee, well toasted grain and more diacetyl accented butter notes.  While the diacetyl is not overwhelming it certainly plays a big role in the aroma profile of this brew; ultimately it is just too distracting.Light bodied and quaffable, there is a noticeable sweetness to this brew up front and in the finish.  The sweetness in the finish is accentuated by buttery, almost butterscotch diacetyl driven flavors.  The diacetyl is not as noticeable in the flavor as it is in the aroma, but it still plays a significant role.  Sweet grain, almost corn-like flavors are offset by a light roast character that provides a touch of burnt acidity, and a soft, toasted grain character to the finish.  A light hop bitterness becomes more noticeable in the finish where it tends to lightly linger on in the palate after the beer has left my mouth.  Can be a little thin at times, a bit more malt richness would certainly be welcome.About what I expected, not horrible, though not something to write home about either.  The soft diacetyl character certainly doesn’t help.  I’ll certainly pass an having this again though.\n",
      "-4\tBottle. Dark yet translucent chestnut with a rocky off-white head. Very grainy nose, but definitely sweet. Also a watery caramel, hint of chocolate, light bubblegum, hint of citric hops, but also a stale vegetal odor which oddly combined with the graininess and acidity of the hop aroma to produce a light vomitous reek. Subtle but nice. Flavor was subtler to say the least. Bland would be an overstatement unfortunately. It was reminiscent of spent grain, a hint of malt, root, light zesty citrus, and overly watery.  Palate was correspondingly dull and lacked even moderate carbonation. That said I liked the bottle.\n",
      "-5\tBottle, 32oz. Pours a dark brown with a huge diminishing rocky white head. Aroma is of light caramel malt, wet cardboard. Has a feel kinda like flat sodapop, slightly sticky with faint carbonation and caramel flavor. Flavor is lightly of roasted malt, caramel, and maybe a hint of nuttiness and very lightly bitter and grassy. Strong notes of paper, wet cardboard, metal. Finish is on the dry side, kinda empty and flat, leaving you with toasty malt residues. This has the worst mouthfeel, not sure why itâs so bad to me. Flavor isnât bad overall, you canât go wrong with the nice roastiness there but this one just goes all wrong in many ways.\n",
      "\n",
      "Random reviews\n",
      "278\tbottle caught my eye Deep red color. Not what I was expecting. I guess I was expecting something the consistency of used motor oil to ooze from the bottle. Big fluffy head, pour with caution or youâll end up waiting a couple days before you even get to try your beer. More hops in the nose than in the mouth. A watery mouthfeel for a B&T. If I hadnât read the label, Iâd have thought I was drinking a dark-colored amber lager\n",
      "188\tA pretty average beer. Tastes a little watered down. Pours a deep redish brown with a minimal head. Slight malty taste. The bottle is pretty cool though.\n",
      "455\tpours reddish brown with a thick khaki head that goes away quickly.smells grassy with a little toasted nut and hops notes.taste pretty much the same as it smells only a bit metalic and thin, reminds me of a flat RC cola, not so good of an aftertaste.not too impressed.\n",
      "397\tBottle at the Londoner in Panama. Brownish clear pour. White head. Toffee brownie aroma. Light cocoa taste. Watery. Not bad not great\n",
      "226\tSweet caramel licorice flavour, a little watery, very light on the hops. The more you\n"
     ]
    }
   ],
   "source": [
    "# black and tan with most reviews\n",
    "black_and_tan_id = 837\n",
    "\n",
    "black_and_tan = df_scores[df_scores['beer_id'] == black_and_tan_id]\n",
    "\n",
    "df_merged = pd.merge(df_reviews[df_reviews['beer_id'] == black_and_tan_id], black_and_tan, how='outer', on='user_id')\n",
    "\n",
    "df_merged.sort_values(by=['expertness_score'], inplace=True)\n",
    "\n",
    "print(df_merged.beer_name_x[0])\n",
    "print_reviews(df_merged, n_rev, 11)"
   ]
  },
  {
   "cell_type": "code",
   "execution_count": null,
   "metadata": {},
   "outputs": [],
   "source": [
    "df_merged = pd.merge(df_reviews[df_reviews['beer_id'] == top3_beer_id[0]], guinness, how='outer', on='user_id')\n",
    "\n",
    "df_merged.sort_values(by=['expertness_score'], inplace=True)\n",
    "\n",
    "print(df_merged.beer_name_x[0])\n",
    "print_reviews(df_merged, n_rev)"
   ]
  },
  {
   "cell_type": "code",
   "execution_count": 36,
   "metadata": {},
   "outputs": [],
   "source": [
    "del df_scores, df_reviews, df_merged"
   ]
  },
  {
   "cell_type": "markdown",
   "metadata": {},
   "source": [
    "## BeerAdvocate\n"
   ]
  },
  {
   "cell_type": "code",
   "execution_count": null,
   "metadata": {},
   "outputs": [
    {
     "ename": "FileNotFoundError",
     "evalue": "[Errno 2] No such file or directory: './../../../data/.BeerAdvocate/rev_w_scores.pkl'",
     "output_type": "error",
     "traceback": [
      "\u001b[0;31m---------------------------------------------------------------------------\u001b[0m",
      "\u001b[0;31mFileNotFoundError\u001b[0m                         Traceback (most recent call last)",
      "Cell \u001b[0;32mIn[31], line 3\u001b[0m\n\u001b[1;32m      1\u001b[0m path \u001b[38;5;241m=\u001b[39m os\u001b[38;5;241m.\u001b[39mpath\u001b[38;5;241m.\u001b[39mjoin(path_to_data, \u001b[38;5;124m'\u001b[39m\u001b[38;5;124m.BeerAdvocate\u001b[39m\u001b[38;5;124m'\u001b[39m)\n\u001b[0;32m----> 3\u001b[0m df_scores \u001b[38;5;241m=\u001b[39m pd\u001b[38;5;241m.\u001b[39mread_pickle(os\u001b[38;5;241m.\u001b[39mpath\u001b[38;5;241m.\u001b[39mjoin(path, \u001b[38;5;124m'\u001b[39m\u001b[38;5;124mrev_w_scores.pkl\u001b[39m\u001b[38;5;124m'\u001b[39m))\n\u001b[1;32m      4\u001b[0m df_reviews \u001b[38;5;241m=\u001b[39m pd\u001b[38;5;241m.\u001b[39mread_csv(os\u001b[38;5;241m.\u001b[39mpath\u001b[38;5;241m.\u001b[39mjoin(path, \u001b[38;5;124m'\u001b[39m\u001b[38;5;124mratings_BA_clean.csv\u001b[39m\u001b[38;5;124m'\u001b[39m))\n\u001b[1;32m      6\u001b[0m df_reviews \u001b[38;5;241m=\u001b[39m df_reviews[df_reviews[\u001b[38;5;124m'\u001b[39m\u001b[38;5;124mlang_tag\u001b[39m\u001b[38;5;124m'\u001b[39m] \u001b[38;5;241m==\u001b[39m \u001b[38;5;124m'\u001b[39m\u001b[38;5;124men\u001b[39m\u001b[38;5;124m'\u001b[39m]\n",
      "File \u001b[0;32m~/Anaconda3/envs/ada/lib/python3.11/site-packages/pandas/io/pickle.py:185\u001b[0m, in \u001b[0;36mread_pickle\u001b[0;34m(filepath_or_buffer, compression, storage_options)\u001b[0m\n\u001b[1;32m    123\u001b[0m \u001b[38;5;250m\u001b[39m\u001b[38;5;124;03m\"\"\"\u001b[39;00m\n\u001b[1;32m    124\u001b[0m \u001b[38;5;124;03mLoad pickled pandas object (or any object) from file.\u001b[39;00m\n\u001b[1;32m    125\u001b[0m \n\u001b[0;32m   (...)\u001b[0m\n\u001b[1;32m    182\u001b[0m \u001b[38;5;124;03m4    4    9\u001b[39;00m\n\u001b[1;32m    183\u001b[0m \u001b[38;5;124;03m\"\"\"\u001b[39;00m\n\u001b[1;32m    184\u001b[0m excs_to_catch \u001b[38;5;241m=\u001b[39m (\u001b[38;5;167;01mAttributeError\u001b[39;00m, \u001b[38;5;167;01mImportError\u001b[39;00m, \u001b[38;5;167;01mModuleNotFoundError\u001b[39;00m, \u001b[38;5;167;01mTypeError\u001b[39;00m)\n\u001b[0;32m--> 185\u001b[0m \u001b[38;5;28;01mwith\u001b[39;00m get_handle(\n\u001b[1;32m    186\u001b[0m     filepath_or_buffer,\n\u001b[1;32m    187\u001b[0m     \u001b[38;5;124m\"\u001b[39m\u001b[38;5;124mrb\u001b[39m\u001b[38;5;124m\"\u001b[39m,\n\u001b[1;32m    188\u001b[0m     compression\u001b[38;5;241m=\u001b[39mcompression,\n\u001b[1;32m    189\u001b[0m     is_text\u001b[38;5;241m=\u001b[39m\u001b[38;5;28;01mFalse\u001b[39;00m,\n\u001b[1;32m    190\u001b[0m     storage_options\u001b[38;5;241m=\u001b[39mstorage_options,\n\u001b[1;32m    191\u001b[0m ) \u001b[38;5;28;01mas\u001b[39;00m handles:\n\u001b[1;32m    192\u001b[0m     \u001b[38;5;66;03m# 1) try standard library Pickle\u001b[39;00m\n\u001b[1;32m    193\u001b[0m     \u001b[38;5;66;03m# 2) try pickle_compat (older pandas version) to handle subclass changes\u001b[39;00m\n\u001b[1;32m    194\u001b[0m     \u001b[38;5;66;03m# 3) try pickle_compat with latin-1 encoding upon a UnicodeDecodeError\u001b[39;00m\n\u001b[1;32m    196\u001b[0m     \u001b[38;5;28;01mtry\u001b[39;00m:\n\u001b[1;32m    197\u001b[0m         \u001b[38;5;66;03m# TypeError for Cython complaints about object.__new__ vs Tick.__new__\u001b[39;00m\n\u001b[1;32m    198\u001b[0m         \u001b[38;5;28;01mtry\u001b[39;00m:\n",
      "File \u001b[0;32m~/Anaconda3/envs/ada/lib/python3.11/site-packages/pandas/io/common.py:882\u001b[0m, in \u001b[0;36mget_handle\u001b[0;34m(path_or_buf, mode, encoding, compression, memory_map, is_text, errors, storage_options)\u001b[0m\n\u001b[1;32m    873\u001b[0m         handle \u001b[38;5;241m=\u001b[39m \u001b[38;5;28mopen\u001b[39m(\n\u001b[1;32m    874\u001b[0m             handle,\n\u001b[1;32m    875\u001b[0m             ioargs\u001b[38;5;241m.\u001b[39mmode,\n\u001b[0;32m   (...)\u001b[0m\n\u001b[1;32m    878\u001b[0m             newline\u001b[38;5;241m=\u001b[39m\u001b[38;5;124m\"\u001b[39m\u001b[38;5;124m\"\u001b[39m,\n\u001b[1;32m    879\u001b[0m         )\n\u001b[1;32m    880\u001b[0m     \u001b[38;5;28;01melse\u001b[39;00m:\n\u001b[1;32m    881\u001b[0m         \u001b[38;5;66;03m# Binary mode\u001b[39;00m\n\u001b[0;32m--> 882\u001b[0m         handle \u001b[38;5;241m=\u001b[39m \u001b[38;5;28mopen\u001b[39m(handle, ioargs\u001b[38;5;241m.\u001b[39mmode)\n\u001b[1;32m    883\u001b[0m     handles\u001b[38;5;241m.\u001b[39mappend(handle)\n\u001b[1;32m    885\u001b[0m \u001b[38;5;66;03m# Convert BytesIO or file objects passed with an encoding\u001b[39;00m\n",
      "\u001b[0;31mFileNotFoundError\u001b[0m: [Errno 2] No such file or directory: './../../../data/.BeerAdvocate/rev_w_scores.pkl'"
     ]
    }
   ],
   "source": [
    "path = os.path.join(path_to_data, 'BeerAdvocate')\n",
    "\n",
    "df_scores = pd.read_pickle(os.path.join(path, 'rev_w_scores.pkl'))\n",
    "df_reviews = pd.read_csv(os.path.join(path, 'ratings_BA_clean.csv'))\n",
    "\n",
    "df_reviews = df_reviews[df_reviews['lang_tag'] == 'en']"
   ]
  },
  {
   "cell_type": "code",
   "execution_count": 32,
   "metadata": {},
   "outputs": [],
   "source": [
    "top3_beer_id = df_scores.beer_id.value_counts().head(3).index.to_list()\n",
    "\n",
    "minuteIPA = df_scores[df_scores['beer_id'] == top3_beer_id[0]]\n",
    "breakfast_stout = df_scores[df_scores['beer_id'] == top3_beer_id[1]]\n",
    "pliny = df_scores[df_scores['beer_id'] == top3_beer_id[2]]\n",
    "\n",
    "n_rev = 4"
   ]
  },
  {
   "cell_type": "code",
   "execution_count": 33,
   "metadata": {},
   "outputs": [
    {
     "name": "stdout",
     "output_type": "stream",
     "text": [
      "Guinness Draught\n",
      "Bad reviews\n",
      "343\tVery few things in life are as consistently good as a Guiness.  Until the day when I can get to Ireland, Iâl drink it here in the states every time I do a part in a Shakespeare festival.\n",
      "676\tThis beer is completely overrated.  First off, it is only drinkable by tap, the can and bottle versions aren't that great.  It's not that bad in the beginning because the flavor is decent, but the palate is too heavy, and by the end of the pint, the flavor is tiring.\n",
      "589\tOne of the few beers that lives up to the hype around it. Good color. Nice head. Overall a solid buy.\n",
      "511\tThis beer, like any beer is much better on tap than out of the bottle or can. It fills you up. Itâs like a meal in a glass.\n",
      "\n",
      "Good reviews\n",
      "-1\t14.9 ounce can into imperial pint glass, canned on 5/26/2016. Pours crystal clear very dark brown color with a 1 finger dense and creamy light tan head that lasts the whole glass. Thick creamy lacing clings down the glass. Fantastic appearance. Aromas of dark chocolate, cocoa, coffee, and toasted dark bread; with light nuttiness, smoke, dark fruit, herbal, and yeast/roast/toasted earthiness. Nice and pleasant aromas with good balance of roast/bready malt and light earthy hop/fruity yeast notes; with solid strength. Taste of dark chocolate, cocoa, coffee, and toasted dark bread; with light nuttiness, smoke, dark fruit, herbal, and yeast/roast/toasted earthiness. Light herbal/roast bitterness on the finish; with lingering notes of dark chocolate, cocoa, coffee, toasted dark bread, light nuttiness/smoke/herbal, and yeast/roast/toasted earthiness on the finish for a good bit. Good robustness and balance of roast/bready malt and light earthy hop/fruity yeast flavors; with a nice roasted bitter/sweet balance, and zero astringent flavors after the finish. Moderate dryness from roast/bitterness, increasing through the glass. Light carbonation and body; with a very smooth, fairly grainy/chalky, and slightly sticky mouthfeel that is okay. Very thin with no creaminess at all. Zero warming alcohol as expected of 4.2%. Overall this was a decent Irish dry stout. All around good robustness and balance roast/bready malt and light earthy hop/fruity yeast flavors; very smooth and easy to drink. This was too thin and bit watery than I expected; but it was still quite enjoyable overall, and a good style example.\n",
      "-2\tOpaque black color with a copper hue. Thick and creamy light brown 1 finger head lasting around 10 minutes and clinging to the glass. Powerful legs with a sexy pouring activity slowly revealing the foam.Aromas and flavors of sweet smoky molasses, roasted coffee, cocoa and herbal spices. A little vinous with the smell of alcohol, almost metallic. Nice intensity and well balanced flavors, not too intense and having both sweetness and some sharpness.Smooth creamy full body with pleasant carbonation. Balanced soft finish, slightly spicy and bitter dry mouth coat with a roasted coffee feel.Overall : Very accessible classical craft. Great balance in flavors and well intensified with good freshness.\n",
      "-3\tBottle with widget. I violated bottle instructions- poured it into a glass and sat back to watch the show. The cascade took over a minute to complete, resulting in the classic putty head floating on a body as oily and dark as being lost in the woods at midnight. The layers are as sharply defined as an Oreo cookie. One of the most visually appealing beers ever. Nose of roasty espresso and whipped cream, with a smokey edge to it. Similar in flavor, but the coffee and unsweetened chocolate elements are almost hidden. Follows up with a tangy character and a bitter hop bite. Not complex, but satisfying. Feels like velvet on the tongue. Glorious lacing coats the glass like a veil. Aftertaste is a mellow, roasty bitterness. Nearly an hour after I finished, a half inch of creamy foam remained in the glass. This is the classic Irish Dry Stout, so don't diss it for not being an in-your-face imperial or double chocolate.\n",
      "-4\tAbsolutely stunning appearance: very dark brown, almost black body with a reddish tint. The dense, creamy, light-brown head stays one finger thick until the glass is empty. Burnt aroma with some mild coffee notes and vague hints of dough. The taste is very light sweet with a very light bitter finish giving a somewhat dry feel (or is the other way around?). The flavour follows the aroma, in addition to some faint raisins. The body is extremely light, the carbonation is close to flat and the texture is rather watery (or a bit creamy, if you dear to take a sip of the perfect head). Ok beer with nice (although rather subtle) aroma and flavour. However, I find it far too thin and I donât really like the lack of bitterness or sweetness (even if thatâs how a dry stout is supposed to be). If it was possible to roast water, this is what it would taste like.[44 cl can, from Kiwi Valle, Oslo]\n",
      "\n",
      "Random reviews\n",
      "1855\tThis rating is for the bottle only.  Draught might be better in some places (like in Ireland!), but Guinness in the bottle in the USA is so thin as to be tasteless.  I poured out the last bottle it was so weak and lifeless.  Seems to be designed for guzzling.  \"Bud Dark\" in my mind.\n",
      "1820\tOne of my favourite pints  Be sure to get a good tasting one everytime, I make sure I choose my pub carefully, you don’t want any of that manky stinking metallic, not been cleaned pipes, guinness not been served in 6 weeks tasting Guinness’.\n",
      "2363\tThe classic. What can one say about the beautiful black color and creamy head. Litlle carbonation. Itâs a good brew, but not as good as it seemed when I first got into it.\n",
      "2894\tKegBlack color; creamy nitrogen head. Light roasted aroma. In the taste, the roasted bitterness shows up more at the end. Average stout, really smooth.\n"
     ]
    }
   ],
   "source": [
    "df_merged = pd.merge(df_reviews[df_reviews['beer_id'] == top3_beer_id[0]], minuteIPA, how='outer', on='user_id').dropna()\n",
    "\n",
    "df_merged.sort_values(by=['expertness_score'], inplace=True)\n",
    "\n",
    "print(df_merged.beer_name_x[0])\n",
    "print_reviews(df_merged, n_rev)"
   ]
  },
  {
   "cell_type": "code",
   "execution_count": 34,
   "metadata": {},
   "outputs": [
    {
     "name": "stdout",
     "output_type": "stream",
     "text": [
      "Rochefort Trappistes 10\n",
      "Bad reviews\n",
      "340\tVery strong alcohol taste. I prefer the 8 or 6 over the 10. Compared to other Trappist beers, this one ranks very high.\n",
      "673\tThis was a very nice belgian strong ale.  A very deep and dark color.  Lots of little flavors seep through the thickness of this brew.  Nicely done.\n",
      "586\tUnique style of Trappists, caramel and prunes, only sad point: watch out for the huge bottle deposit when served out of the house..\n",
      "508\tTo my fellow Vets on this Veterans Day 2011 - SALUTE!! My gosh, brews like this have me wishing I was born in Belgium! I do believe I have found the sixth beer to go into my top-5 favorites list!!! This is definitely part of my winter holiday food and drink repertoire! Some hearty smoked cheese and smoked wild game (venison, wild boar) are definitely going to be paired up with this hearty brew. I could see this being my go-to brew on those cold wintry night by the fireside and a hearty cigar. The alcohol content (11.3% ABV) is absolutely warming and very well hidden in this delicious brew! Cue the choir!!\n",
      "\n",
      "Good reviews\n",
      "-1\t330 mL bottle poured into a goblet. The aroma is initially a bright cherrywood note with a touch of smokiness and a light resin quality. This aroma blends into a port wine note consisting of an alcohol touch with fruity flare - tart cherry, plum, strawberry, and a light banana note - with undertones of buttery pie crust and brown sugar. It?s a murky opaque dark cherry brown with a dense foam, tan head that retains a medium-thick ring and a solid, soft foam surface, and leaves only a light, but dense wisp, lacing on the glass. The taste is a medium high bittersweet port wine. The texture is thick and oily with an abundant fuzzy carbonation to smooth things out. The body is full with lots of plum and raisin notes as well as a woody feel. There?s a mellow and smooth wine warmth at the finish with toffee, sweet cherry, and plum flavors. The aftertaste is dry and clean with a toffee and spice touch.Aged 1 yr, 3/13/2016. Strong boozy wood aromas greet the nose with bourbon port wine. This settles to eventually reveal caramel and cola. It pours a murky raisin color with soft, light, beige head that showd mild retention and sparse lace. The taste a a medium high sweet with a medium bitter. Foamy carbonation accompanies a slick texture. The medium full body has a woody spice and cola profile with a light leather quality. Tastes of smokey, light raisin emerges and turns to chocolate and cherry. The finish is similar to port wine with a clove spice and a light grape jelly. Itâs aftertaste is light, dry, and clean  with clove and mild port wine flavors\n",
      "-2\t11.2 oz bottle poured into a tulip.A: Pours a very dark ruby red color with good clarity and little yeast floaties on the bottom of the glass. The head is initially a three finger light mocha color with huge bubbles and a bubbling carbonation show, ultimately settling into a one finger head with a nice creamy texture. Little lacing is left on the glass.S: Very vibrant. Chocolate, raisins, currants, plums, cherries, green pear, cloves, and spices all intermingle with great complexity; every smell provides a subtly different aroma.T: The first sip brings waves of darker dried fruits, leaving a fantastic chocolaty finish and aftertaste. The initial sips give way to more of a flavor very reminiscent of cherry pie filling. At various points afterward, I can also pick out light licorice, hints of grassy hops, fig newtons, chewing tobacco, brown sugar, spices, and other subtle hard-to-identify flavors. Stunning complexity with a fantastic lingering aftertaste. This is freakinâ heaven, plain and simple. The alcohol is as perfectly integrated as Iâve ever seen in a beer, warming the body without being palpable on the flavor.M: Amazingly smooth until the midtaste, where the yeasty astringency builds dryness on the tongue, giving it surprising drinkability. Alcohol lightly stings the tongue in conjunction with the carbonation. The dryness becomes a bit excessive at times, but otherwise it feels fantastic on the palateO: Plain and simple, a triumph of brewing finesse. Faint niggles here and there canât even come close to ruining this beerâs immense glory. Magnificent.\n",
      "-3\tSecond Review:Pours a dark opaque brown with a thick, creamy, tan head. The head dwindles and leaves lacing that is thick and clingy; CO2 only visible along the edge of the head. Aroma is malty, roasted, spicy and some hints bubblegum. The flavors are sweet, roasted, fruit, spicy. Sweet start with a tart middle and a dry finish. Mouthfeel is full bodied, smooth and effervescent. A definite warming presence of alcohol. A great beer with a lot of character; complex but not overpowering.Well-balanced and intense without being over the top.First Review:Presentation: 33cl brown bottle with freshness date of 26/08/08Deep brown color a light brown head with signs of light carbonation. The head diminished to a fine layer quickly leaving a nice band of lace around the glass. Aroma is initially astringent and wine like, but more complex smells and flavors emerge as the beer warms: fruity bubblegum notes, dried fruits and caramel and an earthy background. Flavor is complex and full: sweet fruity and caramel start with a quick tart middle and a lingering tangy hop finish. Mouthfeel is full bodied and syrupy with an alcohol finish and a surprising amount of effervescence.\n",
      "-4\t11.2oz bottle that Iâve been sitting on for about 2 years. Pours a cloudy, brown colored body with an amber tint to it. Just a few trace pieces of sediment. Finger-width, creamy and frothy, tan head that dissipates fairly quickly and leaves lots of lacing on the glass. Aroma is much richer than either the 6 or 8. Tons of deep caramels, chocolate, and toffee. There are also heaps of dark fruits to accompany the vast array of malts. Not as floral as the 6 or 8, but loaded with prunes, raisins, dates, plums, and definitely some black currants and other black berries. A bit of a syrupy sweetness, banana bread, thick yeasts, and some peppery alcohol. Very big, thick, dense, and complex aroma. Flavor is more the same. Heaps of caramel and chocolate, dark fruits, and some molasses-bread. Raisins, dates, prunes, plums, and a nice berry-like, black currant taste with just a pinch of sharpness. Syrupy sweetness with some more banana bread, peppery spices, nuts, earth, and a somewhat salty alcohol. Finishes rich, warm, and layered with a solid bitterness that slowly dries with a lengthy aftertaste. Full body, very smooth, and a soft, creamy carbonation. Overall, I tasted the 6, 8, and 10 side-by-side and I wanted to like the 6 or 8 more than the 10. I was HOPING this beer was overrated, but this beer is awesome. Big, soft, rich, and complex, I have nothing to complain about here. This beer is spectacular and anything but overrated. Wow.\n",
      "\n",
      "Random reviews\n",
      "1844\tBeautiful nut brown with persistent creamy head. Bread, toffee and some red fruits in the nose. Caramel, bread and nuts fill the mouth with bold, nice body, fresh carbonation. Long, sweet and liquorous closure. Really marvelous.\n",
      "1809\tBottle. Pours a very dark brown a with a moderate off-white head. Nose has nominally sweet, but slightly sour notes with some stronger dark fruit in there. Taste is rather sweet and yeasty. Not my style.\n",
      "2352\tPerfect in every way. I hate giving out fives and probably do it too much but i couldnt stop smiling while i drank this. so complex. dark fruit and bread. full bodied. Leaves a aftertaste that is slightly astringent and sugary. Still trying to figure that part out. It makes my tongue feel kinda strange...not in a bad way. A lot of alcohol but not harsh. the best quad ive experienced. After being opened for a while, the aroma really opens. If you take a really deep breath, you get that hot alcohol. But the bread, nuts and banana is there. God i love this beer.\n",
      "2883\tDark brown body with off-white head. Multiple ripe dark fruits, spice, wood and alcohol  in the nose. Flavor is spicy, semi-sweet, some bitterness, and noticeably boozy. Somewhat thin with moderate carbonation. Good but quads just donât stand out for me.\n"
     ]
    }
   ],
   "source": [
    "df_merged = pd.merge(df_reviews[df_reviews['beer_id'] == top3_beer_id[1]], breakfast_stout, how='outer', on='user_id').dropna()\n",
    "\n",
    "df_merged.sort_values(by=['expertness_score'], inplace=True)\n",
    "\n",
    "\n",
    "print(df_merged.beer_name_x[0])\n",
    "print_reviews(df_merged, n_rev)"
   ]
  },
  {
   "cell_type": "code",
   "execution_count": 35,
   "metadata": {},
   "outputs": [
    {
     "name": "stdout",
     "output_type": "stream",
     "text": [
      "Chimay Bleue (Blue) / Grande Réserve\n",
      "Bad reviews\n",
      "321\tTasted a bottle of 1999. First taste reminds more of old books and dust but in the end a subtle sweet taste takes the upperhand. Very nice carbonisation for this age still.\n",
      "654\tA trappist beer. Dark nice taste of dark choclate.It dossenât fell like itâs 9%, one hellluva nice beer from Belgium.Itâs easy to get but its nice\n",
      "567\t3 liter bottleThis is a yeast driven malty beer. It went very well with our Thanksgiving dinner. A solid beer, worth revisiting from time to time.\n",
      "489\tGreat beer with a small touch of alcohol in the aroma.  Just enough alcohol to warm the senses and a wonderful taste to match.\n",
      "\n",
      "Good reviews\n",
      "-1\t(Re-rated on 3/8/2016):Rationale: I was new to the style back then. With experience I want to revisit one of my favorite, and see if I like it as much as I was then. So here goes!330 ml bottle bought at CitySuper in Harbour City, Tsim Sha Tsui.Looks: Cloudy hazy amber brown colour with a layer of yeast sediments; One and a quarter finger head with creamy, lasting light beige foam; Excellent sticky lacing with fizzy carbonation.Aroma: Very fragrant rich dark malt, with strong plum, raisins, figs, light Brandy, nice alcohol, vanilla, strong caramel, strong toffee, whipped cream, candi sugar, sweet bread, strong Bel yeast and light grass. Lovely!Taste: Mid to strong sweet full dark malt, with strong plums figs, metallic, smart alcohol, light liquorices, caramel, toffee, molasses, strong spices, earth, biscuits, strong Bel yeast, lime, herbs, fairly strong bitter hops and grass.Body: Full body. Dry, slick and creamy palate.Mouth Feel: Rich dark malt in a very smooth and solid background. Creamy and very Bock-ish. Then very strong plums and figs hit hard and fast followed by well-attenuated dry alcohol and liquorices and you know right away this is classy! Layered caramel and toffee with perfect medium sweetness. Most of it went to the booze, the rest is nice dryness. Spicy, slightly earthy and quite biscuit Bel yeast, round with pretty strong lime and herbs. Close to perfect!Booze: I couldnât handle the 9% abv back then and got KO-ed fast with a rush. Now the booze tasted dry, tasty and quite restrained and I appreciated it even more!Hoppiness: Light grass in nose. Lime, herbs and grass in taste; Bitterness is fairly strong for a lasting, mid to high astringent bitter-sweet fruity malt finish.After Taste: Quite dry. Creamy, fruity and nice herbal bitter to mouth.Comments: Looking back, I think my original rating is just about right, but with a new appreciation with a bit more tasting experience today: Bold but subtle aroma and taste manifested with lots of plums, darks fruits, Bock-ish maltyness. Backed by perfectly-exceuted dry booze with subtle liquorices, and limey herbal hoppiness. All these niceties at the most affordable price you can have as Chimay being the most widely distributed Trappist beers in the city. Everything seems to works in its flavor and it earns it. Brilliant!-------- />(riginally rrated  on 6 February 2013):Cloudy dark ale brown colour; Very good head and frothy, though not as big as like Chimay White; Fine smell of caramel, vanilla, yeast, malt and some flowery fragrance; hops taste is minimal. It is very smooth to mouth with full body, creamy texture, with lingering taste of sweet toffee; lacing is not as apparent as Chimay White; Palate is subtle, lively, organically smooth throughtout with sweet after taste. At abv 9%, itâs really strong, with the rush come after 5-7 minutes but itâs gradual and you wonât get a bad trip, lovely feeling really. :)Comment: The best from Chimay, like everyone who have high regard with it, I love it for being the most subtle Chimay beers among the tri-colors; Lucky enough I bought a brunch of Chimay Blues at bargain price (looks like the people at the supermarket doesnât know how good this is!) so Iâll have a great holiday treasuring them. Definitely one of the best Trappist beer in the World. Period.(Original score: Aroma: 8/10; Looks: 4/5; Taste: 10/10; Palate: 5/5; Overall: 20/20)\n",
      "-2\tWho could honestly go past a bottle of Grande RÃ©serve Chimay and say no thankyou! This is an ale that has been tasted by near everyone with any interest in beer whether they have any inklings towards its roots or not. A background favourite of mine I waited until I had cracked a 2001 before rating this. 2004- Poured into its own chalice at around cellar temperature. Extremely muddy with the yeast dispersing into a pulped fruit mess inside the cola brown body with an enormous, creamy beige crown raising up and persisting for the length to trail fine lacing down the glass. Heady aroma, quite woody almost oak-aged with fresh pulped zesty plums, red wine dryness, spicy yeast and an underlying earthy mustiness like old hops. Lovely smooth and almost creamy mouthfeel; vinous notes set it off and develop into an earthy woody mix of malt and hops. Plums and blueberries, driftwood, peppery alcohol and yeast phenols and a hint of pecan pie develop to linger long in the mouth hiding that 9% ABV. Warming and homely, this example seemed more woody than most that I have tried with a long finish that was like a well aged plum wine. Seemed to have more age than the 2001. Quite nice. (75cL, Nookenburra) 2001- Poured into its own chalice at cellar temperature. Quite clear, deep ruby red with a tinge of brown. Head formed off the pour; extremely dense and creamy beige, held in place by streams of very, very fine bubbles to leave a mist over the glass as I drank. Pungent and tart, port-like nose with an immense spicy waft of alcohol and the famous house yeast. Other dried fruits were there with a lick of bitter/sweet chocolate and a touch of polished Jarrah (?). Extremely wine-like in the mouth; mellowing, smooth and yet prickly across the tongue with a good dose of medicinal alcohol that didnât hinder it at all. Blackcurrantâs, raisins and those distinctive plum notes abound, this was like an after dinner elixir to stir up the rawest of emotion, by the fire with a loved one perhaps. Finish is as smooth as silk letting the alcohol warm to its full extent along with a deeply vinous  roundness and depth. I love a good strong ale, and Chimay delivers with fervour. (75cL, Vintage Cellars, Adelaide) As I said âwho could go past a Chimayâ!\n",
      "-3\t750 ml bottle into signature chalice, bottled in 4/2013. Pours moderately hazy deep ruby red color with a 1-2 finger fairly dense light khaki head with good retention, that reduces to a thin cap that lingers. Light spotty soapy lacing clings on the glass, with a large amount of streaming carbonation retaining the cap. Aromas of big pear, apple, raisin, plum, pepper, clove, banana, caramel, candi sugar, toast, brown bread, floral, and yeast earthiness. Damn nice aromas with good balance and complexity of fruity/spicy yeast ester and malt notes; with good strength. Taste of big raisin, plum, pear, apple, light banana, caramel, candi sugar, toast, brown bread, clove, pepper, floral, and yeast earthiness. Lingering notes of light/dark fruits, light banana, clove, pepper, caramel, candi sugar, toast, brown bread, floral, and yeast earthiness on the finish for a while. Fantastic complexity of malt and fruity/spicy yeast flavors; with a great crisp malt/fruity/spicy flavor balance and zero cloying flavors after the finish. Medium-high carbonation and medium bodied; with a lightly slick, crisp, and moderately prickly mouthfeel that is nice. Alcohol is very well hidden with minimal warming present after the finish. Overall this is a highly excellent Belgian dark ale. All around great balance and complexity of fruity/spicy yeast and malt flavors; and very smooth to sip on for the ABV. A highly enjoyable offering.\n",
      "-4\t2016-12-24, fresh, batch L16-066, bb 12-2021, 7-5-6-3-13=34Gorgeous look, but average taste. The aroma is somehow interesting, there is an earthy and spicy touch. The body is on the thin side for this beer, the malt doesnât have enough depth, traces of vegetables; but the final is smooth.2010-02-18, parallel tasting, vintage 1988 (bb 1991), 22 years old, 7-3-7-3-14=34The cap is in good conditions, a bit rusty, but the rubber is still functional; it pours a brown color, initially with a small head, but that vanishes quickly in a whiff. Medium strength caramel aroma, with unmistakable oxidization vein, but not annoying; very light impression of dust and pond water too. It has a good body structure, stronger than most 20yearsold beers tasted so far, yet quite flat; caramel flavor, sweetish; the ageing created an extra flavor of mellow liquorice; almost no trace of bitterness, instead the sweetness is balanced by the alcohol, that is easily perceived through a pervasive warmth in the mouth. Interesting, but not outstanding.2010-02-18, parallel tasting, vintage 1998 (bb 2003), 12 years old, 7-4-6-3-13=33The cap is in good conditions; it pours a dark brown color, darker than the 1988; the head is initially large, but even after some time itâs still half a centimeter thick. Medium to light aroma, with some caramel and soap; also very light vanilla, wood, cake, nuts and Madeira; pleasant. Being more carbonated than the 1988, the mouthfeel seems lighter; itâs undoubtedly less sweet, even if there is a residual sweetness; there is some caramel flavor, less oxidization, and equally lack of bitterness, as well as there is almost no alcohol warmth. The two beers are similar, but in 10 years the 1998 wonât become like the 1988: not enough malty.2010-02-18, parallel tasting, vintage 2008 (bb 2013), 2 years old, 6-4-7-3-13=33It pours a dark brown color, darker than the 1988; very large head, frothy more than creamy, but quite persistent. Medium to light aroma, with some caramel, soap, refined sugar, yeast. Average body structure, definitively slimmer than the 1988, possibly drier than the 1998; there is some caramel flavor, quite boring indeed; some more bitterness than in the other vintages, more balanced therefore; the final is also a bit nutty, and the alcohol warmth is just what is expected from a 9% beer. Unimpressive.2008-02-03, vintage 2000, 7 years old, Grande Reserve corked 75cl bottle, 6-5-7-3-14=35It pours a beautiful dark mahogany color with red shades, and a creamy head. It smells too much the cork, with some caramel too, and a touch of cellar. Medium body (maybe less than the fresh one), with a good dark caramel flavor. The bitterness is almost gone. At the end the alcohol nicely warms the tongue. In the end there is some complexity, wood flavors and traces of oxidization. More an experience than a great beer.2003-01-16, vintage 2001, 1 year old, 9-5-8-4-17=43Dark amber color, generous head, reducing to a thin creamy collar.Interesting aroma: malt, light liquorice, whisky; 1 extra point for the harmony, more than for the specific characteristics.Good body structure and perfect balance of malt and hop; pretty dry taste (considering the alcohol content and style); smooth, warming, some alcohol sensation; some caramel and liquorice. Improves while warming and oxidizing.Bitter sweet final, harmonious but not particularly strong nor aromatic.I used to love this, but possibly it has changed in the last years; I would prefer other Trappistesâ¦\n",
      "\n",
      "Random reviews\n",
      "1789\tVery dark brown in colour, almost opaque! Nice smell, some sweetness in the aroma, but definately not overpowering! Heavy malt and a great aftertaste, although somewhat a bit more mild than I remember from the first time I sampled it! Still a great beer, but I prefer other belgians still!\n",
      "1754\tA 2012 Blue Chimay. Dark brown, a bit shady. Thick white head.  Complex Belgian style yeast aroma. Strong. 9% ABV. Would probably gain if stored a couple of years (Best before end 2017).\n",
      "2297\tI donât know why all the dislikes on this beer ....In my opinion this beer is EEEEEEpic!!!!Nice typical trappist smell fruity and floral! Color is brown and red with big foamy head.feels like a sweet beer but the magic happens when you feel the perfect balance between ingredients. not too sweet just charming on a cold day the malt taste is really present with a delicious hop/biter aftertastethis really holds up nice in mouth!!! have it a try\n",
      "2828\tFrom bronze to brown color with a kaki cloudy head. This is very complex and flavorful. Deep smells of plums and yeast. Also floral and herbs notes. Spices touch my taste buds first then a complex taste of roasty malt, caramel and plums.  One of the best beer ever.\n"
     ]
    }
   ],
   "source": [
    "df_merged = pd.merge(df_reviews[df_reviews['beer_id'] == top3_beer_id[2]], pliny, how='outer', on='user_id').dropna()\n",
    "\n",
    "df_merged.sort_values(by=['expertness_score'], inplace=True)\n",
    "\n",
    "print(df_merged.beer_name_x[0])\n",
    "print_reviews(df_merged, n_rev)"
   ]
  },
  {
   "cell_type": "markdown",
   "metadata": {},
   "source": [
    "### 90 Minute IPA\n",
    "\n",
    "[link](https://www.dogfish.com/brewery/beer/90-minute-ipa)<br>\n",
    "With rich pine and fruity citrus hop aromas and a strong malt backbone, 90 Minute IPA created pungent, unapologetic flavor that led Esquire to call it “perhaps the best IPA in America.”<br>\n",
    "Color: Golden amber <br>\n",
    "Aroma: Heavy piney and citrus hop aromas <br>\n",
    "Flavour: Brandied fruitcake, raisiney, citrusy <br>\n",
    "Mouthfeel: Full and malty with slightly lingering bitterness\n",
    "\n",
    "### Founders Breakfast Stout\n",
    "\n",
    "[link](https://foundersbrewing.com/our-beer/breakfast-stout/)<br>\n",
    "Coffee lovers: get your mugs ready because this is the perfect beer for you. Brewed with an abundance of flaked oats, specialty chocolates, and two types of coffee, this stout has an intense fresh-roasted java nose topped with a frothy, cinnamon-colored head that goes forever. With low bitterness and just the right amount of sweetness, you’ll be coming back for seconds.\n",
    "\n",
    "Tasting notes: Breakfast-inspired flavors of roasted coffee, chocolate, and caramelized sugar, with low bitterness and just the right amount of sweetness.\n",
    "\n",
    "### Pliny The Elder\n",
    "\n",
    "[link](https://beerandbrewing.com/review/pliny-the-elder/)\n",
    "Pliny the Elder is brewed with Amarillo, Centennial, CTZ, and Simcoe hops. It is well-balanced with malt, hops, and alcohol, slightly bitter with a fresh hop aroma of floral, citrus, and pine.\n",
    "\n",
    "Aroma: “Nice bright tropical fruit with notes of mango, pineapple, grapefruit, and pine. Some noticeable light malt sweetness as it warms. Dank aroma.”\n",
    "\n",
    "Flavor: “Nice malt sweetness that balances out the bitterness. Slight grassiness, notes of pineapple, pear, grapefruit, mango, and tangerine. Finish is decidedly bitter and lingering.”\n",
    "\n",
    "Overall: “Good level of hop flavor and a delicately restrained bitterness to help showcase hop aroma and flavor.”\n",
    "\n",
    "### Hopslam Ale  \n",
    "\n",
    "[link](https://bellsbeer.com/beers/hopslam-ale/)<br>\n",
    "Flavor Profile: Huge citrus, Floral & Fruit Hop Notes, Grapefruit, Stone Fruit, and Floral Aromas all from Hops\n",
    "Beer Info: Selected specifically because of their aromatic qualities, these Pacific Northwest varieties contribute a pungent blend of grapefruit, stone fruit, and floral notes. A generous malt bill and a solid dollop of honey provide just enough body to keep the balance in check, resulting in a remarkably drinkable rendition of the Double IPA style."
   ]
  },
  {
   "cell_type": "code",
   "execution_count": null,
   "metadata": {},
   "outputs": [],
   "source": [
    "del df_scores, df_reviews, df_merged"
   ]
  }
 ],
 "metadata": {
  "kernelspec": {
   "display_name": "ada",
   "language": "python",
   "name": "python3"
  },
  "language_info": {
   "codemirror_mode": {
    "name": "ipython",
    "version": 3
   },
   "file_extension": ".py",
   "mimetype": "text/x-python",
   "name": "python",
   "nbconvert_exporter": "python",
   "pygments_lexer": "ipython3",
   "version": "3.11.10"
  }
 },
 "nbformat": 4,
 "nbformat_minor": 2
}
